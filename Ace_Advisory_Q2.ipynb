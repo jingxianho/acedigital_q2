{
  "nbformat": 4,
  "nbformat_minor": 0,
  "metadata": {
    "colab": {
      "provenance": []
    },
    "kernelspec": {
      "name": "python3",
      "display_name": "Python 3"
    },
    "language_info": {
      "name": "python"
    },
    "widgets": {
      "application/vnd.jupyter.widget-state+json": {
        "ee0714490d9747d5b109ac87220d5ecd": {
          "model_module": "@jupyter-widgets/controls",
          "model_name": "HBoxModel",
          "model_module_version": "1.5.0",
          "state": {
            "_dom_classes": [],
            "_model_module": "@jupyter-widgets/controls",
            "_model_module_version": "1.5.0",
            "_model_name": "HBoxModel",
            "_view_count": null,
            "_view_module": "@jupyter-widgets/controls",
            "_view_module_version": "1.5.0",
            "_view_name": "HBoxView",
            "box_style": "",
            "children": [
              "IPY_MODEL_9e4e3bbc7f71432b88631bbc5d7bcf07",
              "IPY_MODEL_bf90d55a7cbb432bbc8ebf87cc2a9a7d",
              "IPY_MODEL_6a8357f5e46a473ea7fc0cc77b26a628"
            ],
            "layout": "IPY_MODEL_2b921791be274100806d705a682eba80"
          }
        },
        "9e4e3bbc7f71432b88631bbc5d7bcf07": {
          "model_module": "@jupyter-widgets/controls",
          "model_name": "HTMLModel",
          "model_module_version": "1.5.0",
          "state": {
            "_dom_classes": [],
            "_model_module": "@jupyter-widgets/controls",
            "_model_module_version": "1.5.0",
            "_model_name": "HTMLModel",
            "_view_count": null,
            "_view_module": "@jupyter-widgets/controls",
            "_view_module_version": "1.5.0",
            "_view_name": "HTMLView",
            "description": "",
            "description_tooltip": null,
            "layout": "IPY_MODEL_30683ac616de4fe1973beb80a3b658b9",
            "placeholder": "​",
            "style": "IPY_MODEL_d47c462e89414aed80f880e19872263c",
            "value": "Processing: 100%"
          }
        },
        "bf90d55a7cbb432bbc8ebf87cc2a9a7d": {
          "model_module": "@jupyter-widgets/controls",
          "model_name": "FloatProgressModel",
          "model_module_version": "1.5.0",
          "state": {
            "_dom_classes": [],
            "_model_module": "@jupyter-widgets/controls",
            "_model_module_version": "1.5.0",
            "_model_name": "FloatProgressModel",
            "_view_count": null,
            "_view_module": "@jupyter-widgets/controls",
            "_view_module_version": "1.5.0",
            "_view_name": "ProgressView",
            "bar_style": "",
            "description": "",
            "description_tooltip": null,
            "layout": "IPY_MODEL_9035e5496cbd4cfda46fb83276c7b346",
            "max": 81,
            "min": 0,
            "orientation": "horizontal",
            "style": "IPY_MODEL_a130dd2fb4c943d6b382ed2e16001fb2",
            "value": 81
          }
        },
        "6a8357f5e46a473ea7fc0cc77b26a628": {
          "model_module": "@jupyter-widgets/controls",
          "model_name": "HTMLModel",
          "model_module_version": "1.5.0",
          "state": {
            "_dom_classes": [],
            "_model_module": "@jupyter-widgets/controls",
            "_model_module_version": "1.5.0",
            "_model_name": "HTMLModel",
            "_view_count": null,
            "_view_module": "@jupyter-widgets/controls",
            "_view_module_version": "1.5.0",
            "_view_name": "HTMLView",
            "description": "",
            "description_tooltip": null,
            "layout": "IPY_MODEL_bac5acf9c028406ab676e23b520ac022",
            "placeholder": "​",
            "style": "IPY_MODEL_92b3aa6eba8546f0a0562e86a2db5770",
            "value": " 81/81 [00:51&lt;00:00,  2.82it/s]"
          }
        },
        "2b921791be274100806d705a682eba80": {
          "model_module": "@jupyter-widgets/base",
          "model_name": "LayoutModel",
          "model_module_version": "1.2.0",
          "state": {
            "_model_module": "@jupyter-widgets/base",
            "_model_module_version": "1.2.0",
            "_model_name": "LayoutModel",
            "_view_count": null,
            "_view_module": "@jupyter-widgets/base",
            "_view_module_version": "1.2.0",
            "_view_name": "LayoutView",
            "align_content": null,
            "align_items": null,
            "align_self": null,
            "border": null,
            "bottom": null,
            "display": null,
            "flex": null,
            "flex_flow": null,
            "grid_area": null,
            "grid_auto_columns": null,
            "grid_auto_flow": null,
            "grid_auto_rows": null,
            "grid_column": null,
            "grid_gap": null,
            "grid_row": null,
            "grid_template_areas": null,
            "grid_template_columns": null,
            "grid_template_rows": null,
            "height": null,
            "justify_content": null,
            "justify_items": null,
            "left": null,
            "margin": null,
            "max_height": null,
            "max_width": null,
            "min_height": null,
            "min_width": null,
            "object_fit": null,
            "object_position": null,
            "order": null,
            "overflow": null,
            "overflow_x": null,
            "overflow_y": null,
            "padding": null,
            "right": null,
            "top": null,
            "visibility": "hidden",
            "width": null
          }
        },
        "30683ac616de4fe1973beb80a3b658b9": {
          "model_module": "@jupyter-widgets/base",
          "model_name": "LayoutModel",
          "model_module_version": "1.2.0",
          "state": {
            "_model_module": "@jupyter-widgets/base",
            "_model_module_version": "1.2.0",
            "_model_name": "LayoutModel",
            "_view_count": null,
            "_view_module": "@jupyter-widgets/base",
            "_view_module_version": "1.2.0",
            "_view_name": "LayoutView",
            "align_content": null,
            "align_items": null,
            "align_self": null,
            "border": null,
            "bottom": null,
            "display": null,
            "flex": null,
            "flex_flow": null,
            "grid_area": null,
            "grid_auto_columns": null,
            "grid_auto_flow": null,
            "grid_auto_rows": null,
            "grid_column": null,
            "grid_gap": null,
            "grid_row": null,
            "grid_template_areas": null,
            "grid_template_columns": null,
            "grid_template_rows": null,
            "height": null,
            "justify_content": null,
            "justify_items": null,
            "left": null,
            "margin": null,
            "max_height": null,
            "max_width": null,
            "min_height": null,
            "min_width": null,
            "object_fit": null,
            "object_position": null,
            "order": null,
            "overflow": null,
            "overflow_x": null,
            "overflow_y": null,
            "padding": null,
            "right": null,
            "top": null,
            "visibility": null,
            "width": null
          }
        },
        "d47c462e89414aed80f880e19872263c": {
          "model_module": "@jupyter-widgets/controls",
          "model_name": "DescriptionStyleModel",
          "model_module_version": "1.5.0",
          "state": {
            "_model_module": "@jupyter-widgets/controls",
            "_model_module_version": "1.5.0",
            "_model_name": "DescriptionStyleModel",
            "_view_count": null,
            "_view_module": "@jupyter-widgets/base",
            "_view_module_version": "1.2.0",
            "_view_name": "StyleView",
            "description_width": ""
          }
        },
        "9035e5496cbd4cfda46fb83276c7b346": {
          "model_module": "@jupyter-widgets/base",
          "model_name": "LayoutModel",
          "model_module_version": "1.2.0",
          "state": {
            "_model_module": "@jupyter-widgets/base",
            "_model_module_version": "1.2.0",
            "_model_name": "LayoutModel",
            "_view_count": null,
            "_view_module": "@jupyter-widgets/base",
            "_view_module_version": "1.2.0",
            "_view_name": "LayoutView",
            "align_content": null,
            "align_items": null,
            "align_self": null,
            "border": null,
            "bottom": null,
            "display": null,
            "flex": null,
            "flex_flow": null,
            "grid_area": null,
            "grid_auto_columns": null,
            "grid_auto_flow": null,
            "grid_auto_rows": null,
            "grid_column": null,
            "grid_gap": null,
            "grid_row": null,
            "grid_template_areas": null,
            "grid_template_columns": null,
            "grid_template_rows": null,
            "height": null,
            "justify_content": null,
            "justify_items": null,
            "left": null,
            "margin": null,
            "max_height": null,
            "max_width": null,
            "min_height": null,
            "min_width": null,
            "object_fit": null,
            "object_position": null,
            "order": null,
            "overflow": null,
            "overflow_x": null,
            "overflow_y": null,
            "padding": null,
            "right": null,
            "top": null,
            "visibility": null,
            "width": null
          }
        },
        "a130dd2fb4c943d6b382ed2e16001fb2": {
          "model_module": "@jupyter-widgets/controls",
          "model_name": "ProgressStyleModel",
          "model_module_version": "1.5.0",
          "state": {
            "_model_module": "@jupyter-widgets/controls",
            "_model_module_version": "1.5.0",
            "_model_name": "ProgressStyleModel",
            "_view_count": null,
            "_view_module": "@jupyter-widgets/base",
            "_view_module_version": "1.2.0",
            "_view_name": "StyleView",
            "bar_color": null,
            "description_width": ""
          }
        },
        "bac5acf9c028406ab676e23b520ac022": {
          "model_module": "@jupyter-widgets/base",
          "model_name": "LayoutModel",
          "model_module_version": "1.2.0",
          "state": {
            "_model_module": "@jupyter-widgets/base",
            "_model_module_version": "1.2.0",
            "_model_name": "LayoutModel",
            "_view_count": null,
            "_view_module": "@jupyter-widgets/base",
            "_view_module_version": "1.2.0",
            "_view_name": "LayoutView",
            "align_content": null,
            "align_items": null,
            "align_self": null,
            "border": null,
            "bottom": null,
            "display": null,
            "flex": null,
            "flex_flow": null,
            "grid_area": null,
            "grid_auto_columns": null,
            "grid_auto_flow": null,
            "grid_auto_rows": null,
            "grid_column": null,
            "grid_gap": null,
            "grid_row": null,
            "grid_template_areas": null,
            "grid_template_columns": null,
            "grid_template_rows": null,
            "height": null,
            "justify_content": null,
            "justify_items": null,
            "left": null,
            "margin": null,
            "max_height": null,
            "max_width": null,
            "min_height": null,
            "min_width": null,
            "object_fit": null,
            "object_position": null,
            "order": null,
            "overflow": null,
            "overflow_x": null,
            "overflow_y": null,
            "padding": null,
            "right": null,
            "top": null,
            "visibility": null,
            "width": null
          }
        },
        "92b3aa6eba8546f0a0562e86a2db5770": {
          "model_module": "@jupyter-widgets/controls",
          "model_name": "DescriptionStyleModel",
          "model_module_version": "1.5.0",
          "state": {
            "_model_module": "@jupyter-widgets/controls",
            "_model_module_version": "1.5.0",
            "_model_name": "DescriptionStyleModel",
            "_view_count": null,
            "_view_module": "@jupyter-widgets/base",
            "_view_module_version": "1.2.0",
            "_view_name": "StyleView",
            "description_width": ""
          }
        },
        "24374b9536e5417095911dc05c306c31": {
          "model_module": "@jupyter-widgets/controls",
          "model_name": "HBoxModel",
          "model_module_version": "1.5.0",
          "state": {
            "_dom_classes": [],
            "_model_module": "@jupyter-widgets/controls",
            "_model_module_version": "1.5.0",
            "_model_name": "HBoxModel",
            "_view_count": null,
            "_view_module": "@jupyter-widgets/controls",
            "_view_module_version": "1.5.0",
            "_view_name": "HBoxView",
            "box_style": "",
            "children": [
              "IPY_MODEL_9ebe33c7668746dc9455ba8b539b979e",
              "IPY_MODEL_fcd84a538140443da167c43bb8455a72",
              "IPY_MODEL_344aef97cc1e458da34bb43e8c753cf4"
            ],
            "layout": "IPY_MODEL_4cae07c9c4734767aa6904ed35ec0728"
          }
        },
        "9ebe33c7668746dc9455ba8b539b979e": {
          "model_module": "@jupyter-widgets/controls",
          "model_name": "HTMLModel",
          "model_module_version": "1.5.0",
          "state": {
            "_dom_classes": [],
            "_model_module": "@jupyter-widgets/controls",
            "_model_module_version": "1.5.0",
            "_model_name": "HTMLModel",
            "_view_count": null,
            "_view_module": "@jupyter-widgets/controls",
            "_view_module_version": "1.5.0",
            "_view_name": "HTMLView",
            "description": "",
            "description_tooltip": null,
            "layout": "IPY_MODEL_a568348092994cd9a2533cd1d37d3b30",
            "placeholder": "​",
            "style": "IPY_MODEL_0afda0b4e74245368e2c82a5fcc56449",
            "value": "Processing: 100%"
          }
        },
        "fcd84a538140443da167c43bb8455a72": {
          "model_module": "@jupyter-widgets/controls",
          "model_name": "FloatProgressModel",
          "model_module_version": "1.5.0",
          "state": {
            "_dom_classes": [],
            "_model_module": "@jupyter-widgets/controls",
            "_model_module_version": "1.5.0",
            "_model_name": "FloatProgressModel",
            "_view_count": null,
            "_view_module": "@jupyter-widgets/controls",
            "_view_module_version": "1.5.0",
            "_view_name": "ProgressView",
            "bar_style": "",
            "description": "",
            "description_tooltip": null,
            "layout": "IPY_MODEL_837e9053edb84630956b1f4beed1c1b0",
            "max": 4,
            "min": 0,
            "orientation": "horizontal",
            "style": "IPY_MODEL_d2dc6d0336244eddbdcefb8ce9a2f5c8",
            "value": 4
          }
        },
        "344aef97cc1e458da34bb43e8c753cf4": {
          "model_module": "@jupyter-widgets/controls",
          "model_name": "HTMLModel",
          "model_module_version": "1.5.0",
          "state": {
            "_dom_classes": [],
            "_model_module": "@jupyter-widgets/controls",
            "_model_module_version": "1.5.0",
            "_model_name": "HTMLModel",
            "_view_count": null,
            "_view_module": "@jupyter-widgets/controls",
            "_view_module_version": "1.5.0",
            "_view_name": "HTMLView",
            "description": "",
            "description_tooltip": null,
            "layout": "IPY_MODEL_0a4b360257b14b5cb45069e1eb7f0cf4",
            "placeholder": "​",
            "style": "IPY_MODEL_3d9bf440ab4547dfbaf695d621add56c",
            "value": " 4/4 [00:07&lt;00:00,  1.66s/it]"
          }
        },
        "4cae07c9c4734767aa6904ed35ec0728": {
          "model_module": "@jupyter-widgets/base",
          "model_name": "LayoutModel",
          "model_module_version": "1.2.0",
          "state": {
            "_model_module": "@jupyter-widgets/base",
            "_model_module_version": "1.2.0",
            "_model_name": "LayoutModel",
            "_view_count": null,
            "_view_module": "@jupyter-widgets/base",
            "_view_module_version": "1.2.0",
            "_view_name": "LayoutView",
            "align_content": null,
            "align_items": null,
            "align_self": null,
            "border": null,
            "bottom": null,
            "display": null,
            "flex": null,
            "flex_flow": null,
            "grid_area": null,
            "grid_auto_columns": null,
            "grid_auto_flow": null,
            "grid_auto_rows": null,
            "grid_column": null,
            "grid_gap": null,
            "grid_row": null,
            "grid_template_areas": null,
            "grid_template_columns": null,
            "grid_template_rows": null,
            "height": null,
            "justify_content": null,
            "justify_items": null,
            "left": null,
            "margin": null,
            "max_height": null,
            "max_width": null,
            "min_height": null,
            "min_width": null,
            "object_fit": null,
            "object_position": null,
            "order": null,
            "overflow": null,
            "overflow_x": null,
            "overflow_y": null,
            "padding": null,
            "right": null,
            "top": null,
            "visibility": "hidden",
            "width": null
          }
        },
        "a568348092994cd9a2533cd1d37d3b30": {
          "model_module": "@jupyter-widgets/base",
          "model_name": "LayoutModel",
          "model_module_version": "1.2.0",
          "state": {
            "_model_module": "@jupyter-widgets/base",
            "_model_module_version": "1.2.0",
            "_model_name": "LayoutModel",
            "_view_count": null,
            "_view_module": "@jupyter-widgets/base",
            "_view_module_version": "1.2.0",
            "_view_name": "LayoutView",
            "align_content": null,
            "align_items": null,
            "align_self": null,
            "border": null,
            "bottom": null,
            "display": null,
            "flex": null,
            "flex_flow": null,
            "grid_area": null,
            "grid_auto_columns": null,
            "grid_auto_flow": null,
            "grid_auto_rows": null,
            "grid_column": null,
            "grid_gap": null,
            "grid_row": null,
            "grid_template_areas": null,
            "grid_template_columns": null,
            "grid_template_rows": null,
            "height": null,
            "justify_content": null,
            "justify_items": null,
            "left": null,
            "margin": null,
            "max_height": null,
            "max_width": null,
            "min_height": null,
            "min_width": null,
            "object_fit": null,
            "object_position": null,
            "order": null,
            "overflow": null,
            "overflow_x": null,
            "overflow_y": null,
            "padding": null,
            "right": null,
            "top": null,
            "visibility": null,
            "width": null
          }
        },
        "0afda0b4e74245368e2c82a5fcc56449": {
          "model_module": "@jupyter-widgets/controls",
          "model_name": "DescriptionStyleModel",
          "model_module_version": "1.5.0",
          "state": {
            "_model_module": "@jupyter-widgets/controls",
            "_model_module_version": "1.5.0",
            "_model_name": "DescriptionStyleModel",
            "_view_count": null,
            "_view_module": "@jupyter-widgets/base",
            "_view_module_version": "1.2.0",
            "_view_name": "StyleView",
            "description_width": ""
          }
        },
        "837e9053edb84630956b1f4beed1c1b0": {
          "model_module": "@jupyter-widgets/base",
          "model_name": "LayoutModel",
          "model_module_version": "1.2.0",
          "state": {
            "_model_module": "@jupyter-widgets/base",
            "_model_module_version": "1.2.0",
            "_model_name": "LayoutModel",
            "_view_count": null,
            "_view_module": "@jupyter-widgets/base",
            "_view_module_version": "1.2.0",
            "_view_name": "LayoutView",
            "align_content": null,
            "align_items": null,
            "align_self": null,
            "border": null,
            "bottom": null,
            "display": null,
            "flex": null,
            "flex_flow": null,
            "grid_area": null,
            "grid_auto_columns": null,
            "grid_auto_flow": null,
            "grid_auto_rows": null,
            "grid_column": null,
            "grid_gap": null,
            "grid_row": null,
            "grid_template_areas": null,
            "grid_template_columns": null,
            "grid_template_rows": null,
            "height": null,
            "justify_content": null,
            "justify_items": null,
            "left": null,
            "margin": null,
            "max_height": null,
            "max_width": null,
            "min_height": null,
            "min_width": null,
            "object_fit": null,
            "object_position": null,
            "order": null,
            "overflow": null,
            "overflow_x": null,
            "overflow_y": null,
            "padding": null,
            "right": null,
            "top": null,
            "visibility": null,
            "width": null
          }
        },
        "d2dc6d0336244eddbdcefb8ce9a2f5c8": {
          "model_module": "@jupyter-widgets/controls",
          "model_name": "ProgressStyleModel",
          "model_module_version": "1.5.0",
          "state": {
            "_model_module": "@jupyter-widgets/controls",
            "_model_module_version": "1.5.0",
            "_model_name": "ProgressStyleModel",
            "_view_count": null,
            "_view_module": "@jupyter-widgets/base",
            "_view_module_version": "1.2.0",
            "_view_name": "StyleView",
            "bar_color": null,
            "description_width": ""
          }
        },
        "0a4b360257b14b5cb45069e1eb7f0cf4": {
          "model_module": "@jupyter-widgets/base",
          "model_name": "LayoutModel",
          "model_module_version": "1.2.0",
          "state": {
            "_model_module": "@jupyter-widgets/base",
            "_model_module_version": "1.2.0",
            "_model_name": "LayoutModel",
            "_view_count": null,
            "_view_module": "@jupyter-widgets/base",
            "_view_module_version": "1.2.0",
            "_view_name": "LayoutView",
            "align_content": null,
            "align_items": null,
            "align_self": null,
            "border": null,
            "bottom": null,
            "display": null,
            "flex": null,
            "flex_flow": null,
            "grid_area": null,
            "grid_auto_columns": null,
            "grid_auto_flow": null,
            "grid_auto_rows": null,
            "grid_column": null,
            "grid_gap": null,
            "grid_row": null,
            "grid_template_areas": null,
            "grid_template_columns": null,
            "grid_template_rows": null,
            "height": null,
            "justify_content": null,
            "justify_items": null,
            "left": null,
            "margin": null,
            "max_height": null,
            "max_width": null,
            "min_height": null,
            "min_width": null,
            "object_fit": null,
            "object_position": null,
            "order": null,
            "overflow": null,
            "overflow_x": null,
            "overflow_y": null,
            "padding": null,
            "right": null,
            "top": null,
            "visibility": null,
            "width": null
          }
        },
        "3d9bf440ab4547dfbaf695d621add56c": {
          "model_module": "@jupyter-widgets/controls",
          "model_name": "DescriptionStyleModel",
          "model_module_version": "1.5.0",
          "state": {
            "_model_module": "@jupyter-widgets/controls",
            "_model_module_version": "1.5.0",
            "_model_name": "DescriptionStyleModel",
            "_view_count": null,
            "_view_module": "@jupyter-widgets/base",
            "_view_module_version": "1.2.0",
            "_view_name": "StyleView",
            "description_width": ""
          }
        },
        "7213de1bf06d4a40ba29a53244fa1108": {
          "model_module": "@jupyter-widgets/controls",
          "model_name": "HBoxModel",
          "model_module_version": "1.5.0",
          "state": {
            "_dom_classes": [],
            "_model_module": "@jupyter-widgets/controls",
            "_model_module_version": "1.5.0",
            "_model_name": "HBoxModel",
            "_view_count": null,
            "_view_module": "@jupyter-widgets/controls",
            "_view_module_version": "1.5.0",
            "_view_name": "HBoxView",
            "box_style": "",
            "children": [
              "IPY_MODEL_e1e85adbf02e45488a0558025383ec54",
              "IPY_MODEL_e101e6a61bac4b4d95b892fd3848017f",
              "IPY_MODEL_32ae6ec8e63f40f5beae1a48fae15448"
            ],
            "layout": "IPY_MODEL_bcc6da28228048188ef56358a90c80c1"
          }
        },
        "e1e85adbf02e45488a0558025383ec54": {
          "model_module": "@jupyter-widgets/controls",
          "model_name": "HTMLModel",
          "model_module_version": "1.5.0",
          "state": {
            "_dom_classes": [],
            "_model_module": "@jupyter-widgets/controls",
            "_model_module_version": "1.5.0",
            "_model_name": "HTMLModel",
            "_view_count": null,
            "_view_module": "@jupyter-widgets/controls",
            "_view_module_version": "1.5.0",
            "_view_name": "HTMLView",
            "description": "",
            "description_tooltip": null,
            "layout": "IPY_MODEL_da7bcae399dd45c6882c30226a3b3841",
            "placeholder": "​",
            "style": "IPY_MODEL_1057cce304684821b116ede60b5f75e9",
            "value": "Processing: 100%"
          }
        },
        "e101e6a61bac4b4d95b892fd3848017f": {
          "model_module": "@jupyter-widgets/controls",
          "model_name": "FloatProgressModel",
          "model_module_version": "1.5.0",
          "state": {
            "_dom_classes": [],
            "_model_module": "@jupyter-widgets/controls",
            "_model_module_version": "1.5.0",
            "_model_name": "FloatProgressModel",
            "_view_count": null,
            "_view_module": "@jupyter-widgets/controls",
            "_view_module_version": "1.5.0",
            "_view_name": "ProgressView",
            "bar_style": "",
            "description": "",
            "description_tooltip": null,
            "layout": "IPY_MODEL_34ab909930ca45e68c41e5ef5100c6e7",
            "max": 7,
            "min": 0,
            "orientation": "horizontal",
            "style": "IPY_MODEL_37a90efe2707471ab33af5e4b9446c02",
            "value": 7
          }
        },
        "32ae6ec8e63f40f5beae1a48fae15448": {
          "model_module": "@jupyter-widgets/controls",
          "model_name": "HTMLModel",
          "model_module_version": "1.5.0",
          "state": {
            "_dom_classes": [],
            "_model_module": "@jupyter-widgets/controls",
            "_model_module_version": "1.5.0",
            "_model_name": "HTMLModel",
            "_view_count": null,
            "_view_module": "@jupyter-widgets/controls",
            "_view_module_version": "1.5.0",
            "_view_name": "HTMLView",
            "description": "",
            "description_tooltip": null,
            "layout": "IPY_MODEL_6fe5fc8c87ff4452a788d81bb7754c85",
            "placeholder": "​",
            "style": "IPY_MODEL_03901d0a1ccf4b5bb5ca7664234d625c",
            "value": " 7/7 [06:01&lt;00:00, 39.17s/it]"
          }
        },
        "bcc6da28228048188ef56358a90c80c1": {
          "model_module": "@jupyter-widgets/base",
          "model_name": "LayoutModel",
          "model_module_version": "1.2.0",
          "state": {
            "_model_module": "@jupyter-widgets/base",
            "_model_module_version": "1.2.0",
            "_model_name": "LayoutModel",
            "_view_count": null,
            "_view_module": "@jupyter-widgets/base",
            "_view_module_version": "1.2.0",
            "_view_name": "LayoutView",
            "align_content": null,
            "align_items": null,
            "align_self": null,
            "border": null,
            "bottom": null,
            "display": null,
            "flex": null,
            "flex_flow": null,
            "grid_area": null,
            "grid_auto_columns": null,
            "grid_auto_flow": null,
            "grid_auto_rows": null,
            "grid_column": null,
            "grid_gap": null,
            "grid_row": null,
            "grid_template_areas": null,
            "grid_template_columns": null,
            "grid_template_rows": null,
            "height": null,
            "justify_content": null,
            "justify_items": null,
            "left": null,
            "margin": null,
            "max_height": null,
            "max_width": null,
            "min_height": null,
            "min_width": null,
            "object_fit": null,
            "object_position": null,
            "order": null,
            "overflow": null,
            "overflow_x": null,
            "overflow_y": null,
            "padding": null,
            "right": null,
            "top": null,
            "visibility": "hidden",
            "width": null
          }
        },
        "da7bcae399dd45c6882c30226a3b3841": {
          "model_module": "@jupyter-widgets/base",
          "model_name": "LayoutModel",
          "model_module_version": "1.2.0",
          "state": {
            "_model_module": "@jupyter-widgets/base",
            "_model_module_version": "1.2.0",
            "_model_name": "LayoutModel",
            "_view_count": null,
            "_view_module": "@jupyter-widgets/base",
            "_view_module_version": "1.2.0",
            "_view_name": "LayoutView",
            "align_content": null,
            "align_items": null,
            "align_self": null,
            "border": null,
            "bottom": null,
            "display": null,
            "flex": null,
            "flex_flow": null,
            "grid_area": null,
            "grid_auto_columns": null,
            "grid_auto_flow": null,
            "grid_auto_rows": null,
            "grid_column": null,
            "grid_gap": null,
            "grid_row": null,
            "grid_template_areas": null,
            "grid_template_columns": null,
            "grid_template_rows": null,
            "height": null,
            "justify_content": null,
            "justify_items": null,
            "left": null,
            "margin": null,
            "max_height": null,
            "max_width": null,
            "min_height": null,
            "min_width": null,
            "object_fit": null,
            "object_position": null,
            "order": null,
            "overflow": null,
            "overflow_x": null,
            "overflow_y": null,
            "padding": null,
            "right": null,
            "top": null,
            "visibility": null,
            "width": null
          }
        },
        "1057cce304684821b116ede60b5f75e9": {
          "model_module": "@jupyter-widgets/controls",
          "model_name": "DescriptionStyleModel",
          "model_module_version": "1.5.0",
          "state": {
            "_model_module": "@jupyter-widgets/controls",
            "_model_module_version": "1.5.0",
            "_model_name": "DescriptionStyleModel",
            "_view_count": null,
            "_view_module": "@jupyter-widgets/base",
            "_view_module_version": "1.2.0",
            "_view_name": "StyleView",
            "description_width": ""
          }
        },
        "34ab909930ca45e68c41e5ef5100c6e7": {
          "model_module": "@jupyter-widgets/base",
          "model_name": "LayoutModel",
          "model_module_version": "1.2.0",
          "state": {
            "_model_module": "@jupyter-widgets/base",
            "_model_module_version": "1.2.0",
            "_model_name": "LayoutModel",
            "_view_count": null,
            "_view_module": "@jupyter-widgets/base",
            "_view_module_version": "1.2.0",
            "_view_name": "LayoutView",
            "align_content": null,
            "align_items": null,
            "align_self": null,
            "border": null,
            "bottom": null,
            "display": null,
            "flex": null,
            "flex_flow": null,
            "grid_area": null,
            "grid_auto_columns": null,
            "grid_auto_flow": null,
            "grid_auto_rows": null,
            "grid_column": null,
            "grid_gap": null,
            "grid_row": null,
            "grid_template_areas": null,
            "grid_template_columns": null,
            "grid_template_rows": null,
            "height": null,
            "justify_content": null,
            "justify_items": null,
            "left": null,
            "margin": null,
            "max_height": null,
            "max_width": null,
            "min_height": null,
            "min_width": null,
            "object_fit": null,
            "object_position": null,
            "order": null,
            "overflow": null,
            "overflow_x": null,
            "overflow_y": null,
            "padding": null,
            "right": null,
            "top": null,
            "visibility": null,
            "width": null
          }
        },
        "37a90efe2707471ab33af5e4b9446c02": {
          "model_module": "@jupyter-widgets/controls",
          "model_name": "ProgressStyleModel",
          "model_module_version": "1.5.0",
          "state": {
            "_model_module": "@jupyter-widgets/controls",
            "_model_module_version": "1.5.0",
            "_model_name": "ProgressStyleModel",
            "_view_count": null,
            "_view_module": "@jupyter-widgets/base",
            "_view_module_version": "1.2.0",
            "_view_name": "StyleView",
            "bar_color": null,
            "description_width": ""
          }
        },
        "6fe5fc8c87ff4452a788d81bb7754c85": {
          "model_module": "@jupyter-widgets/base",
          "model_name": "LayoutModel",
          "model_module_version": "1.2.0",
          "state": {
            "_model_module": "@jupyter-widgets/base",
            "_model_module_version": "1.2.0",
            "_model_name": "LayoutModel",
            "_view_count": null,
            "_view_module": "@jupyter-widgets/base",
            "_view_module_version": "1.2.0",
            "_view_name": "LayoutView",
            "align_content": null,
            "align_items": null,
            "align_self": null,
            "border": null,
            "bottom": null,
            "display": null,
            "flex": null,
            "flex_flow": null,
            "grid_area": null,
            "grid_auto_columns": null,
            "grid_auto_flow": null,
            "grid_auto_rows": null,
            "grid_column": null,
            "grid_gap": null,
            "grid_row": null,
            "grid_template_areas": null,
            "grid_template_columns": null,
            "grid_template_rows": null,
            "height": null,
            "justify_content": null,
            "justify_items": null,
            "left": null,
            "margin": null,
            "max_height": null,
            "max_width": null,
            "min_height": null,
            "min_width": null,
            "object_fit": null,
            "object_position": null,
            "order": null,
            "overflow": null,
            "overflow_x": null,
            "overflow_y": null,
            "padding": null,
            "right": null,
            "top": null,
            "visibility": null,
            "width": null
          }
        },
        "03901d0a1ccf4b5bb5ca7664234d625c": {
          "model_module": "@jupyter-widgets/controls",
          "model_name": "DescriptionStyleModel",
          "model_module_version": "1.5.0",
          "state": {
            "_model_module": "@jupyter-widgets/controls",
            "_model_module_version": "1.5.0",
            "_model_name": "DescriptionStyleModel",
            "_view_count": null,
            "_view_module": "@jupyter-widgets/base",
            "_view_module_version": "1.2.0",
            "_view_name": "StyleView",
            "description_width": ""
          }
        },
        "bbbacdf586aa46f2935df79c01d511e8": {
          "model_module": "@jupyter-widgets/controls",
          "model_name": "HBoxModel",
          "model_module_version": "1.5.0",
          "state": {
            "_dom_classes": [],
            "_model_module": "@jupyter-widgets/controls",
            "_model_module_version": "1.5.0",
            "_model_name": "HBoxModel",
            "_view_count": null,
            "_view_module": "@jupyter-widgets/controls",
            "_view_module_version": "1.5.0",
            "_view_name": "HBoxView",
            "box_style": "",
            "children": [
              "IPY_MODEL_d02ed123bfb3410eb586813988c951a4",
              "IPY_MODEL_bd9f86022b3d4ef4967195b9aee1ef18",
              "IPY_MODEL_2d0f97ae359f47219fe8d99f7dd267c2"
            ],
            "layout": "IPY_MODEL_632b45a121424ff98fb496552be7251c"
          }
        },
        "d02ed123bfb3410eb586813988c951a4": {
          "model_module": "@jupyter-widgets/controls",
          "model_name": "HTMLModel",
          "model_module_version": "1.5.0",
          "state": {
            "_dom_classes": [],
            "_model_module": "@jupyter-widgets/controls",
            "_model_module_version": "1.5.0",
            "_model_name": "HTMLModel",
            "_view_count": null,
            "_view_module": "@jupyter-widgets/controls",
            "_view_module_version": "1.5.0",
            "_view_name": "HTMLView",
            "description": "",
            "description_tooltip": null,
            "layout": "IPY_MODEL_6f6b07d6d3b440f0b1baafd6283860ea",
            "placeholder": "​",
            "style": "IPY_MODEL_77aff53078e24ba6b5fad10f8fff2f69",
            "value": "Processing: 100%"
          }
        },
        "bd9f86022b3d4ef4967195b9aee1ef18": {
          "model_module": "@jupyter-widgets/controls",
          "model_name": "FloatProgressModel",
          "model_module_version": "1.5.0",
          "state": {
            "_dom_classes": [],
            "_model_module": "@jupyter-widgets/controls",
            "_model_module_version": "1.5.0",
            "_model_name": "FloatProgressModel",
            "_view_count": null,
            "_view_module": "@jupyter-widgets/controls",
            "_view_module_version": "1.5.0",
            "_view_name": "ProgressView",
            "bar_style": "",
            "description": "",
            "description_tooltip": null,
            "layout": "IPY_MODEL_30d7e77724f74b339d2dae526f26aa1f",
            "max": 4,
            "min": 0,
            "orientation": "horizontal",
            "style": "IPY_MODEL_403d7e5788dc4e408c6bb0c2a9d731e1",
            "value": 4
          }
        },
        "2d0f97ae359f47219fe8d99f7dd267c2": {
          "model_module": "@jupyter-widgets/controls",
          "model_name": "HTMLModel",
          "model_module_version": "1.5.0",
          "state": {
            "_dom_classes": [],
            "_model_module": "@jupyter-widgets/controls",
            "_model_module_version": "1.5.0",
            "_model_name": "HTMLModel",
            "_view_count": null,
            "_view_module": "@jupyter-widgets/controls",
            "_view_module_version": "1.5.0",
            "_view_name": "HTMLView",
            "description": "",
            "description_tooltip": null,
            "layout": "IPY_MODEL_4efef80d86df4f279454a938390cfa58",
            "placeholder": "​",
            "style": "IPY_MODEL_0083de8fa43e45c7b84180d91e098c23",
            "value": " 4/4 [00:12&lt;00:00,  2.74s/it]"
          }
        },
        "632b45a121424ff98fb496552be7251c": {
          "model_module": "@jupyter-widgets/base",
          "model_name": "LayoutModel",
          "model_module_version": "1.2.0",
          "state": {
            "_model_module": "@jupyter-widgets/base",
            "_model_module_version": "1.2.0",
            "_model_name": "LayoutModel",
            "_view_count": null,
            "_view_module": "@jupyter-widgets/base",
            "_view_module_version": "1.2.0",
            "_view_name": "LayoutView",
            "align_content": null,
            "align_items": null,
            "align_self": null,
            "border": null,
            "bottom": null,
            "display": null,
            "flex": null,
            "flex_flow": null,
            "grid_area": null,
            "grid_auto_columns": null,
            "grid_auto_flow": null,
            "grid_auto_rows": null,
            "grid_column": null,
            "grid_gap": null,
            "grid_row": null,
            "grid_template_areas": null,
            "grid_template_columns": null,
            "grid_template_rows": null,
            "height": null,
            "justify_content": null,
            "justify_items": null,
            "left": null,
            "margin": null,
            "max_height": null,
            "max_width": null,
            "min_height": null,
            "min_width": null,
            "object_fit": null,
            "object_position": null,
            "order": null,
            "overflow": null,
            "overflow_x": null,
            "overflow_y": null,
            "padding": null,
            "right": null,
            "top": null,
            "visibility": "hidden",
            "width": null
          }
        },
        "6f6b07d6d3b440f0b1baafd6283860ea": {
          "model_module": "@jupyter-widgets/base",
          "model_name": "LayoutModel",
          "model_module_version": "1.2.0",
          "state": {
            "_model_module": "@jupyter-widgets/base",
            "_model_module_version": "1.2.0",
            "_model_name": "LayoutModel",
            "_view_count": null,
            "_view_module": "@jupyter-widgets/base",
            "_view_module_version": "1.2.0",
            "_view_name": "LayoutView",
            "align_content": null,
            "align_items": null,
            "align_self": null,
            "border": null,
            "bottom": null,
            "display": null,
            "flex": null,
            "flex_flow": null,
            "grid_area": null,
            "grid_auto_columns": null,
            "grid_auto_flow": null,
            "grid_auto_rows": null,
            "grid_column": null,
            "grid_gap": null,
            "grid_row": null,
            "grid_template_areas": null,
            "grid_template_columns": null,
            "grid_template_rows": null,
            "height": null,
            "justify_content": null,
            "justify_items": null,
            "left": null,
            "margin": null,
            "max_height": null,
            "max_width": null,
            "min_height": null,
            "min_width": null,
            "object_fit": null,
            "object_position": null,
            "order": null,
            "overflow": null,
            "overflow_x": null,
            "overflow_y": null,
            "padding": null,
            "right": null,
            "top": null,
            "visibility": null,
            "width": null
          }
        },
        "77aff53078e24ba6b5fad10f8fff2f69": {
          "model_module": "@jupyter-widgets/controls",
          "model_name": "DescriptionStyleModel",
          "model_module_version": "1.5.0",
          "state": {
            "_model_module": "@jupyter-widgets/controls",
            "_model_module_version": "1.5.0",
            "_model_name": "DescriptionStyleModel",
            "_view_count": null,
            "_view_module": "@jupyter-widgets/base",
            "_view_module_version": "1.2.0",
            "_view_name": "StyleView",
            "description_width": ""
          }
        },
        "30d7e77724f74b339d2dae526f26aa1f": {
          "model_module": "@jupyter-widgets/base",
          "model_name": "LayoutModel",
          "model_module_version": "1.2.0",
          "state": {
            "_model_module": "@jupyter-widgets/base",
            "_model_module_version": "1.2.0",
            "_model_name": "LayoutModel",
            "_view_count": null,
            "_view_module": "@jupyter-widgets/base",
            "_view_module_version": "1.2.0",
            "_view_name": "LayoutView",
            "align_content": null,
            "align_items": null,
            "align_self": null,
            "border": null,
            "bottom": null,
            "display": null,
            "flex": null,
            "flex_flow": null,
            "grid_area": null,
            "grid_auto_columns": null,
            "grid_auto_flow": null,
            "grid_auto_rows": null,
            "grid_column": null,
            "grid_gap": null,
            "grid_row": null,
            "grid_template_areas": null,
            "grid_template_columns": null,
            "grid_template_rows": null,
            "height": null,
            "justify_content": null,
            "justify_items": null,
            "left": null,
            "margin": null,
            "max_height": null,
            "max_width": null,
            "min_height": null,
            "min_width": null,
            "object_fit": null,
            "object_position": null,
            "order": null,
            "overflow": null,
            "overflow_x": null,
            "overflow_y": null,
            "padding": null,
            "right": null,
            "top": null,
            "visibility": null,
            "width": null
          }
        },
        "403d7e5788dc4e408c6bb0c2a9d731e1": {
          "model_module": "@jupyter-widgets/controls",
          "model_name": "ProgressStyleModel",
          "model_module_version": "1.5.0",
          "state": {
            "_model_module": "@jupyter-widgets/controls",
            "_model_module_version": "1.5.0",
            "_model_name": "ProgressStyleModel",
            "_view_count": null,
            "_view_module": "@jupyter-widgets/base",
            "_view_module_version": "1.2.0",
            "_view_name": "StyleView",
            "bar_color": null,
            "description_width": ""
          }
        },
        "4efef80d86df4f279454a938390cfa58": {
          "model_module": "@jupyter-widgets/base",
          "model_name": "LayoutModel",
          "model_module_version": "1.2.0",
          "state": {
            "_model_module": "@jupyter-widgets/base",
            "_model_module_version": "1.2.0",
            "_model_name": "LayoutModel",
            "_view_count": null,
            "_view_module": "@jupyter-widgets/base",
            "_view_module_version": "1.2.0",
            "_view_name": "LayoutView",
            "align_content": null,
            "align_items": null,
            "align_self": null,
            "border": null,
            "bottom": null,
            "display": null,
            "flex": null,
            "flex_flow": null,
            "grid_area": null,
            "grid_auto_columns": null,
            "grid_auto_flow": null,
            "grid_auto_rows": null,
            "grid_column": null,
            "grid_gap": null,
            "grid_row": null,
            "grid_template_areas": null,
            "grid_template_columns": null,
            "grid_template_rows": null,
            "height": null,
            "justify_content": null,
            "justify_items": null,
            "left": null,
            "margin": null,
            "max_height": null,
            "max_width": null,
            "min_height": null,
            "min_width": null,
            "object_fit": null,
            "object_position": null,
            "order": null,
            "overflow": null,
            "overflow_x": null,
            "overflow_y": null,
            "padding": null,
            "right": null,
            "top": null,
            "visibility": null,
            "width": null
          }
        },
        "0083de8fa43e45c7b84180d91e098c23": {
          "model_module": "@jupyter-widgets/controls",
          "model_name": "DescriptionStyleModel",
          "model_module_version": "1.5.0",
          "state": {
            "_model_module": "@jupyter-widgets/controls",
            "_model_module_version": "1.5.0",
            "_model_name": "DescriptionStyleModel",
            "_view_count": null,
            "_view_module": "@jupyter-widgets/base",
            "_view_module_version": "1.2.0",
            "_view_name": "StyleView",
            "description_width": ""
          }
        },
        "b52fe9a8463d4a929b18ee35757118f9": {
          "model_module": "@jupyter-widgets/controls",
          "model_name": "HBoxModel",
          "model_module_version": "1.5.0",
          "state": {
            "_dom_classes": [],
            "_model_module": "@jupyter-widgets/controls",
            "_model_module_version": "1.5.0",
            "_model_name": "HBoxModel",
            "_view_count": null,
            "_view_module": "@jupyter-widgets/controls",
            "_view_module_version": "1.5.0",
            "_view_name": "HBoxView",
            "box_style": "",
            "children": [
              "IPY_MODEL_914aee18754e41a09c9ad2c21e3b8b81",
              "IPY_MODEL_c22d5a4cf2354d45b61b28918b4a9e94",
              "IPY_MODEL_a32ac446923848a1a77200968c4b9888"
            ],
            "layout": "IPY_MODEL_6cb7435739e149998f547df62032ad27"
          }
        },
        "914aee18754e41a09c9ad2c21e3b8b81": {
          "model_module": "@jupyter-widgets/controls",
          "model_name": "HTMLModel",
          "model_module_version": "1.5.0",
          "state": {
            "_dom_classes": [],
            "_model_module": "@jupyter-widgets/controls",
            "_model_module_version": "1.5.0",
            "_model_name": "HTMLModel",
            "_view_count": null,
            "_view_module": "@jupyter-widgets/controls",
            "_view_module_version": "1.5.0",
            "_view_name": "HTMLView",
            "description": "",
            "description_tooltip": null,
            "layout": "IPY_MODEL_dab8938fe9254ad48e184ae36591fcfa",
            "placeholder": "​",
            "style": "IPY_MODEL_c2dfba40f5ac4691bf0d2f00442f3c36",
            "value": "Processing: 100%"
          }
        },
        "c22d5a4cf2354d45b61b28918b4a9e94": {
          "model_module": "@jupyter-widgets/controls",
          "model_name": "FloatProgressModel",
          "model_module_version": "1.5.0",
          "state": {
            "_dom_classes": [],
            "_model_module": "@jupyter-widgets/controls",
            "_model_module_version": "1.5.0",
            "_model_name": "FloatProgressModel",
            "_view_count": null,
            "_view_module": "@jupyter-widgets/controls",
            "_view_module_version": "1.5.0",
            "_view_name": "ProgressView",
            "bar_style": "",
            "description": "",
            "description_tooltip": null,
            "layout": "IPY_MODEL_a15dde2600cc498cae8de76c01d79a6f",
            "max": 7,
            "min": 0,
            "orientation": "horizontal",
            "style": "IPY_MODEL_55e1083443f946e5945f911641fbe44c",
            "value": 7
          }
        },
        "a32ac446923848a1a77200968c4b9888": {
          "model_module": "@jupyter-widgets/controls",
          "model_name": "HTMLModel",
          "model_module_version": "1.5.0",
          "state": {
            "_dom_classes": [],
            "_model_module": "@jupyter-widgets/controls",
            "_model_module_version": "1.5.0",
            "_model_name": "HTMLModel",
            "_view_count": null,
            "_view_module": "@jupyter-widgets/controls",
            "_view_module_version": "1.5.0",
            "_view_name": "HTMLView",
            "description": "",
            "description_tooltip": null,
            "layout": "IPY_MODEL_047cb367af204bf6b5d53193bdcfb4b3",
            "placeholder": "​",
            "style": "IPY_MODEL_929c261fa65241cbb8058542cb63d933",
            "value": " 7/7 [01:58&lt;00:00, 12.80s/it]"
          }
        },
        "6cb7435739e149998f547df62032ad27": {
          "model_module": "@jupyter-widgets/base",
          "model_name": "LayoutModel",
          "model_module_version": "1.2.0",
          "state": {
            "_model_module": "@jupyter-widgets/base",
            "_model_module_version": "1.2.0",
            "_model_name": "LayoutModel",
            "_view_count": null,
            "_view_module": "@jupyter-widgets/base",
            "_view_module_version": "1.2.0",
            "_view_name": "LayoutView",
            "align_content": null,
            "align_items": null,
            "align_self": null,
            "border": null,
            "bottom": null,
            "display": null,
            "flex": null,
            "flex_flow": null,
            "grid_area": null,
            "grid_auto_columns": null,
            "grid_auto_flow": null,
            "grid_auto_rows": null,
            "grid_column": null,
            "grid_gap": null,
            "grid_row": null,
            "grid_template_areas": null,
            "grid_template_columns": null,
            "grid_template_rows": null,
            "height": null,
            "justify_content": null,
            "justify_items": null,
            "left": null,
            "margin": null,
            "max_height": null,
            "max_width": null,
            "min_height": null,
            "min_width": null,
            "object_fit": null,
            "object_position": null,
            "order": null,
            "overflow": null,
            "overflow_x": null,
            "overflow_y": null,
            "padding": null,
            "right": null,
            "top": null,
            "visibility": "hidden",
            "width": null
          }
        },
        "dab8938fe9254ad48e184ae36591fcfa": {
          "model_module": "@jupyter-widgets/base",
          "model_name": "LayoutModel",
          "model_module_version": "1.2.0",
          "state": {
            "_model_module": "@jupyter-widgets/base",
            "_model_module_version": "1.2.0",
            "_model_name": "LayoutModel",
            "_view_count": null,
            "_view_module": "@jupyter-widgets/base",
            "_view_module_version": "1.2.0",
            "_view_name": "LayoutView",
            "align_content": null,
            "align_items": null,
            "align_self": null,
            "border": null,
            "bottom": null,
            "display": null,
            "flex": null,
            "flex_flow": null,
            "grid_area": null,
            "grid_auto_columns": null,
            "grid_auto_flow": null,
            "grid_auto_rows": null,
            "grid_column": null,
            "grid_gap": null,
            "grid_row": null,
            "grid_template_areas": null,
            "grid_template_columns": null,
            "grid_template_rows": null,
            "height": null,
            "justify_content": null,
            "justify_items": null,
            "left": null,
            "margin": null,
            "max_height": null,
            "max_width": null,
            "min_height": null,
            "min_width": null,
            "object_fit": null,
            "object_position": null,
            "order": null,
            "overflow": null,
            "overflow_x": null,
            "overflow_y": null,
            "padding": null,
            "right": null,
            "top": null,
            "visibility": null,
            "width": null
          }
        },
        "c2dfba40f5ac4691bf0d2f00442f3c36": {
          "model_module": "@jupyter-widgets/controls",
          "model_name": "DescriptionStyleModel",
          "model_module_version": "1.5.0",
          "state": {
            "_model_module": "@jupyter-widgets/controls",
            "_model_module_version": "1.5.0",
            "_model_name": "DescriptionStyleModel",
            "_view_count": null,
            "_view_module": "@jupyter-widgets/base",
            "_view_module_version": "1.2.0",
            "_view_name": "StyleView",
            "description_width": ""
          }
        },
        "a15dde2600cc498cae8de76c01d79a6f": {
          "model_module": "@jupyter-widgets/base",
          "model_name": "LayoutModel",
          "model_module_version": "1.2.0",
          "state": {
            "_model_module": "@jupyter-widgets/base",
            "_model_module_version": "1.2.0",
            "_model_name": "LayoutModel",
            "_view_count": null,
            "_view_module": "@jupyter-widgets/base",
            "_view_module_version": "1.2.0",
            "_view_name": "LayoutView",
            "align_content": null,
            "align_items": null,
            "align_self": null,
            "border": null,
            "bottom": null,
            "display": null,
            "flex": null,
            "flex_flow": null,
            "grid_area": null,
            "grid_auto_columns": null,
            "grid_auto_flow": null,
            "grid_auto_rows": null,
            "grid_column": null,
            "grid_gap": null,
            "grid_row": null,
            "grid_template_areas": null,
            "grid_template_columns": null,
            "grid_template_rows": null,
            "height": null,
            "justify_content": null,
            "justify_items": null,
            "left": null,
            "margin": null,
            "max_height": null,
            "max_width": null,
            "min_height": null,
            "min_width": null,
            "object_fit": null,
            "object_position": null,
            "order": null,
            "overflow": null,
            "overflow_x": null,
            "overflow_y": null,
            "padding": null,
            "right": null,
            "top": null,
            "visibility": null,
            "width": null
          }
        },
        "55e1083443f946e5945f911641fbe44c": {
          "model_module": "@jupyter-widgets/controls",
          "model_name": "ProgressStyleModel",
          "model_module_version": "1.5.0",
          "state": {
            "_model_module": "@jupyter-widgets/controls",
            "_model_module_version": "1.5.0",
            "_model_name": "ProgressStyleModel",
            "_view_count": null,
            "_view_module": "@jupyter-widgets/base",
            "_view_module_version": "1.2.0",
            "_view_name": "StyleView",
            "bar_color": null,
            "description_width": ""
          }
        },
        "047cb367af204bf6b5d53193bdcfb4b3": {
          "model_module": "@jupyter-widgets/base",
          "model_name": "LayoutModel",
          "model_module_version": "1.2.0",
          "state": {
            "_model_module": "@jupyter-widgets/base",
            "_model_module_version": "1.2.0",
            "_model_name": "LayoutModel",
            "_view_count": null,
            "_view_module": "@jupyter-widgets/base",
            "_view_module_version": "1.2.0",
            "_view_name": "LayoutView",
            "align_content": null,
            "align_items": null,
            "align_self": null,
            "border": null,
            "bottom": null,
            "display": null,
            "flex": null,
            "flex_flow": null,
            "grid_area": null,
            "grid_auto_columns": null,
            "grid_auto_flow": null,
            "grid_auto_rows": null,
            "grid_column": null,
            "grid_gap": null,
            "grid_row": null,
            "grid_template_areas": null,
            "grid_template_columns": null,
            "grid_template_rows": null,
            "height": null,
            "justify_content": null,
            "justify_items": null,
            "left": null,
            "margin": null,
            "max_height": null,
            "max_width": null,
            "min_height": null,
            "min_width": null,
            "object_fit": null,
            "object_position": null,
            "order": null,
            "overflow": null,
            "overflow_x": null,
            "overflow_y": null,
            "padding": null,
            "right": null,
            "top": null,
            "visibility": null,
            "width": null
          }
        },
        "929c261fa65241cbb8058542cb63d933": {
          "model_module": "@jupyter-widgets/controls",
          "model_name": "DescriptionStyleModel",
          "model_module_version": "1.5.0",
          "state": {
            "_model_module": "@jupyter-widgets/controls",
            "_model_module_version": "1.5.0",
            "_model_name": "DescriptionStyleModel",
            "_view_count": null,
            "_view_module": "@jupyter-widgets/base",
            "_view_module_version": "1.2.0",
            "_view_name": "StyleView",
            "description_width": ""
          }
        }
      }
    }
  },
  "cells": [
    {
      "cell_type": "code",
      "execution_count": null,
      "metadata": {
        "id": "ke5m5OZcSz48"
      },
      "outputs": [],
      "source": [
        "pip install pycaret"
      ]
    },
    {
      "cell_type": "code",
      "source": [
        "pip install shap"
      ],
      "metadata": {
        "id": "A9RFAg5p_jFt"
      },
      "execution_count": null,
      "outputs": []
    },
    {
      "cell_type": "code",
      "source": [
        "import pandas as pd\n",
        "import numpy as np"
      ],
      "metadata": {
        "id": "tC5NrfcuS6dE"
      },
      "execution_count": 1,
      "outputs": []
    },
    {
      "cell_type": "code",
      "source": [
        "from pycaret.regression import *"
      ],
      "metadata": {
        "id": "3p5iMtiThJMT"
      },
      "execution_count": null,
      "outputs": []
    },
    {
      "cell_type": "code",
      "source": [
        "df = pd.read_csv('/content/drive/MyDrive/Capstone Project/Ace Advisory/palm_ffb.csv')"
      ],
      "metadata": {
        "id": "BTiROmJATM0f"
      },
      "execution_count": 3,
      "outputs": []
    },
    {
      "cell_type": "code",
      "source": [],
      "metadata": {
        "id": "qnyadMt5GZc6"
      },
      "execution_count": null,
      "outputs": []
    },
    {
      "cell_type": "code",
      "source": [
        "df.describe()"
      ],
      "metadata": {
        "colab": {
          "base_uri": "https://localhost:8080/",
          "height": 300
        },
        "id": "6esCQ1E9Vyj7",
        "outputId": "bf1c2bab-5e5b-45ce-b961-a3a5328701ab"
      },
      "execution_count": 4,
      "outputs": [
        {
          "output_type": "execute_result",
          "data": {
            "text/plain": [
              "       SoilMoisture  Average_Temp    Min_Temp    Max_Temp  Precipitation  \\\n",
              "count    130.000000    130.000000  130.000000  130.000000     130.000000   \n",
              "mean     527.646923     26.849918   21.379231   33.851538     188.980769   \n",
              "std       57.367844      0.651413    0.688971    1.079638      80.237210   \n",
              "min      380.700000     25.158065   18.900000   31.100000       2.000000   \n",
              "25%      488.625000     26.442285   21.000000   33.100000     140.300000   \n",
              "50%      538.300000     26.930645   21.500000   33.900000     182.150000   \n",
              "75%      571.025000     27.270726   21.800000   34.600000     226.100000   \n",
              "max      647.300000     28.580000   22.600000   36.000000     496.100000   \n",
              "\n",
              "       Working_days   HA_Harvested   FFB_Yield  \n",
              "count    130.000000     130.000000  130.000000  \n",
              "mean      24.753846  793404.491565    1.602231  \n",
              "std        1.239289   34440.893854    0.281751  \n",
              "min       21.000000  683431.944400    1.080000  \n",
              "25%       24.000000  768966.949100    1.390000  \n",
              "50%       25.000000  790036.158050    1.585000  \n",
              "75%       26.000000  821989.235250    1.807500  \n",
              "max       27.000000  882254.225400    2.270000  "
            ],
            "text/html": [
              "\n",
              "  <div id=\"df-4eec2820-44b4-4395-9c39-d2fcfc30b4b5\">\n",
              "    <div class=\"colab-df-container\">\n",
              "      <div>\n",
              "<style scoped>\n",
              "    .dataframe tbody tr th:only-of-type {\n",
              "        vertical-align: middle;\n",
              "    }\n",
              "\n",
              "    .dataframe tbody tr th {\n",
              "        vertical-align: top;\n",
              "    }\n",
              "\n",
              "    .dataframe thead th {\n",
              "        text-align: right;\n",
              "    }\n",
              "</style>\n",
              "<table border=\"1\" class=\"dataframe\">\n",
              "  <thead>\n",
              "    <tr style=\"text-align: right;\">\n",
              "      <th></th>\n",
              "      <th>SoilMoisture</th>\n",
              "      <th>Average_Temp</th>\n",
              "      <th>Min_Temp</th>\n",
              "      <th>Max_Temp</th>\n",
              "      <th>Precipitation</th>\n",
              "      <th>Working_days</th>\n",
              "      <th>HA_Harvested</th>\n",
              "      <th>FFB_Yield</th>\n",
              "    </tr>\n",
              "  </thead>\n",
              "  <tbody>\n",
              "    <tr>\n",
              "      <th>count</th>\n",
              "      <td>130.000000</td>\n",
              "      <td>130.000000</td>\n",
              "      <td>130.000000</td>\n",
              "      <td>130.000000</td>\n",
              "      <td>130.000000</td>\n",
              "      <td>130.000000</td>\n",
              "      <td>130.000000</td>\n",
              "      <td>130.000000</td>\n",
              "    </tr>\n",
              "    <tr>\n",
              "      <th>mean</th>\n",
              "      <td>527.646923</td>\n",
              "      <td>26.849918</td>\n",
              "      <td>21.379231</td>\n",
              "      <td>33.851538</td>\n",
              "      <td>188.980769</td>\n",
              "      <td>24.753846</td>\n",
              "      <td>793404.491565</td>\n",
              "      <td>1.602231</td>\n",
              "    </tr>\n",
              "    <tr>\n",
              "      <th>std</th>\n",
              "      <td>57.367844</td>\n",
              "      <td>0.651413</td>\n",
              "      <td>0.688971</td>\n",
              "      <td>1.079638</td>\n",
              "      <td>80.237210</td>\n",
              "      <td>1.239289</td>\n",
              "      <td>34440.893854</td>\n",
              "      <td>0.281751</td>\n",
              "    </tr>\n",
              "    <tr>\n",
              "      <th>min</th>\n",
              "      <td>380.700000</td>\n",
              "      <td>25.158065</td>\n",
              "      <td>18.900000</td>\n",
              "      <td>31.100000</td>\n",
              "      <td>2.000000</td>\n",
              "      <td>21.000000</td>\n",
              "      <td>683431.944400</td>\n",
              "      <td>1.080000</td>\n",
              "    </tr>\n",
              "    <tr>\n",
              "      <th>25%</th>\n",
              "      <td>488.625000</td>\n",
              "      <td>26.442285</td>\n",
              "      <td>21.000000</td>\n",
              "      <td>33.100000</td>\n",
              "      <td>140.300000</td>\n",
              "      <td>24.000000</td>\n",
              "      <td>768966.949100</td>\n",
              "      <td>1.390000</td>\n",
              "    </tr>\n",
              "    <tr>\n",
              "      <th>50%</th>\n",
              "      <td>538.300000</td>\n",
              "      <td>26.930645</td>\n",
              "      <td>21.500000</td>\n",
              "      <td>33.900000</td>\n",
              "      <td>182.150000</td>\n",
              "      <td>25.000000</td>\n",
              "      <td>790036.158050</td>\n",
              "      <td>1.585000</td>\n",
              "    </tr>\n",
              "    <tr>\n",
              "      <th>75%</th>\n",
              "      <td>571.025000</td>\n",
              "      <td>27.270726</td>\n",
              "      <td>21.800000</td>\n",
              "      <td>34.600000</td>\n",
              "      <td>226.100000</td>\n",
              "      <td>26.000000</td>\n",
              "      <td>821989.235250</td>\n",
              "      <td>1.807500</td>\n",
              "    </tr>\n",
              "    <tr>\n",
              "      <th>max</th>\n",
              "      <td>647.300000</td>\n",
              "      <td>28.580000</td>\n",
              "      <td>22.600000</td>\n",
              "      <td>36.000000</td>\n",
              "      <td>496.100000</td>\n",
              "      <td>27.000000</td>\n",
              "      <td>882254.225400</td>\n",
              "      <td>2.270000</td>\n",
              "    </tr>\n",
              "  </tbody>\n",
              "</table>\n",
              "</div>\n",
              "      <button class=\"colab-df-convert\" onclick=\"convertToInteractive('df-4eec2820-44b4-4395-9c39-d2fcfc30b4b5')\"\n",
              "              title=\"Convert this dataframe to an interactive table.\"\n",
              "              style=\"display:none;\">\n",
              "        \n",
              "  <svg xmlns=\"http://www.w3.org/2000/svg\" height=\"24px\"viewBox=\"0 0 24 24\"\n",
              "       width=\"24px\">\n",
              "    <path d=\"M0 0h24v24H0V0z\" fill=\"none\"/>\n",
              "    <path d=\"M18.56 5.44l.94 2.06.94-2.06 2.06-.94-2.06-.94-.94-2.06-.94 2.06-2.06.94zm-11 1L8.5 8.5l.94-2.06 2.06-.94-2.06-.94L8.5 2.5l-.94 2.06-2.06.94zm10 10l.94 2.06.94-2.06 2.06-.94-2.06-.94-.94-2.06-.94 2.06-2.06.94z\"/><path d=\"M17.41 7.96l-1.37-1.37c-.4-.4-.92-.59-1.43-.59-.52 0-1.04.2-1.43.59L10.3 9.45l-7.72 7.72c-.78.78-.78 2.05 0 2.83L4 21.41c.39.39.9.59 1.41.59.51 0 1.02-.2 1.41-.59l7.78-7.78 2.81-2.81c.8-.78.8-2.07 0-2.86zM5.41 20L4 18.59l7.72-7.72 1.47 1.35L5.41 20z\"/>\n",
              "  </svg>\n",
              "      </button>\n",
              "      \n",
              "  <style>\n",
              "    .colab-df-container {\n",
              "      display:flex;\n",
              "      flex-wrap:wrap;\n",
              "      gap: 12px;\n",
              "    }\n",
              "\n",
              "    .colab-df-convert {\n",
              "      background-color: #E8F0FE;\n",
              "      border: none;\n",
              "      border-radius: 50%;\n",
              "      cursor: pointer;\n",
              "      display: none;\n",
              "      fill: #1967D2;\n",
              "      height: 32px;\n",
              "      padding: 0 0 0 0;\n",
              "      width: 32px;\n",
              "    }\n",
              "\n",
              "    .colab-df-convert:hover {\n",
              "      background-color: #E2EBFA;\n",
              "      box-shadow: 0px 1px 2px rgba(60, 64, 67, 0.3), 0px 1px 3px 1px rgba(60, 64, 67, 0.15);\n",
              "      fill: #174EA6;\n",
              "    }\n",
              "\n",
              "    [theme=dark] .colab-df-convert {\n",
              "      background-color: #3B4455;\n",
              "      fill: #D2E3FC;\n",
              "    }\n",
              "\n",
              "    [theme=dark] .colab-df-convert:hover {\n",
              "      background-color: #434B5C;\n",
              "      box-shadow: 0px 1px 3px 1px rgba(0, 0, 0, 0.15);\n",
              "      filter: drop-shadow(0px 1px 2px rgba(0, 0, 0, 0.3));\n",
              "      fill: #FFFFFF;\n",
              "    }\n",
              "  </style>\n",
              "\n",
              "      <script>\n",
              "        const buttonEl =\n",
              "          document.querySelector('#df-4eec2820-44b4-4395-9c39-d2fcfc30b4b5 button.colab-df-convert');\n",
              "        buttonEl.style.display =\n",
              "          google.colab.kernel.accessAllowed ? 'block' : 'none';\n",
              "\n",
              "        async function convertToInteractive(key) {\n",
              "          const element = document.querySelector('#df-4eec2820-44b4-4395-9c39-d2fcfc30b4b5');\n",
              "          const dataTable =\n",
              "            await google.colab.kernel.invokeFunction('convertToInteractive',\n",
              "                                                     [key], {});\n",
              "          if (!dataTable) return;\n",
              "\n",
              "          const docLinkHtml = 'Like what you see? Visit the ' +\n",
              "            '<a target=\"_blank\" href=https://colab.research.google.com/notebooks/data_table.ipynb>data table notebook</a>'\n",
              "            + ' to learn more about interactive tables.';\n",
              "          element.innerHTML = '';\n",
              "          dataTable['output_type'] = 'display_data';\n",
              "          await google.colab.output.renderOutput(dataTable, element);\n",
              "          const docLink = document.createElement('div');\n",
              "          docLink.innerHTML = docLinkHtml;\n",
              "          element.appendChild(docLink);\n",
              "        }\n",
              "      </script>\n",
              "    </div>\n",
              "  </div>\n",
              "  "
            ]
          },
          "metadata": {},
          "execution_count": 4
        }
      ]
    },
    {
      "cell_type": "code",
      "source": [
        "missing_values = df.isnull().any()\n",
        "missing_columns = missing_values[missing_values].index.tolist()\n",
        "\n",
        "print(\"Columns with missing values:\")\n",
        "for column in missing_columns:\n",
        "    print(column)"
      ],
      "metadata": {
        "colab": {
          "base_uri": "https://localhost:8080/"
        },
        "id": "FsQDKSVJV0Fs",
        "outputId": "c59d7e1b-b5cb-43c4-8dd6-acc0c2deea0f"
      },
      "execution_count": null,
      "outputs": [
        {
          "output_type": "stream",
          "name": "stdout",
          "text": [
            "Columns with missing values:\n"
          ]
        }
      ]
    },
    {
      "cell_type": "code",
      "source": [
        "import matplotlib.pyplot as plt\n",
        "\n",
        "# Assuming your dataset is stored in a DataFrame called 'data'\n",
        "# Exclude the 'date' column from the plot\n",
        "columns_to_plot = [col for col in df.columns if col != 'Date']\n",
        "\n",
        "# Calculate the number of rows and columns for subplots\n",
        "num_plots = len(columns_to_plot)\n",
        "num_cols = min(4, num_plots)\n",
        "num_rows = (num_plots + num_cols - 1) // num_cols\n",
        "\n",
        "# Create subplots for box plots\n",
        "fig, axes = plt.subplots(nrows=num_rows, ncols=num_cols, figsize=(12, 6*num_rows))\n",
        "\n",
        "# Generate box plots for each feature\n",
        "for i, col in enumerate(columns_to_plot):\n",
        "    ax = axes[i // num_cols, i % num_cols]\n",
        "    ax.boxplot(df[col], vert=False)\n",
        "    ax.set_title(col)\n",
        "    ax.set_xlim(0)  # Set the lower x-axis limit to 0\n",
        "\n",
        "# Remove empty subplots if the number of features is not a multiple of 3\n",
        "if num_plots % num_cols != 0:\n",
        "    for i in range(num_plots % num_cols, num_cols):\n",
        "        fig.delaxes(axes[num_rows - 1, i])\n",
        "\n",
        "# Adjust spacing between subplots\n",
        "plt.tight_layout()\n",
        "\n",
        "# Display the plots\n",
        "plt.show()"
      ],
      "metadata": {
        "colab": {
          "base_uri": "https://localhost:8080/",
          "height": 1000
        },
        "id": "17uQ0MCEQmfW",
        "outputId": "c4ad505a-8cae-4da4-db29-cee39ccc9799"
      },
      "execution_count": 12,
      "outputs": [
        {
          "output_type": "display_data",
          "data": {
            "text/plain": [
              "<Figure size 1200x1200 with 8 Axes>"
            ],
            "image/png": "[encoded data removed]"
          },
          "metadata": {}
        }
      ]
    },
    {
      "cell_type": "code",
      "source": [
        "df.columns"
      ],
      "metadata": {
        "colab": {
          "base_uri": "https://localhost:8080/"
        },
        "id": "AH2_U9f5QyHQ",
        "outputId": "83180e33-e952-432d-8cfb-5cb311289e6d"
      },
      "execution_count": null,
      "outputs": [
        {
          "output_type": "execute_result",
          "data": {
            "text/plain": [
              "Index(['Date', 'SoilMoisture', 'Average_Temp', 'Min_Temp', 'Max_Temp',\n",
              "       'Precipitation', 'Working_days', 'HA_Harvested', 'FFB_Yield'],\n",
              "      dtype='object')"
            ]
          },
          "metadata": {},
          "execution_count": 10
        }
      ]
    },
    {
      "cell_type": "code",
      "source": [
        "import seaborn as sns\n",
        "import matplotlib.pyplot as plt\n",
        "\n",
        "# Select the columns for correlation analysis\n",
        "columns_for_correlation = ['SoilMoisture', 'Average_Temp', 'Min_Temp', 'Max_Temp',\n",
        "       'Precipitation', 'Working_days', 'HA_Harvested', 'FFB_Yield']  # Replace with the actual column names\n",
        "\n",
        "# Create a new DataFrame with only the selected columns\n",
        "data_for_correlation = df[columns_for_correlation]\n",
        "\n",
        "# Perform correlation analysis\n",
        "correlation_matrix = data_for_correlation.corr()\n",
        "\n",
        "# Plot the correlation matrix as a heatmap\n",
        "plt.figure(figsize=(10, 8))  # Increase the figsize\n",
        "sns.heatmap(correlation_matrix, annot=True, fmt='.2f', cmap='coolwarm', square=True)\n",
        "\n",
        "# Add title and display the plot\n",
        "plt.title(\"Correlation Matrix\")\n",
        "plt.show()"
      ],
      "metadata": {
        "colab": {
          "base_uri": "https://localhost:8080/",
          "height": 786
        },
        "id": "apityFsHWJ0O",
        "outputId": "e4f44e9b-ee7e-4651-bd1e-da0e7940ae15"
      },
      "execution_count": null,
      "outputs": [
        {
          "output_type": "display_data",
          "data": {
            "text/plain": [
              "<Figure size 1000x800 with 2 Axes>"
            ],
            "image/png": "[encoded data removed]"
          },
          "metadata": {}
        }
      ]
    },
    {
      "cell_type": "code",
      "source": [
        "df['SoilMoisture_ma'] = df['SoilMoisture'].rolling(window=6, min_periods=1).mean()\n",
        "df['Average_Temp_ma'] = df['Average_Temp'].rolling(window=6, min_periods=1).mean()\n",
        "df['Precipitation_ma'] = df['Precipitation'].rolling(window=6, min_periods=1).mean()\n",
        "df['Max_Temp_ma'] = df['Max_Temp'].rolling(window=6, min_periods=1).mean()\n",
        "df['Min_Temp_ma'] = df['Min_Temp'].rolling(window=6, min_periods=1).mean()"
      ],
      "metadata": {
        "id": "udAuzLMjWNPp"
      },
      "execution_count": null,
      "outputs": []
    },
    {
      "cell_type": "code",
      "source": [
        "df['Max_min_Temp'] = df['Max_Temp'] / df['Min_Temp']\n",
        "df['Max_min_Temp_ma'] = df['Max_min_Temp'].rolling(window=6, min_periods=1).mean()"
      ],
      "metadata": {
        "id": "9PKIiYL8RO5E"
      },
      "execution_count": null,
      "outputs": []
    },
    {
      "cell_type": "code",
      "source": [
        "\n",
        "# Select the columns for correlation analysis\n",
        "columns_for_correlation = ['Average_Temp', 'Average_Temp_ma','FFB_Yield']  # Replace with the actual column names\n",
        "\n",
        "# Create a new DataFrame with only the selected columns\n",
        "data_for_correlation = df[columns_for_correlation]\n",
        "\n",
        "# Perform correlation analysis\n",
        "correlation_matrix = data_for_correlation.corr()\n",
        "\n",
        "# Plot the correlation matrix as a heatmap\n",
        "plt.figure(figsize=(10, 8))  # Increase the figsize\n",
        "sns.heatmap(correlation_matrix, annot=True, fmt='.2f', cmap='coolwarm', square=True)\n",
        "\n",
        "# Add title and display the plot\n",
        "plt.title(\"Correlation Matrix\")\n",
        "plt.show()"
      ],
      "metadata": {
        "colab": {
          "base_uri": "https://localhost:8080/",
          "height": 699
        },
        "id": "ydXTJ6mEX7kZ",
        "outputId": "49ebb875-0a67-4801-cdd0-9a10c66ae66d"
      },
      "execution_count": null,
      "outputs": [
        {
          "output_type": "display_data",
          "data": {
            "text/plain": [
              "<Figure size 1000x800 with 2 Axes>"
            ],
            "image/png": "[encoded data removed]"
          },
          "metadata": {}
        }
      ]
    },
    {
      "cell_type": "code",
      "source": [
        "# Select the columns for correlation analysis\n",
        "columns_for_correlation = ['Precipitation', 'Precipitation_ma','FFB_Yield']  # Replace with the actual column names\n",
        "\n",
        "# Create a new DataFrame with only the selected columns\n",
        "data_for_correlation = df[columns_for_correlation]\n",
        "\n",
        "# Perform correlation analysis\n",
        "correlation_matrix = data_for_correlation.corr()\n",
        "\n",
        "# Plot the correlation matrix as a heatmap\n",
        "plt.figure(figsize=(10, 8))  # Increase the figsize\n",
        "sns.heatmap(correlation_matrix, annot=True, fmt='.2f', cmap='coolwarm', square=True)\n",
        "\n",
        "# Add title and display the plot\n",
        "plt.title(\"Correlation Matrix\")\n",
        "plt.show()"
      ],
      "metadata": {
        "colab": {
          "base_uri": "https://localhost:8080/",
          "height": 699
        },
        "id": "SQoUH1xOKp69",
        "outputId": "970b4b1e-e1d4-48c4-86c0-4ec4e1365b21"
      },
      "execution_count": null,
      "outputs": [
        {
          "output_type": "display_data",
          "data": {
            "text/plain": [
              "<Figure size 1000x800 with 2 Axes>"
            ],
            "image/png": "[encoded data removed]"
          },
          "metadata": {}
        }
      ]
    },
    {
      "cell_type": "code",
      "source": [
        "df.columns"
      ],
      "metadata": {
        "colab": {
          "base_uri": "https://localhost:8080/"
        },
        "id": "VKhqR8-KD9zt",
        "outputId": "59d86692-4632-4634-a251-9ffffb32e852"
      },
      "execution_count": null,
      "outputs": [
        {
          "output_type": "execute_result",
          "data": {
            "text/plain": [
              "Index(['Date', 'SoilMoisture', 'Average_Temp', 'Min_Temp', 'Max_Temp',\n",
              "       'Precipitation', 'Working_days', 'HA_Harvested', 'FFB_Yield'],\n",
              "      dtype='object')"
            ]
          },
          "metadata": {},
          "execution_count": 23
        }
      ]
    },
    {
      "cell_type": "code",
      "source": [
        "filtered_df = df.drop(df.index[:6]) #first six observation is has no moving average data\n",
        "filtered_df.columns"
      ],
      "metadata": {
        "colab": {
          "base_uri": "https://localhost:8080/"
        },
        "id": "HCkKWasoX8Ly",
        "outputId": "6cdbd507-4667-4693-9865-4e98f5aa7ab8"
      },
      "execution_count": null,
      "outputs": [
        {
          "output_type": "execute_result",
          "data": {
            "text/plain": [
              "Index(['Date', 'SoilMoisture', 'Average_Temp', 'Min_Temp', 'Max_Temp',\n",
              "       'Precipitation', 'Working_days', 'HA_Harvested', 'FFB_Yield',\n",
              "       'SoilMoisture_ma', 'Average_Temp_ma', 'Precipitation_ma', 'Max_Temp_ma',\n",
              "       'Min_Temp_ma', 'Max_min_Temp', 'Max_min_Temp_ma'],\n",
              "      dtype='object')"
            ]
          },
          "metadata": {},
          "execution_count": 7
        }
      ]
    },
    {
      "cell_type": "code",
      "source": [
        "filtered_df.head()"
      ],
      "metadata": {
        "colab": {
          "base_uri": "https://localhost:8080/",
          "height": 270
        },
        "id": "yBskBcmSdrLY",
        "outputId": "618f24ba-274d-42b1-f175-7ade9e8b3c9c"
      },
      "execution_count": null,
      "outputs": [
        {
          "output_type": "execute_result",
          "data": {
            "text/plain": [
              "          Date  SoilMoisture  Average_Temp  Min_Temp  Max_Temp  Precipitation  \\\n",
              "6   01.07.2008         544.7     27.035484      21.2      33.9          201.6   \n",
              "7   01.08.2008         569.9     27.200000      21.7      34.5          283.2   \n",
              "8   01.09.2008         571.7     27.556667      21.2      35.1          176.3   \n",
              "9   01.10.2008         565.3     27.358065      22.1      33.9          217.5   \n",
              "10  01.11.2008         586.8     26.716667      22.3      34.7          272.6   \n",
              "\n",
              "    Working_days  HA_Harvested  FFB_Yield  SoilMoisture_ma  Average_Temp_ma  \\\n",
              "6             26   814475.3012       1.66       558.366667        26.651887   \n",
              "7             26   782279.5322       1.71       558.533333        26.824301   \n",
              "8             25   795237.6543       1.62       557.550000        27.175681   \n",
              "9             24   765090.8602       1.86       554.916667        27.251470   \n",
              "10            25   761875.6614       1.89       561.816667        27.163925   \n",
              "\n",
              "    Precipitation_ma  Max_Temp_ma  Min_Temp_ma  Max_min_Temp  Max_min_Temp_ma  \n",
              "6         186.400000    34.533333    21.050000      1.599057         1.640987  \n",
              "7         210.233333    34.433333    21.183333      1.589862         1.626060  \n",
              "8         192.883333    34.800000    21.166667      1.655660         1.644570  \n",
              "9         200.250000    34.650000    21.416667      1.533937         1.618673  \n",
              "10        222.250000    34.600000    21.650000      1.556054         1.598908  "
            ],
            "text/html": [
              "\n",
              "  <div id=\"df-d95af416-ed07-448e-a816-ef664f62acdf\">\n",
              "    <div class=\"colab-df-container\">\n",
              "      <div>\n",
              "<style scoped>\n",
              "    .dataframe tbody tr th:only-of-type {\n",
              "        vertical-align: middle;\n",
              "    }\n",
              "\n",
              "    .dataframe tbody tr th {\n",
              "        vertical-align: top;\n",
              "    }\n",
              "\n",
              "    .dataframe thead th {\n",
              "        text-align: right;\n",
              "    }\n",
              "</style>\n",
              "<table border=\"1\" class=\"dataframe\">\n",
              "  <thead>\n",
              "    <tr style=\"text-align: right;\">\n",
              "      <th></th>\n",
              "      <th>Date</th>\n",
              "      <th>SoilMoisture</th>\n",
              "      <th>Average_Temp</th>\n",
              "      <th>Min_Temp</th>\n",
              "      <th>Max_Temp</th>\n",
              "      <th>Precipitation</th>\n",
              "      <th>Working_days</th>\n",
              "      <th>HA_Harvested</th>\n",
              "      <th>FFB_Yield</th>\n",
              "      <th>SoilMoisture_ma</th>\n",
              "      <th>Average_Temp_ma</th>\n",
              "      <th>Precipitation_ma</th>\n",
              "      <th>Max_Temp_ma</th>\n",
              "      <th>Min_Temp_ma</th>\n",
              "      <th>Max_min_Temp</th>\n",
              "      <th>Max_min_Temp_ma</th>\n",
              "    </tr>\n",
              "  </thead>\n",
              "  <tbody>\n",
              "    <tr>\n",
              "      <th>6</th>\n",
              "      <td>01.07.2008</td>\n",
              "      <td>544.7</td>\n",
              "      <td>27.035484</td>\n",
              "      <td>21.2</td>\n",
              "      <td>33.9</td>\n",
              "      <td>201.6</td>\n",
              "      <td>26</td>\n",
              "      <td>814475.3012</td>\n",
              "      <td>1.66</td>\n",
              "      <td>558.366667</td>\n",
              "      <td>26.651887</td>\n",
              "      <td>186.400000</td>\n",
              "      <td>34.533333</td>\n",
              "      <td>21.050000</td>\n",
              "      <td>1.599057</td>\n",
              "      <td>1.640987</td>\n",
              "    </tr>\n",
              "    <tr>\n",
              "      <th>7</th>\n",
              "      <td>01.08.2008</td>\n",
              "      <td>569.9</td>\n",
              "      <td>27.200000</td>\n",
              "      <td>21.7</td>\n",
              "      <td>34.5</td>\n",
              "      <td>283.2</td>\n",
              "      <td>26</td>\n",
              "      <td>782279.5322</td>\n",
              "      <td>1.71</td>\n",
              "      <td>558.533333</td>\n",
              "      <td>26.824301</td>\n",
              "      <td>210.233333</td>\n",
              "      <td>34.433333</td>\n",
              "      <td>21.183333</td>\n",
              "      <td>1.589862</td>\n",
              "      <td>1.626060</td>\n",
              "    </tr>\n",
              "    <tr>\n",
              "      <th>8</th>\n",
              "      <td>01.09.2008</td>\n",
              "      <td>571.7</td>\n",
              "      <td>27.556667</td>\n",
              "      <td>21.2</td>\n",
              "      <td>35.1</td>\n",
              "      <td>176.3</td>\n",
              "      <td>25</td>\n",
              "      <td>795237.6543</td>\n",
              "      <td>1.62</td>\n",
              "      <td>557.550000</td>\n",
              "      <td>27.175681</td>\n",
              "      <td>192.883333</td>\n",
              "      <td>34.800000</td>\n",
              "      <td>21.166667</td>\n",
              "      <td>1.655660</td>\n",
              "      <td>1.644570</td>\n",
              "    </tr>\n",
              "    <tr>\n",
              "      <th>9</th>\n",
              "      <td>01.10.2008</td>\n",
              "      <td>565.3</td>\n",
              "      <td>27.358065</td>\n",
              "      <td>22.1</td>\n",
              "      <td>33.9</td>\n",
              "      <td>217.5</td>\n",
              "      <td>24</td>\n",
              "      <td>765090.8602</td>\n",
              "      <td>1.86</td>\n",
              "      <td>554.916667</td>\n",
              "      <td>27.251470</td>\n",
              "      <td>200.250000</td>\n",
              "      <td>34.650000</td>\n",
              "      <td>21.416667</td>\n",
              "      <td>1.533937</td>\n",
              "      <td>1.618673</td>\n",
              "    </tr>\n",
              "    <tr>\n",
              "      <th>10</th>\n",
              "      <td>01.11.2008</td>\n",
              "      <td>586.8</td>\n",
              "      <td>26.716667</td>\n",
              "      <td>22.3</td>\n",
              "      <td>34.7</td>\n",
              "      <td>272.6</td>\n",
              "      <td>25</td>\n",
              "      <td>761875.6614</td>\n",
              "      <td>1.89</td>\n",
              "      <td>561.816667</td>\n",
              "      <td>27.163925</td>\n",
              "      <td>222.250000</td>\n",
              "      <td>34.600000</td>\n",
              "      <td>21.650000</td>\n",
              "      <td>1.556054</td>\n",
              "      <td>1.598908</td>\n",
              "    </tr>\n",
              "  </tbody>\n",
              "</table>\n",
              "</div>\n",
              "      <button class=\"colab-df-convert\" onclick=\"convertToInteractive('df-d95af416-ed07-448e-a816-ef664f62acdf')\"\n",
              "              title=\"Convert this dataframe to an interactive table.\"\n",
              "              style=\"display:none;\">\n",
              "        \n",
              "  <svg xmlns=\"http://www.w3.org/2000/svg\" height=\"24px\"viewBox=\"0 0 24 24\"\n",
              "       width=\"24px\">\n",
              "    <path d=\"M0 0h24v24H0V0z\" fill=\"none\"/>\n",
              "    <path d=\"M18.56 5.44l.94 2.06.94-2.06 2.06-.94-2.06-.94-.94-2.06-.94 2.06-2.06.94zm-11 1L8.5 8.5l.94-2.06 2.06-.94-2.06-.94L8.5 2.5l-.94 2.06-2.06.94zm10 10l.94 2.06.94-2.06 2.06-.94-2.06-.94-.94-2.06-.94 2.06-2.06.94z\"/><path d=\"M17.41 7.96l-1.37-1.37c-.4-.4-.92-.59-1.43-.59-.52 0-1.04.2-1.43.59L10.3 9.45l-7.72 7.72c-.78.78-.78 2.05 0 2.83L4 21.41c.39.39.9.59 1.41.59.51 0 1.02-.2 1.41-.59l7.78-7.78 2.81-2.81c.8-.78.8-2.07 0-2.86zM5.41 20L4 18.59l7.72-7.72 1.47 1.35L5.41 20z\"/>\n",
              "  </svg>\n",
              "      </button>\n",
              "      \n",
              "  <style>\n",
              "    .colab-df-container {\n",
              "      display:flex;\n",
              "      flex-wrap:wrap;\n",
              "      gap: 12px;\n",
              "    }\n",
              "\n",
              "    .colab-df-convert {\n",
              "      background-color: #E8F0FE;\n",
              "      border: none;\n",
              "      border-radius: 50%;\n",
              "      cursor: pointer;\n",
              "      display: none;\n",
              "      fill: #1967D2;\n",
              "      height: 32px;\n",
              "      padding: 0 0 0 0;\n",
              "      width: 32px;\n",
              "    }\n",
              "\n",
              "    .colab-df-convert:hover {\n",
              "      background-color: #E2EBFA;\n",
              "      box-shadow: 0px 1px 2px rgba(60, 64, 67, 0.3), 0px 1px 3px 1px rgba(60, 64, 67, 0.15);\n",
              "      fill: #174EA6;\n",
              "    }\n",
              "\n",
              "    [theme=dark] .colab-df-convert {\n",
              "      background-color: #3B4455;\n",
              "      fill: #D2E3FC;\n",
              "    }\n",
              "\n",
              "    [theme=dark] .colab-df-convert:hover {\n",
              "      background-color: #434B5C;\n",
              "      box-shadow: 0px 1px 3px 1px rgba(0, 0, 0, 0.15);\n",
              "      filter: drop-shadow(0px 1px 2px rgba(0, 0, 0, 0.3));\n",
              "      fill: #FFFFFF;\n",
              "    }\n",
              "  </style>\n",
              "\n",
              "      <script>\n",
              "        const buttonEl =\n",
              "          document.querySelector('#df-d95af416-ed07-448e-a816-ef664f62acdf button.colab-df-convert');\n",
              "        buttonEl.style.display =\n",
              "          google.colab.kernel.accessAllowed ? 'block' : 'none';\n",
              "\n",
              "        async function convertToInteractive(key) {\n",
              "          const element = document.querySelector('#df-d95af416-ed07-448e-a816-ef664f62acdf');\n",
              "          const dataTable =\n",
              "            await google.colab.kernel.invokeFunction('convertToInteractive',\n",
              "                                                     [key], {});\n",
              "          if (!dataTable) return;\n",
              "\n",
              "          const docLinkHtml = 'Like what you see? Visit the ' +\n",
              "            '<a target=\"_blank\" href=https://colab.research.google.com/notebooks/data_table.ipynb>data table notebook</a>'\n",
              "            + ' to learn more about interactive tables.';\n",
              "          element.innerHTML = '';\n",
              "          dataTable['output_type'] = 'display_data';\n",
              "          await google.colab.output.renderOutput(dataTable, element);\n",
              "          const docLink = document.createElement('div');\n",
              "          docLink.innerHTML = docLinkHtml;\n",
              "          element.appendChild(docLink);\n",
              "        }\n",
              "      </script>\n",
              "    </div>\n",
              "  </div>\n",
              "  "
            ]
          },
          "metadata": {},
          "execution_count": 24
        }
      ]
    },
    {
      "cell_type": "markdown",
      "source": [
        "# Setup Expirement and Data Preprocessing"
      ],
      "metadata": {
        "id": "r-KdEP9SZO7U"
      }
    },
    {
      "cell_type": "code",
      "source": [
        "from pycaret.regression import *\n",
        "s = setup(filtered_df, target = 'FFB_Yield', session_id = 888,\n",
        "          normalize = True, remove_outliers = True,\n",
        "          ignore_features = ['Date'],\n",
        "          train_size = 0.75, remove_multicollinearity = True,\n",
        "          normalize_method = 'robust', feature_selection = True, n_features_to_select = 0.6)"
      ],
      "metadata": {
        "colab": {
          "base_uri": "https://localhost:8080/",
          "height": 990
        },
        "id": "CBLIGEXAdsQU",
        "outputId": "d2020486-bb19-4fac-ee43-3eefa9b0ff54"
      },
      "execution_count": null,
      "outputs": [
        {
          "output_type": "display_data",
          "data": {
            "text/plain": [
              "<pandas.io.formats.style.Styler at 0x7efd903ba980>"
            ],
            "text/html": [
              "<style type=\"text/css\">\n",
              "#T_075cd_row9_col1, #T_075cd_row13_col1, #T_075cd_row15_col1, #T_075cd_row17_col1, #T_075cd_row19_col1 {\n",
              "  background-color: lightgreen;\n",
              "}\n",
              "</style>\n",
              "<table id=\"T_075cd\" class=\"dataframe\">\n",
              "  <thead>\n",
              "    <tr>\n",
              "      <th class=\"blank level0\" >&nbsp;</th>\n",
              "      <th id=\"T_075cd_level0_col0\" class=\"col_heading level0 col0\" >Description</th>\n",
              "      <th id=\"T_075cd_level0_col1\" class=\"col_heading level0 col1\" >Value</th>\n",
              "    </tr>\n",
              "  </thead>\n",
              "  <tbody>\n",
              "    <tr>\n",
              "      <th id=\"T_075cd_level0_row0\" class=\"row_heading level0 row0\" >0</th>\n",
              "      <td id=\"T_075cd_row0_col0\" class=\"data row0 col0\" >Session id</td>\n",
              "      <td id=\"T_075cd_row0_col1\" class=\"data row0 col1\" >888</td>\n",
              "    </tr>\n",
              "    <tr>\n",
              "      <th id=\"T_075cd_level0_row1\" class=\"row_heading level0 row1\" >1</th>\n",
              "      <td id=\"T_075cd_row1_col0\" class=\"data row1 col0\" >Target</td>\n",
              "      <td id=\"T_075cd_row1_col1\" class=\"data row1 col1\" >FFB_Yield</td>\n",
              "    </tr>\n",
              "    <tr>\n",
              "      <th id=\"T_075cd_level0_row2\" class=\"row_heading level0 row2\" >2</th>\n",
              "      <td id=\"T_075cd_row2_col0\" class=\"data row2 col0\" >Target type</td>\n",
              "      <td id=\"T_075cd_row2_col1\" class=\"data row2 col1\" >Regression</td>\n",
              "    </tr>\n",
              "    <tr>\n",
              "      <th id=\"T_075cd_level0_row3\" class=\"row_heading level0 row3\" >3</th>\n",
              "      <td id=\"T_075cd_row3_col0\" class=\"data row3 col0\" >Original data shape</td>\n",
              "      <td id=\"T_075cd_row3_col1\" class=\"data row3 col1\" >(124, 16)</td>\n",
              "    </tr>\n",
              "    <tr>\n",
              "      <th id=\"T_075cd_level0_row4\" class=\"row_heading level0 row4\" >4</th>\n",
              "      <td id=\"T_075cd_row4_col0\" class=\"data row4 col0\" >Transformed data shape</td>\n",
              "      <td id=\"T_075cd_row4_col1\" class=\"data row4 col1\" >(119, 9)</td>\n",
              "    </tr>\n",
              "    <tr>\n",
              "      <th id=\"T_075cd_level0_row5\" class=\"row_heading level0 row5\" >5</th>\n",
              "      <td id=\"T_075cd_row5_col0\" class=\"data row5 col0\" >Transformed train set shape</td>\n",
              "      <td id=\"T_075cd_row5_col1\" class=\"data row5 col1\" >(88, 9)</td>\n",
              "    </tr>\n",
              "    <tr>\n",
              "      <th id=\"T_075cd_level0_row6\" class=\"row_heading level0 row6\" >6</th>\n",
              "      <td id=\"T_075cd_row6_col0\" class=\"data row6 col0\" >Transformed test set shape</td>\n",
              "      <td id=\"T_075cd_row6_col1\" class=\"data row6 col1\" >(31, 9)</td>\n",
              "    </tr>\n",
              "    <tr>\n",
              "      <th id=\"T_075cd_level0_row7\" class=\"row_heading level0 row7\" >7</th>\n",
              "      <td id=\"T_075cd_row7_col0\" class=\"data row7 col0\" >Ignore features</td>\n",
              "      <td id=\"T_075cd_row7_col1\" class=\"data row7 col1\" >1</td>\n",
              "    </tr>\n",
              "    <tr>\n",
              "      <th id=\"T_075cd_level0_row8\" class=\"row_heading level0 row8\" >8</th>\n",
              "      <td id=\"T_075cd_row8_col0\" class=\"data row8 col0\" >Numeric features</td>\n",
              "      <td id=\"T_075cd_row8_col1\" class=\"data row8 col1\" >14</td>\n",
              "    </tr>\n",
              "    <tr>\n",
              "      <th id=\"T_075cd_level0_row9\" class=\"row_heading level0 row9\" >9</th>\n",
              "      <td id=\"T_075cd_row9_col0\" class=\"data row9 col0\" >Preprocess</td>\n",
              "      <td id=\"T_075cd_row9_col1\" class=\"data row9 col1\" >True</td>\n",
              "    </tr>\n",
              "    <tr>\n",
              "      <th id=\"T_075cd_level0_row10\" class=\"row_heading level0 row10\" >10</th>\n",
              "      <td id=\"T_075cd_row10_col0\" class=\"data row10 col0\" >Imputation type</td>\n",
              "      <td id=\"T_075cd_row10_col1\" class=\"data row10 col1\" >simple</td>\n",
              "    </tr>\n",
              "    <tr>\n",
              "      <th id=\"T_075cd_level0_row11\" class=\"row_heading level0 row11\" >11</th>\n",
              "      <td id=\"T_075cd_row11_col0\" class=\"data row11 col0\" >Numeric imputation</td>\n",
              "      <td id=\"T_075cd_row11_col1\" class=\"data row11 col1\" >mean</td>\n",
              "    </tr>\n",
              "    <tr>\n",
              "      <th id=\"T_075cd_level0_row12\" class=\"row_heading level0 row12\" >12</th>\n",
              "      <td id=\"T_075cd_row12_col0\" class=\"data row12 col0\" >Categorical imputation</td>\n",
              "      <td id=\"T_075cd_row12_col1\" class=\"data row12 col1\" >mode</td>\n",
              "    </tr>\n",
              "    <tr>\n",
              "      <th id=\"T_075cd_level0_row13\" class=\"row_heading level0 row13\" >13</th>\n",
              "      <td id=\"T_075cd_row13_col0\" class=\"data row13 col0\" >Remove multicollinearity</td>\n",
              "      <td id=\"T_075cd_row13_col1\" class=\"data row13 col1\" >True</td>\n",
              "    </tr>\n",
              "    <tr>\n",
              "      <th id=\"T_075cd_level0_row14\" class=\"row_heading level0 row14\" >14</th>\n",
              "      <td id=\"T_075cd_row14_col0\" class=\"data row14 col0\" >Multicollinearity threshold</td>\n",
              "      <td id=\"T_075cd_row14_col1\" class=\"data row14 col1\" >0.900000</td>\n",
              "    </tr>\n",
              "    <tr>\n",
              "      <th id=\"T_075cd_level0_row15\" class=\"row_heading level0 row15\" >15</th>\n",
              "      <td id=\"T_075cd_row15_col0\" class=\"data row15 col0\" >Remove outliers</td>\n",
              "      <td id=\"T_075cd_row15_col1\" class=\"data row15 col1\" >True</td>\n",
              "    </tr>\n",
              "    <tr>\n",
              "      <th id=\"T_075cd_level0_row16\" class=\"row_heading level0 row16\" >16</th>\n",
              "      <td id=\"T_075cd_row16_col0\" class=\"data row16 col0\" >Outliers threshold</td>\n",
              "      <td id=\"T_075cd_row16_col1\" class=\"data row16 col1\" >0.050000</td>\n",
              "    </tr>\n",
              "    <tr>\n",
              "      <th id=\"T_075cd_level0_row17\" class=\"row_heading level0 row17\" >17</th>\n",
              "      <td id=\"T_075cd_row17_col0\" class=\"data row17 col0\" >Normalize</td>\n",
              "      <td id=\"T_075cd_row17_col1\" class=\"data row17 col1\" >True</td>\n",
              "    </tr>\n",
              "    <tr>\n",
              "      <th id=\"T_075cd_level0_row18\" class=\"row_heading level0 row18\" >18</th>\n",
              "      <td id=\"T_075cd_row18_col0\" class=\"data row18 col0\" >Normalize method</td>\n",
              "      <td id=\"T_075cd_row18_col1\" class=\"data row18 col1\" >robust</td>\n",
              "    </tr>\n",
              "    <tr>\n",
              "      <th id=\"T_075cd_level0_row19\" class=\"row_heading level0 row19\" >19</th>\n",
              "      <td id=\"T_075cd_row19_col0\" class=\"data row19 col0\" >Feature selection</td>\n",
              "      <td id=\"T_075cd_row19_col1\" class=\"data row19 col1\" >True</td>\n",
              "    </tr>\n",
              "    <tr>\n",
              "      <th id=\"T_075cd_level0_row20\" class=\"row_heading level0 row20\" >20</th>\n",
              "      <td id=\"T_075cd_row20_col0\" class=\"data row20 col0\" >Feature selection method</td>\n",
              "      <td id=\"T_075cd_row20_col1\" class=\"data row20 col1\" >classic</td>\n",
              "    </tr>\n",
              "    <tr>\n",
              "      <th id=\"T_075cd_level0_row21\" class=\"row_heading level0 row21\" >21</th>\n",
              "      <td id=\"T_075cd_row21_col0\" class=\"data row21 col0\" >Feature selection estimator</td>\n",
              "      <td id=\"T_075cd_row21_col1\" class=\"data row21 col1\" >lightgbm</td>\n",
              "    </tr>\n",
              "    <tr>\n",
              "      <th id=\"T_075cd_level0_row22\" class=\"row_heading level0 row22\" >22</th>\n",
              "      <td id=\"T_075cd_row22_col0\" class=\"data row22 col0\" >Number of features selected</td>\n",
              "      <td id=\"T_075cd_row22_col1\" class=\"data row22 col1\" >0.600000</td>\n",
              "    </tr>\n",
              "    <tr>\n",
              "      <th id=\"T_075cd_level0_row23\" class=\"row_heading level0 row23\" >23</th>\n",
              "      <td id=\"T_075cd_row23_col0\" class=\"data row23 col0\" >Fold Generator</td>\n",
              "      <td id=\"T_075cd_row23_col1\" class=\"data row23 col1\" >KFold</td>\n",
              "    </tr>\n",
              "    <tr>\n",
              "      <th id=\"T_075cd_level0_row24\" class=\"row_heading level0 row24\" >24</th>\n",
              "      <td id=\"T_075cd_row24_col0\" class=\"data row24 col0\" >Fold Number</td>\n",
              "      <td id=\"T_075cd_row24_col1\" class=\"data row24 col1\" >10</td>\n",
              "    </tr>\n",
              "    <tr>\n",
              "      <th id=\"T_075cd_level0_row25\" class=\"row_heading level0 row25\" >25</th>\n",
              "      <td id=\"T_075cd_row25_col0\" class=\"data row25 col0\" >CPU Jobs</td>\n",
              "      <td id=\"T_075cd_row25_col1\" class=\"data row25 col1\" >-1</td>\n",
              "    </tr>\n",
              "    <tr>\n",
              "      <th id=\"T_075cd_level0_row26\" class=\"row_heading level0 row26\" >26</th>\n",
              "      <td id=\"T_075cd_row26_col0\" class=\"data row26 col0\" >Use GPU</td>\n",
              "      <td id=\"T_075cd_row26_col1\" class=\"data row26 col1\" >False</td>\n",
              "    </tr>\n",
              "    <tr>\n",
              "      <th id=\"T_075cd_level0_row27\" class=\"row_heading level0 row27\" >27</th>\n",
              "      <td id=\"T_075cd_row27_col0\" class=\"data row27 col0\" >Log Experiment</td>\n",
              "      <td id=\"T_075cd_row27_col1\" class=\"data row27 col1\" >False</td>\n",
              "    </tr>\n",
              "    <tr>\n",
              "      <th id=\"T_075cd_level0_row28\" class=\"row_heading level0 row28\" >28</th>\n",
              "      <td id=\"T_075cd_row28_col0\" class=\"data row28 col0\" >Experiment Name</td>\n",
              "      <td id=\"T_075cd_row28_col1\" class=\"data row28 col1\" >reg-default-name</td>\n",
              "    </tr>\n",
              "    <tr>\n",
              "      <th id=\"T_075cd_level0_row29\" class=\"row_heading level0 row29\" >29</th>\n",
              "      <td id=\"T_075cd_row29_col0\" class=\"data row29 col0\" >USI</td>\n",
              "      <td id=\"T_075cd_row29_col1\" class=\"data row29 col1\" >f2b5</td>\n",
              "    </tr>\n",
              "  </tbody>\n",
              "</table>\n"
            ]
          },
          "metadata": {}
        }
      ]
    },
    {
      "cell_type": "markdown",
      "source": [
        "# Model Training and Tuning"
      ],
      "metadata": {
        "id": "_9JvNBftZW2R"
      }
    },
    {
      "cell_type": "code",
      "source": [
        "compare_models()"
      ],
      "metadata": {
        "colab": {
          "base_uri": "https://localhost:8080/",
          "height": 702,
          "referenced_widgets": [
            "ee0714490d9747d5b109ac87220d5ecd",
            "9e4e3bbc7f71432b88631bbc5d7bcf07",
            "bf90d55a7cbb432bbc8ebf87cc2a9a7d",
            "6a8357f5e46a473ea7fc0cc77b26a628",
            "2b921791be274100806d705a682eba80",
            "30683ac616de4fe1973beb80a3b658b9",
            "d47c462e89414aed80f880e19872263c",
            "9035e5496cbd4cfda46fb83276c7b346",
            "a130dd2fb4c943d6b382ed2e16001fb2",
            "bac5acf9c028406ab676e23b520ac022",
            "92b3aa6eba8546f0a0562e86a2db5770"
          ]
        },
        "id": "hJ0RJm6zfK2u",
        "outputId": "d7083183-775b-46a9-b88e-e1123ef13eea"
      },
      "execution_count": null,
      "outputs": [
        {
          "output_type": "display_data",
          "data": {
            "text/plain": [
              "<IPython.core.display.HTML object>"
            ],
            "text/html": []
          },
          "metadata": {}
        },
        {
          "output_type": "display_data",
          "data": {
            "text/plain": [
              "<pandas.io.formats.style.Styler at 0x7efda1359c90>"
            ],
            "text/html": [
              "<style type=\"text/css\">\n",
              "#T_f8210 th {\n",
              "  text-align: left;\n",
              "}\n",
              "#T_f8210_row0_col0, #T_f8210_row0_col1, #T_f8210_row0_col3, #T_f8210_row0_col5, #T_f8210_row0_col6, #T_f8210_row1_col0, #T_f8210_row1_col2, #T_f8210_row1_col4, #T_f8210_row2_col0, #T_f8210_row2_col1, #T_f8210_row2_col2, #T_f8210_row2_col3, #T_f8210_row2_col4, #T_f8210_row2_col5, #T_f8210_row2_col6, #T_f8210_row3_col0, #T_f8210_row3_col1, #T_f8210_row3_col2, #T_f8210_row3_col3, #T_f8210_row3_col4, #T_f8210_row3_col5, #T_f8210_row3_col6, #T_f8210_row4_col0, #T_f8210_row4_col1, #T_f8210_row4_col2, #T_f8210_row4_col3, #T_f8210_row4_col4, #T_f8210_row4_col5, #T_f8210_row4_col6, #T_f8210_row5_col0, #T_f8210_row5_col1, #T_f8210_row5_col2, #T_f8210_row5_col3, #T_f8210_row5_col4, #T_f8210_row5_col5, #T_f8210_row5_col6, #T_f8210_row6_col0, #T_f8210_row6_col1, #T_f8210_row6_col2, #T_f8210_row6_col3, #T_f8210_row6_col4, #T_f8210_row6_col5, #T_f8210_row6_col6, #T_f8210_row7_col0, #T_f8210_row7_col1, #T_f8210_row7_col2, #T_f8210_row7_col3, #T_f8210_row7_col4, #T_f8210_row7_col5, #T_f8210_row7_col6, #T_f8210_row8_col0, #T_f8210_row8_col1, #T_f8210_row8_col2, #T_f8210_row8_col3, #T_f8210_row8_col4, #T_f8210_row8_col5, #T_f8210_row8_col6, #T_f8210_row9_col0, #T_f8210_row9_col1, #T_f8210_row9_col2, #T_f8210_row9_col3, #T_f8210_row9_col4, #T_f8210_row9_col5, #T_f8210_row9_col6, #T_f8210_row10_col0, #T_f8210_row10_col1, #T_f8210_row10_col2, #T_f8210_row10_col3, #T_f8210_row10_col4, #T_f8210_row10_col5, #T_f8210_row10_col6, #T_f8210_row11_col0, #T_f8210_row11_col1, #T_f8210_row11_col2, #T_f8210_row11_col3, #T_f8210_row11_col4, #T_f8210_row11_col5, #T_f8210_row11_col6, #T_f8210_row12_col0, #T_f8210_row12_col1, #T_f8210_row12_col2, #T_f8210_row12_col3, #T_f8210_row12_col4, #T_f8210_row12_col5, #T_f8210_row12_col6, #T_f8210_row13_col0, #T_f8210_row13_col1, #T_f8210_row13_col2, #T_f8210_row13_col3, #T_f8210_row13_col4, #T_f8210_row13_col5, #T_f8210_row13_col6, #T_f8210_row14_col0, #T_f8210_row14_col1, #T_f8210_row14_col2, #T_f8210_row14_col3, #T_f8210_row14_col4, #T_f8210_row14_col5, #T_f8210_row14_col6, #T_f8210_row15_col0, #T_f8210_row15_col1, #T_f8210_row15_col2, #T_f8210_row15_col3, #T_f8210_row15_col4, #T_f8210_row15_col5, #T_f8210_row15_col6, #T_f8210_row16_col0, #T_f8210_row16_col1, #T_f8210_row16_col2, #T_f8210_row16_col3, #T_f8210_row16_col4, #T_f8210_row16_col5, #T_f8210_row16_col6, #T_f8210_row17_col0, #T_f8210_row17_col1, #T_f8210_row17_col2, #T_f8210_row17_col3, #T_f8210_row17_col4, #T_f8210_row17_col5, #T_f8210_row17_col6, #T_f8210_row18_col0, #T_f8210_row18_col1, #T_f8210_row18_col2, #T_f8210_row18_col3, #T_f8210_row18_col4, #T_f8210_row18_col5, #T_f8210_row18_col6 {\n",
              "  text-align: left;\n",
              "}\n",
              "#T_f8210_row0_col2, #T_f8210_row0_col4, #T_f8210_row1_col1, #T_f8210_row1_col3, #T_f8210_row1_col5, #T_f8210_row1_col6 {\n",
              "  text-align: left;\n",
              "  background-color: yellow;\n",
              "}\n",
              "#T_f8210_row0_col7, #T_f8210_row1_col7, #T_f8210_row2_col7, #T_f8210_row3_col7, #T_f8210_row4_col7, #T_f8210_row5_col7, #T_f8210_row6_col7, #T_f8210_row7_col7, #T_f8210_row8_col7, #T_f8210_row9_col7, #T_f8210_row10_col7, #T_f8210_row11_col7, #T_f8210_row12_col7, #T_f8210_row14_col7, #T_f8210_row15_col7, #T_f8210_row16_col7, #T_f8210_row17_col7, #T_f8210_row18_col7 {\n",
              "  text-align: left;\n",
              "  background-color: lightgrey;\n",
              "}\n",
              "#T_f8210_row13_col7 {\n",
              "  text-align: left;\n",
              "  background-color: yellow;\n",
              "  background-color: lightgrey;\n",
              "}\n",
              "</style>\n",
              "<table id=\"T_f8210\" class=\"dataframe\">\n",
              "  <thead>\n",
              "    <tr>\n",
              "      <th class=\"blank level0\" >&nbsp;</th>\n",
              "      <th id=\"T_f8210_level0_col0\" class=\"col_heading level0 col0\" >Model</th>\n",
              "      <th id=\"T_f8210_level0_col1\" class=\"col_heading level0 col1\" >MAE</th>\n",
              "      <th id=\"T_f8210_level0_col2\" class=\"col_heading level0 col2\" >MSE</th>\n",
              "      <th id=\"T_f8210_level0_col3\" class=\"col_heading level0 col3\" >RMSE</th>\n",
              "      <th id=\"T_f8210_level0_col4\" class=\"col_heading level0 col4\" >R2</th>\n",
              "      <th id=\"T_f8210_level0_col5\" class=\"col_heading level0 col5\" >RMSLE</th>\n",
              "      <th id=\"T_f8210_level0_col6\" class=\"col_heading level0 col6\" >MAPE</th>\n",
              "      <th id=\"T_f8210_level0_col7\" class=\"col_heading level0 col7\" >TT (Sec)</th>\n",
              "    </tr>\n",
              "  </thead>\n",
              "  <tbody>\n",
              "    <tr>\n",
              "      <th id=\"T_f8210_level0_row0\" class=\"row_heading level0 row0\" >et</th>\n",
              "      <td id=\"T_f8210_row0_col0\" class=\"data row0 col0\" >Extra Trees Regressor</td>\n",
              "      <td id=\"T_f8210_row0_col1\" class=\"data row0 col1\" >0.1794</td>\n",
              "      <td id=\"T_f8210_row0_col2\" class=\"data row0 col2\" >0.0519</td>\n",
              "      <td id=\"T_f8210_row0_col3\" class=\"data row0 col3\" >0.2215</td>\n",
              "      <td id=\"T_f8210_row0_col4\" class=\"data row0 col4\" >0.2354</td>\n",
              "      <td id=\"T_f8210_row0_col5\" class=\"data row0 col5\" >0.0863</td>\n",
              "      <td id=\"T_f8210_row0_col6\" class=\"data row0 col6\" >0.1195</td>\n",
              "      <td id=\"T_f8210_row0_col7\" class=\"data row0 col7\" >0.3190</td>\n",
              "    </tr>\n",
              "    <tr>\n",
              "      <th id=\"T_f8210_level0_row1\" class=\"row_heading level0 row1\" >xgboost</th>\n",
              "      <td id=\"T_f8210_row1_col0\" class=\"data row1 col0\" >Extreme Gradient Boosting</td>\n",
              "      <td id=\"T_f8210_row1_col1\" class=\"data row1 col1\" >0.1764</td>\n",
              "      <td id=\"T_f8210_row1_col2\" class=\"data row1 col2\" >0.0530</td>\n",
              "      <td id=\"T_f8210_row1_col3\" class=\"data row1 col3\" >0.2196</td>\n",
              "      <td id=\"T_f8210_row1_col4\" class=\"data row1 col4\" >0.2297</td>\n",
              "      <td id=\"T_f8210_row1_col5\" class=\"data row1 col5\" >0.0860</td>\n",
              "      <td id=\"T_f8210_row1_col6\" class=\"data row1 col6\" >0.1174</td>\n",
              "      <td id=\"T_f8210_row1_col7\" class=\"data row1 col7\" >0.2640</td>\n",
              "    </tr>\n",
              "    <tr>\n",
              "      <th id=\"T_f8210_level0_row2\" class=\"row_heading level0 row2\" >rf</th>\n",
              "      <td id=\"T_f8210_row2_col0\" class=\"data row2 col0\" >Random Forest Regressor</td>\n",
              "      <td id=\"T_f8210_row2_col1\" class=\"data row2 col1\" >0.1831</td>\n",
              "      <td id=\"T_f8210_row2_col2\" class=\"data row2 col2\" >0.0553</td>\n",
              "      <td id=\"T_f8210_row2_col3\" class=\"data row2 col3\" >0.2257</td>\n",
              "      <td id=\"T_f8210_row2_col4\" class=\"data row2 col4\" >0.1984</td>\n",
              "      <td id=\"T_f8210_row2_col5\" class=\"data row2 col5\" >0.0879</td>\n",
              "      <td id=\"T_f8210_row2_col6\" class=\"data row2 col6\" >0.1226</td>\n",
              "      <td id=\"T_f8210_row2_col7\" class=\"data row2 col7\" >0.4000</td>\n",
              "    </tr>\n",
              "    <tr>\n",
              "      <th id=\"T_f8210_level0_row3\" class=\"row_heading level0 row3\" >ada</th>\n",
              "      <td id=\"T_f8210_row3_col0\" class=\"data row3 col0\" >AdaBoost Regressor</td>\n",
              "      <td id=\"T_f8210_row3_col1\" class=\"data row3 col1\" >0.1895</td>\n",
              "      <td id=\"T_f8210_row3_col2\" class=\"data row3 col2\" >0.0566</td>\n",
              "      <td id=\"T_f8210_row3_col3\" class=\"data row3 col3\" >0.2323</td>\n",
              "      <td id=\"T_f8210_row3_col4\" class=\"data row3 col4\" >0.1655</td>\n",
              "      <td id=\"T_f8210_row3_col5\" class=\"data row3 col5\" >0.0903</td>\n",
              "      <td id=\"T_f8210_row3_col6\" class=\"data row3 col6\" >0.1263</td>\n",
              "      <td id=\"T_f8210_row3_col7\" class=\"data row3 col7\" >0.2210</td>\n",
              "    </tr>\n",
              "    <tr>\n",
              "      <th id=\"T_f8210_level0_row4\" class=\"row_heading level0 row4\" >knn</th>\n",
              "      <td id=\"T_f8210_row4_col0\" class=\"data row4 col0\" >K Neighbors Regressor</td>\n",
              "      <td id=\"T_f8210_row4_col1\" class=\"data row4 col1\" >0.1776</td>\n",
              "      <td id=\"T_f8210_row4_col2\" class=\"data row4 col2\" >0.0560</td>\n",
              "      <td id=\"T_f8210_row4_col3\" class=\"data row4 col3\" >0.2306</td>\n",
              "      <td id=\"T_f8210_row4_col4\" class=\"data row4 col4\" >0.1548</td>\n",
              "      <td id=\"T_f8210_row4_col5\" class=\"data row4 col5\" >0.0901</td>\n",
              "      <td id=\"T_f8210_row4_col6\" class=\"data row4 col6\" >0.1233</td>\n",
              "      <td id=\"T_f8210_row4_col7\" class=\"data row4 col7\" >0.1950</td>\n",
              "    </tr>\n",
              "    <tr>\n",
              "      <th id=\"T_f8210_level0_row5\" class=\"row_heading level0 row5\" >gbr</th>\n",
              "      <td id=\"T_f8210_row5_col0\" class=\"data row5 col0\" >Gradient Boosting Regressor</td>\n",
              "      <td id=\"T_f8210_row5_col1\" class=\"data row5 col1\" >0.1912</td>\n",
              "      <td id=\"T_f8210_row5_col2\" class=\"data row5 col2\" >0.0589</td>\n",
              "      <td id=\"T_f8210_row5_col3\" class=\"data row5 col3\" >0.2346</td>\n",
              "      <td id=\"T_f8210_row5_col4\" class=\"data row5 col4\" >0.1426</td>\n",
              "      <td id=\"T_f8210_row5_col5\" class=\"data row5 col5\" >0.0911</td>\n",
              "      <td id=\"T_f8210_row5_col6\" class=\"data row5 col6\" >0.1264</td>\n",
              "      <td id=\"T_f8210_row5_col7\" class=\"data row5 col7\" >0.2670</td>\n",
              "    </tr>\n",
              "    <tr>\n",
              "      <th id=\"T_f8210_level0_row6\" class=\"row_heading level0 row6\" >lightgbm</th>\n",
              "      <td id=\"T_f8210_row6_col0\" class=\"data row6 col0\" >Light Gradient Boosting Machine</td>\n",
              "      <td id=\"T_f8210_row6_col1\" class=\"data row6 col1\" >0.1905</td>\n",
              "      <td id=\"T_f8210_row6_col2\" class=\"data row6 col2\" >0.0579</td>\n",
              "      <td id=\"T_f8210_row6_col3\" class=\"data row6 col3\" >0.2360</td>\n",
              "      <td id=\"T_f8210_row6_col4\" class=\"data row6 col4\" >0.1167</td>\n",
              "      <td id=\"T_f8210_row6_col5\" class=\"data row6 col5\" >0.0914</td>\n",
              "      <td id=\"T_f8210_row6_col6\" class=\"data row6 col6\" >0.1253</td>\n",
              "      <td id=\"T_f8210_row6_col7\" class=\"data row6 col7\" >0.2010</td>\n",
              "    </tr>\n",
              "    <tr>\n",
              "      <th id=\"T_f8210_level0_row7\" class=\"row_heading level0 row7\" >br</th>\n",
              "      <td id=\"T_f8210_row7_col0\" class=\"data row7 col0\" >Bayesian Ridge</td>\n",
              "      <td id=\"T_f8210_row7_col1\" class=\"data row7 col1\" >0.2035</td>\n",
              "      <td id=\"T_f8210_row7_col2\" class=\"data row7 col2\" >0.0635</td>\n",
              "      <td id=\"T_f8210_row7_col3\" class=\"data row7 col3\" >0.2475</td>\n",
              "      <td id=\"T_f8210_row7_col4\" class=\"data row7 col4\" >0.0663</td>\n",
              "      <td id=\"T_f8210_row7_col5\" class=\"data row7 col5\" >0.0952</td>\n",
              "      <td id=\"T_f8210_row7_col6\" class=\"data row7 col6\" >0.1335</td>\n",
              "      <td id=\"T_f8210_row7_col7\" class=\"data row7 col7\" >0.1920</td>\n",
              "    </tr>\n",
              "    <tr>\n",
              "      <th id=\"T_f8210_level0_row8\" class=\"row_heading level0 row8\" >huber</th>\n",
              "      <td id=\"T_f8210_row8_col0\" class=\"data row8 col0\" >Huber Regressor</td>\n",
              "      <td id=\"T_f8210_row8_col1\" class=\"data row8 col1\" >0.2063</td>\n",
              "      <td id=\"T_f8210_row8_col2\" class=\"data row8 col2\" >0.0651</td>\n",
              "      <td id=\"T_f8210_row8_col3\" class=\"data row8 col3\" >0.2486</td>\n",
              "      <td id=\"T_f8210_row8_col4\" class=\"data row8 col4\" >0.0492</td>\n",
              "      <td id=\"T_f8210_row8_col5\" class=\"data row8 col5\" >0.0951</td>\n",
              "      <td id=\"T_f8210_row8_col6\" class=\"data row8 col6\" >0.1340</td>\n",
              "      <td id=\"T_f8210_row8_col7\" class=\"data row8 col7\" >0.1910</td>\n",
              "    </tr>\n",
              "    <tr>\n",
              "      <th id=\"T_f8210_level0_row9\" class=\"row_heading level0 row9\" >ridge</th>\n",
              "      <td id=\"T_f8210_row9_col0\" class=\"data row9 col0\" >Ridge Regression</td>\n",
              "      <td id=\"T_f8210_row9_col1\" class=\"data row9 col1\" >0.2056</td>\n",
              "      <td id=\"T_f8210_row9_col2\" class=\"data row9 col2\" >0.0647</td>\n",
              "      <td id=\"T_f8210_row9_col3\" class=\"data row9 col3\" >0.2489</td>\n",
              "      <td id=\"T_f8210_row9_col4\" class=\"data row9 col4\" >0.0485</td>\n",
              "      <td id=\"T_f8210_row9_col5\" class=\"data row9 col5\" >0.0955</td>\n",
              "      <td id=\"T_f8210_row9_col6\" class=\"data row9 col6\" >0.1346</td>\n",
              "      <td id=\"T_f8210_row9_col7\" class=\"data row9 col7\" >0.1020</td>\n",
              "    </tr>\n",
              "    <tr>\n",
              "      <th id=\"T_f8210_level0_row10\" class=\"row_heading level0 row10\" >lr</th>\n",
              "      <td id=\"T_f8210_row10_col0\" class=\"data row10 col0\" >Linear Regression</td>\n",
              "      <td id=\"T_f8210_row10_col1\" class=\"data row10 col1\" >0.2063</td>\n",
              "      <td id=\"T_f8210_row10_col2\" class=\"data row10 col2\" >0.0653</td>\n",
              "      <td id=\"T_f8210_row10_col3\" class=\"data row10 col3\" >0.2496</td>\n",
              "      <td id=\"T_f8210_row10_col4\" class=\"data row10 col4\" >0.0408</td>\n",
              "      <td id=\"T_f8210_row10_col5\" class=\"data row10 col5\" >0.0958</td>\n",
              "      <td id=\"T_f8210_row10_col6\" class=\"data row10 col6\" >0.1350</td>\n",
              "      <td id=\"T_f8210_row10_col7\" class=\"data row10 col7\" >1.1030</td>\n",
              "    </tr>\n",
              "    <tr>\n",
              "      <th id=\"T_f8210_level0_row11\" class=\"row_heading level0 row11\" >lar</th>\n",
              "      <td id=\"T_f8210_row11_col0\" class=\"data row11 col0\" >Least Angle Regression</td>\n",
              "      <td id=\"T_f8210_row11_col1\" class=\"data row11 col1\" >0.2050</td>\n",
              "      <td id=\"T_f8210_row11_col2\" class=\"data row11 col2\" >0.0653</td>\n",
              "      <td id=\"T_f8210_row11_col3\" class=\"data row11 col3\" >0.2496</td>\n",
              "      <td id=\"T_f8210_row11_col4\" class=\"data row11 col4\" >0.0408</td>\n",
              "      <td id=\"T_f8210_row11_col5\" class=\"data row11 col5\" >0.0959</td>\n",
              "      <td id=\"T_f8210_row11_col6\" class=\"data row11 col6\" >0.1345</td>\n",
              "      <td id=\"T_f8210_row11_col7\" class=\"data row11 col7\" >0.0970</td>\n",
              "    </tr>\n",
              "    <tr>\n",
              "      <th id=\"T_f8210_level0_row12\" class=\"row_heading level0 row12\" >omp</th>\n",
              "      <td id=\"T_f8210_row12_col0\" class=\"data row12 col0\" >Orthogonal Matching Pursuit</td>\n",
              "      <td id=\"T_f8210_row12_col1\" class=\"data row12 col1\" >0.2213</td>\n",
              "      <td id=\"T_f8210_row12_col2\" class=\"data row12 col2\" >0.0744</td>\n",
              "      <td id=\"T_f8210_row12_col3\" class=\"data row12 col3\" >0.2690</td>\n",
              "      <td id=\"T_f8210_row12_col4\" class=\"data row12 col4\" >-0.0994</td>\n",
              "      <td id=\"T_f8210_row12_col5\" class=\"data row12 col5\" >0.1035</td>\n",
              "      <td id=\"T_f8210_row12_col6\" class=\"data row12 col6\" >0.1437</td>\n",
              "      <td id=\"T_f8210_row12_col7\" class=\"data row12 col7\" >0.2540</td>\n",
              "    </tr>\n",
              "    <tr>\n",
              "      <th id=\"T_f8210_level0_row13\" class=\"row_heading level0 row13\" >lasso</th>\n",
              "      <td id=\"T_f8210_row13_col0\" class=\"data row13 col0\" >Lasso Regression</td>\n",
              "      <td id=\"T_f8210_row13_col1\" class=\"data row13 col1\" >0.2334</td>\n",
              "      <td id=\"T_f8210_row13_col2\" class=\"data row13 col2\" >0.0780</td>\n",
              "      <td id=\"T_f8210_row13_col3\" class=\"data row13 col3\" >0.2766</td>\n",
              "      <td id=\"T_f8210_row13_col4\" class=\"data row13 col4\" >-0.1643</td>\n",
              "      <td id=\"T_f8210_row13_col5\" class=\"data row13 col5\" >0.1073</td>\n",
              "      <td id=\"T_f8210_row13_col6\" class=\"data row13 col6\" >0.1543</td>\n",
              "      <td id=\"T_f8210_row13_col7\" class=\"data row13 col7\" >0.0940</td>\n",
              "    </tr>\n",
              "    <tr>\n",
              "      <th id=\"T_f8210_level0_row14\" class=\"row_heading level0 row14\" >en</th>\n",
              "      <td id=\"T_f8210_row14_col0\" class=\"data row14 col0\" >Elastic Net</td>\n",
              "      <td id=\"T_f8210_row14_col1\" class=\"data row14 col1\" >0.2334</td>\n",
              "      <td id=\"T_f8210_row14_col2\" class=\"data row14 col2\" >0.0780</td>\n",
              "      <td id=\"T_f8210_row14_col3\" class=\"data row14 col3\" >0.2766</td>\n",
              "      <td id=\"T_f8210_row14_col4\" class=\"data row14 col4\" >-0.1643</td>\n",
              "      <td id=\"T_f8210_row14_col5\" class=\"data row14 col5\" >0.1073</td>\n",
              "      <td id=\"T_f8210_row14_col6\" class=\"data row14 col6\" >0.1543</td>\n",
              "      <td id=\"T_f8210_row14_col7\" class=\"data row14 col7\" >0.0950</td>\n",
              "    </tr>\n",
              "    <tr>\n",
              "      <th id=\"T_f8210_level0_row15\" class=\"row_heading level0 row15\" >llar</th>\n",
              "      <td id=\"T_f8210_row15_col0\" class=\"data row15 col0\" >Lasso Least Angle Regression</td>\n",
              "      <td id=\"T_f8210_row15_col1\" class=\"data row15 col1\" >0.2334</td>\n",
              "      <td id=\"T_f8210_row15_col2\" class=\"data row15 col2\" >0.0780</td>\n",
              "      <td id=\"T_f8210_row15_col3\" class=\"data row15 col3\" >0.2766</td>\n",
              "      <td id=\"T_f8210_row15_col4\" class=\"data row15 col4\" >-0.1643</td>\n",
              "      <td id=\"T_f8210_row15_col5\" class=\"data row15 col5\" >0.1073</td>\n",
              "      <td id=\"T_f8210_row15_col6\" class=\"data row15 col6\" >0.1543</td>\n",
              "      <td id=\"T_f8210_row15_col7\" class=\"data row15 col7\" >0.0950</td>\n",
              "    </tr>\n",
              "    <tr>\n",
              "      <th id=\"T_f8210_level0_row16\" class=\"row_heading level0 row16\" >dummy</th>\n",
              "      <td id=\"T_f8210_row16_col0\" class=\"data row16 col0\" >Dummy Regressor</td>\n",
              "      <td id=\"T_f8210_row16_col1\" class=\"data row16 col1\" >0.2334</td>\n",
              "      <td id=\"T_f8210_row16_col2\" class=\"data row16 col2\" >0.0780</td>\n",
              "      <td id=\"T_f8210_row16_col3\" class=\"data row16 col3\" >0.2766</td>\n",
              "      <td id=\"T_f8210_row16_col4\" class=\"data row16 col4\" >-0.1643</td>\n",
              "      <td id=\"T_f8210_row16_col5\" class=\"data row16 col5\" >0.1073</td>\n",
              "      <td id=\"T_f8210_row16_col6\" class=\"data row16 col6\" >0.1543</td>\n",
              "      <td id=\"T_f8210_row16_col7\" class=\"data row16 col7\" >0.1000</td>\n",
              "    </tr>\n",
              "    <tr>\n",
              "      <th id=\"T_f8210_level0_row17\" class=\"row_heading level0 row17\" >dt</th>\n",
              "      <td id=\"T_f8210_row17_col0\" class=\"data row17 col0\" >Decision Tree Regressor</td>\n",
              "      <td id=\"T_f8210_row17_col1\" class=\"data row17 col1\" >0.2292</td>\n",
              "      <td id=\"T_f8210_row17_col2\" class=\"data row17 col2\" >0.0784</td>\n",
              "      <td id=\"T_f8210_row17_col3\" class=\"data row17 col3\" >0.2727</td>\n",
              "      <td id=\"T_f8210_row17_col4\" class=\"data row17 col4\" >-0.2268</td>\n",
              "      <td id=\"T_f8210_row17_col5\" class=\"data row17 col5\" >0.1057</td>\n",
              "      <td id=\"T_f8210_row17_col6\" class=\"data row17 col6\" >0.1515</td>\n",
              "      <td id=\"T_f8210_row17_col7\" class=\"data row17 col7\" >0.1790</td>\n",
              "    </tr>\n",
              "    <tr>\n",
              "      <th id=\"T_f8210_level0_row18\" class=\"row_heading level0 row18\" >par</th>\n",
              "      <td id=\"T_f8210_row18_col0\" class=\"data row18 col0\" >Passive Aggressive Regressor</td>\n",
              "      <td id=\"T_f8210_row18_col1\" class=\"data row18 col1\" >0.3733</td>\n",
              "      <td id=\"T_f8210_row18_col2\" class=\"data row18 col2\" >0.2436</td>\n",
              "      <td id=\"T_f8210_row18_col3\" class=\"data row18 col3\" >0.4572</td>\n",
              "      <td id=\"T_f8210_row18_col4\" class=\"data row18 col4\" >-3.1862</td>\n",
              "      <td id=\"T_f8210_row18_col5\" class=\"data row18 col5\" >0.1678</td>\n",
              "      <td id=\"T_f8210_row18_col6\" class=\"data row18 col6\" >0.2485</td>\n",
              "      <td id=\"T_f8210_row18_col7\" class=\"data row18 col7\" >0.1890</td>\n",
              "    </tr>\n",
              "  </tbody>\n",
              "</table>\n"
            ]
          },
          "metadata": {}
        },
        {
          "output_type": "display_data",
          "data": {
            "text/plain": [
              "Processing:   0%|          | 0/81 [00:00<?, ?it/s]"
            ],
            "application/vnd.jupyter.widget-view+json": {
              "version_major": 2,
              "version_minor": 0,
              "model_id": "ee0714490d9747d5b109ac87220d5ecd"
            }
          },
          "metadata": {
            "application/vnd.jupyter.widget-view+json": {
              "colab": {
                "custom_widget_manager": {
                  "url": "https://ssl.gstatic.com/colaboratory-static/widgets/colab-cdn-widget-manager/b3e629b1971e1542/manager.min.js"
                }
              }
            }
          }
        },
        {
          "output_type": "display_data",
          "data": {
            "text/plain": [
              "<IPython.core.display.HTML object>"
            ],
            "text/html": []
          },
          "metadata": {}
        },
        {
          "output_type": "execute_result",
          "data": {
            "text/plain": [
              "ExtraTreesRegressor(n_jobs=-1, random_state=888)"
            ],
            "text/html": [
              "<style>#sk-container-id-1 {color: black;background-color: white;}#sk-container-id-1 pre{padding: 0;}#sk-container-id-1 div.sk-toggleable {background-color: white;}#sk-container-id-1 label.sk-toggleable__label {cursor: pointer;display: block;width: 100%;margin-bottom: 0;padding: 0.3em;box-sizing: border-box;text-align: center;}#sk-container-id-1 label.sk-toggleable__label-arrow:before {content: \"▸\";float: left;margin-right: 0.25em;color: #696969;}#sk-container-id-1 label.sk-toggleable__label-arrow:hover:before {color: black;}#sk-container-id-1 div.sk-estimator:hover label.sk-toggleable__label-arrow:before {color: black;}#sk-container-id-1 div.sk-toggleable__content {max-height: 0;max-width: 0;overflow: hidden;text-align: left;background-color: #f0f8ff;}#sk-container-id-1 div.sk-toggleable__content pre {margin: 0.2em;color: black;border-radius: 0.25em;background-color: #f0f8ff;}#sk-container-id-1 input.sk-toggleable__control:checked~div.sk-toggleable__content {max-height: 200px;max-width: 100%;overflow: auto;}#sk-container-id-1 input.sk-toggleable__control:checked~label.sk-toggleable__label-arrow:before {content: \"▾\";}#sk-container-id-1 div.sk-estimator input.sk-toggleable__control:checked~label.sk-toggleable__label {background-color: #d4ebff;}#sk-container-id-1 div.sk-label input.sk-toggleable__control:checked~label.sk-toggleable__label {background-color: #d4ebff;}#sk-container-id-1 input.sk-hidden--visually {border: 0;clip: rect(1px 1px 1px 1px);clip: rect(1px, 1px, 1px, 1px);height: 1px;margin: -1px;overflow: hidden;padding: 0;position: absolute;width: 1px;}#sk-container-id-1 div.sk-estimator {font-family: monospace;background-color: #f0f8ff;border: 1px dotted black;border-radius: 0.25em;box-sizing: border-box;margin-bottom: 0.5em;}#sk-container-id-1 div.sk-estimator:hover {background-color: #d4ebff;}#sk-container-id-1 div.sk-parallel-item::after {content: \"\";width: 100%;border-bottom: 1px solid gray;flex-grow: 1;}#sk-container-id-1 div.sk-label:hover label.sk-toggleable__label {background-color: #d4ebff;}#sk-container-id-1 div.sk-serial::before {content: \"\";position: absolute;border-left: 1px solid gray;box-sizing: border-box;top: 0;bottom: 0;left: 50%;z-index: 0;}#sk-container-id-1 div.sk-serial {display: flex;flex-direction: column;align-items: center;background-color: white;padding-right: 0.2em;padding-left: 0.2em;position: relative;}#sk-container-id-1 div.sk-item {position: relative;z-index: 1;}#sk-container-id-1 div.sk-parallel {display: flex;align-items: stretch;justify-content: center;background-color: white;position: relative;}#sk-container-id-1 div.sk-item::before, #sk-container-id-1 div.sk-parallel-item::before {content: \"\";position: absolute;border-left: 1px solid gray;box-sizing: border-box;top: 0;bottom: 0;left: 50%;z-index: -1;}#sk-container-id-1 div.sk-parallel-item {display: flex;flex-direction: column;z-index: 1;position: relative;background-color: white;}#sk-container-id-1 div.sk-parallel-item:first-child::after {align-self: flex-end;width: 50%;}#sk-container-id-1 div.sk-parallel-item:last-child::after {align-self: flex-start;width: 50%;}#sk-container-id-1 div.sk-parallel-item:only-child::after {width: 0;}#sk-container-id-1 div.sk-dashed-wrapped {border: 1px dashed gray;margin: 0 0.4em 0.5em 0.4em;box-sizing: border-box;padding-bottom: 0.4em;background-color: white;}#sk-container-id-1 div.sk-label label {font-family: monospace;font-weight: bold;display: inline-block;line-height: 1.2em;}#sk-container-id-1 div.sk-label-container {text-align: center;}#sk-container-id-1 div.sk-container {/* jupyter's `normalize.less` sets `[hidden] { display: none; }` but bootstrap.min.css set `[hidden] { display: none !important; }` so we also need the `!important` here to be able to override the default hidden behavior on the sphinx rendered scikit-learn.org. See: https://github.com/scikit-learn/scikit-learn/issues/21755 */display: inline-block !important;position: relative;}#sk-container-id-1 div.sk-text-repr-fallback {display: none;}</style><div id=\"sk-container-id-1\" class=\"sk-top-container\"><div class=\"sk-text-repr-fallback\"><pre>ExtraTreesRegressor(n_jobs=-1, random_state=888)</pre><b>In a Jupyter environment, please rerun this cell to show the HTML representation or trust the notebook. <br />On GitHub, the HTML representation is unable to render, please try loading this page with nbviewer.org.</b></div><div class=\"sk-container\" hidden><div class=\"sk-item\"><div class=\"sk-estimator sk-toggleable\"><input class=\"sk-toggleable__control sk-hidden--visually\" id=\"sk-estimator-id-1\" type=\"checkbox\" checked><label for=\"sk-estimator-id-1\" class=\"sk-toggleable__label sk-toggleable__label-arrow\">ExtraTreesRegressor</label><div class=\"sk-toggleable__content\"><pre>ExtraTreesRegressor(n_jobs=-1, random_state=888)</pre></div></div></div></div></div>"
            ]
          },
          "metadata": {},
          "execution_count": 26
        }
      ]
    },
    {
      "cell_type": "code",
      "source": [
        "xg = create_model('xgboost')"
      ],
      "metadata": {
        "colab": {
          "base_uri": "https://localhost:8080/",
          "height": 457,
          "referenced_widgets": [
            "24374b9536e5417095911dc05c306c31",
            "9ebe33c7668746dc9455ba8b539b979e",
            "fcd84a538140443da167c43bb8455a72",
            "344aef97cc1e458da34bb43e8c753cf4",
            "4cae07c9c4734767aa6904ed35ec0728",
            "a568348092994cd9a2533cd1d37d3b30",
            "0afda0b4e74245368e2c82a5fcc56449",
            "837e9053edb84630956b1f4beed1c1b0",
            "d2dc6d0336244eddbdcefb8ce9a2f5c8",
            "0a4b360257b14b5cb45069e1eb7f0cf4",
            "3d9bf440ab4547dfbaf695d621add56c"
          ]
        },
        "id": "9Hl5ipDOf-4Q",
        "outputId": "fbd8943e-b657-4a19-f5e6-10c40edbce9a"
      },
      "execution_count": null,
      "outputs": [
        {
          "output_type": "display_data",
          "data": {
            "text/plain": [
              "<IPython.core.display.HTML object>"
            ],
            "text/html": []
          },
          "metadata": {}
        },
        {
          "output_type": "display_data",
          "data": {
            "text/plain": [
              "<pandas.io.formats.style.Styler at 0x7efcc6d86320>"
            ],
            "text/html": [
              "<style type=\"text/css\">\n",
              "#T_8dbe3_row10_col0, #T_8dbe3_row10_col1, #T_8dbe3_row10_col2, #T_8dbe3_row10_col3, #T_8dbe3_row10_col4, #T_8dbe3_row10_col5 {\n",
              "  background: yellow;\n",
              "}\n",
              "</style>\n",
              "<table id=\"T_8dbe3\" class=\"dataframe\">\n",
              "  <thead>\n",
              "    <tr>\n",
              "      <th class=\"blank level0\" >&nbsp;</th>\n",
              "      <th id=\"T_8dbe3_level0_col0\" class=\"col_heading level0 col0\" >MAE</th>\n",
              "      <th id=\"T_8dbe3_level0_col1\" class=\"col_heading level0 col1\" >MSE</th>\n",
              "      <th id=\"T_8dbe3_level0_col2\" class=\"col_heading level0 col2\" >RMSE</th>\n",
              "      <th id=\"T_8dbe3_level0_col3\" class=\"col_heading level0 col3\" >R2</th>\n",
              "      <th id=\"T_8dbe3_level0_col4\" class=\"col_heading level0 col4\" >RMSLE</th>\n",
              "      <th id=\"T_8dbe3_level0_col5\" class=\"col_heading level0 col5\" >MAPE</th>\n",
              "    </tr>\n",
              "    <tr>\n",
              "      <th class=\"index_name level0\" >Fold</th>\n",
              "      <th class=\"blank col0\" >&nbsp;</th>\n",
              "      <th class=\"blank col1\" >&nbsp;</th>\n",
              "      <th class=\"blank col2\" >&nbsp;</th>\n",
              "      <th class=\"blank col3\" >&nbsp;</th>\n",
              "      <th class=\"blank col4\" >&nbsp;</th>\n",
              "      <th class=\"blank col5\" >&nbsp;</th>\n",
              "    </tr>\n",
              "  </thead>\n",
              "  <tbody>\n",
              "    <tr>\n",
              "      <th id=\"T_8dbe3_level0_row0\" class=\"row_heading level0 row0\" >0</th>\n",
              "      <td id=\"T_8dbe3_row0_col0\" class=\"data row0 col0\" >0.1744</td>\n",
              "      <td id=\"T_8dbe3_row0_col1\" class=\"data row0 col1\" >0.0577</td>\n",
              "      <td id=\"T_8dbe3_row0_col2\" class=\"data row0 col2\" >0.2401</td>\n",
              "      <td id=\"T_8dbe3_row0_col3\" class=\"data row0 col3\" >0.2393</td>\n",
              "      <td id=\"T_8dbe3_row0_col4\" class=\"data row0 col4\" >0.0876</td>\n",
              "      <td id=\"T_8dbe3_row0_col5\" class=\"data row0 col5\" >0.0971</td>\n",
              "    </tr>\n",
              "    <tr>\n",
              "      <th id=\"T_8dbe3_level0_row1\" class=\"row_heading level0 row1\" >1</th>\n",
              "      <td id=\"T_8dbe3_row1_col0\" class=\"data row1 col0\" >0.0872</td>\n",
              "      <td id=\"T_8dbe3_row1_col1\" class=\"data row1 col1\" >0.0140</td>\n",
              "      <td id=\"T_8dbe3_row1_col2\" class=\"data row1 col2\" >0.1185</td>\n",
              "      <td id=\"T_8dbe3_row1_col3\" class=\"data row1 col3\" >0.6783</td>\n",
              "      <td id=\"T_8dbe3_row1_col4\" class=\"data row1 col4\" >0.0457</td>\n",
              "      <td id=\"T_8dbe3_row1_col5\" class=\"data row1 col5\" >0.0564</td>\n",
              "    </tr>\n",
              "    <tr>\n",
              "      <th id=\"T_8dbe3_level0_row2\" class=\"row_heading level0 row2\" >2</th>\n",
              "      <td id=\"T_8dbe3_row2_col0\" class=\"data row2 col0\" >0.2103</td>\n",
              "      <td id=\"T_8dbe3_row2_col1\" class=\"data row2 col1\" >0.0535</td>\n",
              "      <td id=\"T_8dbe3_row2_col2\" class=\"data row2 col2\" >0.2312</td>\n",
              "      <td id=\"T_8dbe3_row2_col3\" class=\"data row2 col3\" >0.3345</td>\n",
              "      <td id=\"T_8dbe3_row2_col4\" class=\"data row2 col4\" >0.0899</td>\n",
              "      <td id=\"T_8dbe3_row2_col5\" class=\"data row2 col5\" >0.1325</td>\n",
              "    </tr>\n",
              "    <tr>\n",
              "      <th id=\"T_8dbe3_level0_row3\" class=\"row_heading level0 row3\" >3</th>\n",
              "      <td id=\"T_8dbe3_row3_col0\" class=\"data row3 col0\" >0.2224</td>\n",
              "      <td id=\"T_8dbe3_row3_col1\" class=\"data row3 col1\" >0.0758</td>\n",
              "      <td id=\"T_8dbe3_row3_col2\" class=\"data row3 col2\" >0.2753</td>\n",
              "      <td id=\"T_8dbe3_row3_col3\" class=\"data row3 col3\" >-0.1192</td>\n",
              "      <td id=\"T_8dbe3_row3_col4\" class=\"data row3 col4\" >0.1121</td>\n",
              "      <td id=\"T_8dbe3_row3_col5\" class=\"data row3 col5\" >0.1656</td>\n",
              "    </tr>\n",
              "    <tr>\n",
              "      <th id=\"T_8dbe3_level0_row4\" class=\"row_heading level0 row4\" >4</th>\n",
              "      <td id=\"T_8dbe3_row4_col0\" class=\"data row4 col0\" >0.2445</td>\n",
              "      <td id=\"T_8dbe3_row4_col1\" class=\"data row4 col1\" >0.1117</td>\n",
              "      <td id=\"T_8dbe3_row4_col2\" class=\"data row4 col2\" >0.3343</td>\n",
              "      <td id=\"T_8dbe3_row4_col3\" class=\"data row4 col3\" >-0.5081</td>\n",
              "      <td id=\"T_8dbe3_row4_col4\" class=\"data row4 col4\" >0.1333</td>\n",
              "      <td id=\"T_8dbe3_row4_col5\" class=\"data row4 col5\" >0.1823</td>\n",
              "    </tr>\n",
              "    <tr>\n",
              "      <th id=\"T_8dbe3_level0_row5\" class=\"row_heading level0 row5\" >5</th>\n",
              "      <td id=\"T_8dbe3_row5_col0\" class=\"data row5 col0\" >0.1311</td>\n",
              "      <td id=\"T_8dbe3_row5_col1\" class=\"data row5 col1\" >0.0258</td>\n",
              "      <td id=\"T_8dbe3_row5_col2\" class=\"data row5 col2\" >0.1607</td>\n",
              "      <td id=\"T_8dbe3_row5_col3\" class=\"data row5 col3\" >0.4316</td>\n",
              "      <td id=\"T_8dbe3_row5_col4\" class=\"data row5 col4\" >0.0656</td>\n",
              "      <td id=\"T_8dbe3_row5_col5\" class=\"data row5 col5\" >0.0812</td>\n",
              "    </tr>\n",
              "    <tr>\n",
              "      <th id=\"T_8dbe3_level0_row6\" class=\"row_heading level0 row6\" >6</th>\n",
              "      <td id=\"T_8dbe3_row6_col0\" class=\"data row6 col0\" >0.2657</td>\n",
              "      <td id=\"T_8dbe3_row6_col1\" class=\"data row6 col1\" >0.1018</td>\n",
              "      <td id=\"T_8dbe3_row6_col2\" class=\"data row6 col2\" >0.3191</td>\n",
              "      <td id=\"T_8dbe3_row6_col3\" class=\"data row6 col3\" >-0.3326</td>\n",
              "      <td id=\"T_8dbe3_row6_col4\" class=\"data row6 col4\" >0.1276</td>\n",
              "      <td id=\"T_8dbe3_row6_col5\" class=\"data row6 col5\" >0.1832</td>\n",
              "    </tr>\n",
              "    <tr>\n",
              "      <th id=\"T_8dbe3_level0_row7\" class=\"row_heading level0 row7\" >7</th>\n",
              "      <td id=\"T_8dbe3_row7_col0\" class=\"data row7 col0\" >0.1582</td>\n",
              "      <td id=\"T_8dbe3_row7_col1\" class=\"data row7 col1\" >0.0331</td>\n",
              "      <td id=\"T_8dbe3_row7_col2\" class=\"data row7 col2\" >0.1819</td>\n",
              "      <td id=\"T_8dbe3_row7_col3\" class=\"data row7 col3\" >0.4549</td>\n",
              "      <td id=\"T_8dbe3_row7_col4\" class=\"data row7 col4\" >0.0731</td>\n",
              "      <td id=\"T_8dbe3_row7_col5\" class=\"data row7 col5\" >0.1079</td>\n",
              "    </tr>\n",
              "    <tr>\n",
              "      <th id=\"T_8dbe3_level0_row8\" class=\"row_heading level0 row8\" >8</th>\n",
              "      <td id=\"T_8dbe3_row8_col0\" class=\"data row8 col0\" >0.1476</td>\n",
              "      <td id=\"T_8dbe3_row8_col1\" class=\"data row8 col1\" >0.0323</td>\n",
              "      <td id=\"T_8dbe3_row8_col2\" class=\"data row8 col2\" >0.1797</td>\n",
              "      <td id=\"T_8dbe3_row8_col3\" class=\"data row8 col3\" >0.3751</td>\n",
              "      <td id=\"T_8dbe3_row8_col4\" class=\"data row8 col4\" >0.0706</td>\n",
              "      <td id=\"T_8dbe3_row8_col5\" class=\"data row8 col5\" >0.0973</td>\n",
              "    </tr>\n",
              "    <tr>\n",
              "      <th id=\"T_8dbe3_level0_row9\" class=\"row_heading level0 row9\" >9</th>\n",
              "      <td id=\"T_8dbe3_row9_col0\" class=\"data row9 col0\" >0.1230</td>\n",
              "      <td id=\"T_8dbe3_row9_col1\" class=\"data row9 col1\" >0.0242</td>\n",
              "      <td id=\"T_8dbe3_row9_col2\" class=\"data row9 col2\" >0.1554</td>\n",
              "      <td id=\"T_8dbe3_row9_col3\" class=\"data row9 col3\" >0.7431</td>\n",
              "      <td id=\"T_8dbe3_row9_col4\" class=\"data row9 col4\" >0.0544</td>\n",
              "      <td id=\"T_8dbe3_row9_col5\" class=\"data row9 col5\" >0.0703</td>\n",
              "    </tr>\n",
              "    <tr>\n",
              "      <th id=\"T_8dbe3_level0_row10\" class=\"row_heading level0 row10\" >Mean</th>\n",
              "      <td id=\"T_8dbe3_row10_col0\" class=\"data row10 col0\" >0.1764</td>\n",
              "      <td id=\"T_8dbe3_row10_col1\" class=\"data row10 col1\" >0.0530</td>\n",
              "      <td id=\"T_8dbe3_row10_col2\" class=\"data row10 col2\" >0.2196</td>\n",
              "      <td id=\"T_8dbe3_row10_col3\" class=\"data row10 col3\" >0.2297</td>\n",
              "      <td id=\"T_8dbe3_row10_col4\" class=\"data row10 col4\" >0.0860</td>\n",
              "      <td id=\"T_8dbe3_row10_col5\" class=\"data row10 col5\" >0.1174</td>\n",
              "    </tr>\n",
              "    <tr>\n",
              "      <th id=\"T_8dbe3_level0_row11\" class=\"row_heading level0 row11\" >Std</th>\n",
              "      <td id=\"T_8dbe3_row11_col0\" class=\"data row11 col0\" >0.0547</td>\n",
              "      <td id=\"T_8dbe3_row11_col1\" class=\"data row11 col1\" >0.0321</td>\n",
              "      <td id=\"T_8dbe3_row11_col2\" class=\"data row11 col2\" >0.0689</td>\n",
              "      <td id=\"T_8dbe3_row11_col3\" class=\"data row11 col3\" >0.3964</td>\n",
              "      <td id=\"T_8dbe3_row11_col4\" class=\"data row11 col4\" >0.0285</td>\n",
              "      <td id=\"T_8dbe3_row11_col5\" class=\"data row11 col5\" >0.0439</td>\n",
              "    </tr>\n",
              "  </tbody>\n",
              "</table>\n"
            ]
          },
          "metadata": {}
        },
        {
          "output_type": "display_data",
          "data": {
            "text/plain": [
              "Processing:   0%|          | 0/4 [00:00<?, ?it/s]"
            ],
            "application/vnd.jupyter.widget-view+json": {
              "version_major": 2,
              "version_minor": 0,
              "model_id": "24374b9536e5417095911dc05c306c31"
            }
          },
          "metadata": {
            "application/vnd.jupyter.widget-view+json": {
              "colab": {
                "custom_widget_manager": {
                  "url": "https://ssl.gstatic.com/colaboratory-static/widgets/colab-cdn-widget-manager/b3e629b1971e1542/manager.min.js"
                }
              }
            }
          }
        },
        {
          "output_type": "display_data",
          "data": {
            "text/plain": [
              "<IPython.core.display.HTML object>"
            ],
            "text/html": []
          },
          "metadata": {}
        }
      ]
    },
    {
      "cell_type": "code",
      "source": [
        "param_grid = {\n",
        "    'learning_rate': [0.1, 0.01, 0.001],\n",
        "    'n_estimators': [100, 200, 300],\n",
        "    'max_depth': [3, 4, 5],\n",
        "    'subsample': [0.7, 0.8, 0.9],\n",
        "    'colsample_bytree': [0.7, 0.8, 0.9],\n",
        "}\n",
        "\n",
        "tuned_xg = tune_model(xg, custom_grid = param_grid,n_iter = 150, fold = 5, optimize= 'MAPE', choose_better = True, early_stopping = True)"
      ],
      "metadata": {
        "colab": {
          "base_uri": "https://localhost:8080/",
          "height": 318,
          "referenced_widgets": [
            "7213de1bf06d4a40ba29a53244fa1108",
            "e1e85adbf02e45488a0558025383ec54",
            "e101e6a61bac4b4d95b892fd3848017f",
            "32ae6ec8e63f40f5beae1a48fae15448",
            "bcc6da28228048188ef56358a90c80c1",
            "da7bcae399dd45c6882c30226a3b3841",
            "1057cce304684821b116ede60b5f75e9",
            "34ab909930ca45e68c41e5ef5100c6e7",
            "37a90efe2707471ab33af5e4b9446c02",
            "6fe5fc8c87ff4452a788d81bb7754c85",
            "03901d0a1ccf4b5bb5ca7664234d625c"
          ]
        },
        "id": "4AJ_kDF0gYt4",
        "outputId": "4ef2d626-c378-4101-c214-7f347ba312b8"
      },
      "execution_count": null,
      "outputs": [
        {
          "output_type": "display_data",
          "data": {
            "text/plain": [
              "<IPython.core.display.HTML object>"
            ],
            "text/html": []
          },
          "metadata": {}
        },
        {
          "output_type": "display_data",
          "data": {
            "text/plain": [
              "<pandas.io.formats.style.Styler at 0x7efcc7c62920>"
            ],
            "text/html": [
              "<style type=\"text/css\">\n",
              "#T_c180b_row5_col0, #T_c180b_row5_col1, #T_c180b_row5_col2, #T_c180b_row5_col3, #T_c180b_row5_col4, #T_c180b_row5_col5 {\n",
              "  background: yellow;\n",
              "}\n",
              "</style>\n",
              "<table id=\"T_c180b\" class=\"dataframe\">\n",
              "  <thead>\n",
              "    <tr>\n",
              "      <th class=\"blank level0\" >&nbsp;</th>\n",
              "      <th id=\"T_c180b_level0_col0\" class=\"col_heading level0 col0\" >MAE</th>\n",
              "      <th id=\"T_c180b_level0_col1\" class=\"col_heading level0 col1\" >MSE</th>\n",
              "      <th id=\"T_c180b_level0_col2\" class=\"col_heading level0 col2\" >RMSE</th>\n",
              "      <th id=\"T_c180b_level0_col3\" class=\"col_heading level0 col3\" >R2</th>\n",
              "      <th id=\"T_c180b_level0_col4\" class=\"col_heading level0 col4\" >RMSLE</th>\n",
              "      <th id=\"T_c180b_level0_col5\" class=\"col_heading level0 col5\" >MAPE</th>\n",
              "    </tr>\n",
              "    <tr>\n",
              "      <th class=\"index_name level0\" >Fold</th>\n",
              "      <th class=\"blank col0\" >&nbsp;</th>\n",
              "      <th class=\"blank col1\" >&nbsp;</th>\n",
              "      <th class=\"blank col2\" >&nbsp;</th>\n",
              "      <th class=\"blank col3\" >&nbsp;</th>\n",
              "      <th class=\"blank col4\" >&nbsp;</th>\n",
              "      <th class=\"blank col5\" >&nbsp;</th>\n",
              "    </tr>\n",
              "  </thead>\n",
              "  <tbody>\n",
              "    <tr>\n",
              "      <th id=\"T_c180b_level0_row0\" class=\"row_heading level0 row0\" >0</th>\n",
              "      <td id=\"T_c180b_row0_col0\" class=\"data row0 col0\" >0.1642</td>\n",
              "      <td id=\"T_c180b_row0_col1\" class=\"data row0 col1\" >0.0467</td>\n",
              "      <td id=\"T_c180b_row0_col2\" class=\"data row0 col2\" >0.2161</td>\n",
              "      <td id=\"T_c180b_row0_col3\" class=\"data row0 col3\" >0.4393</td>\n",
              "      <td id=\"T_c180b_row0_col4\" class=\"data row0 col4\" >0.0801</td>\n",
              "      <td id=\"T_c180b_row0_col5\" class=\"data row0 col5\" >0.0966</td>\n",
              "    </tr>\n",
              "    <tr>\n",
              "      <th id=\"T_c180b_level0_row1\" class=\"row_heading level0 row1\" >1</th>\n",
              "      <td id=\"T_c180b_row1_col0\" class=\"data row1 col0\" >0.1491</td>\n",
              "      <td id=\"T_c180b_row1_col1\" class=\"data row1 col1\" >0.0318</td>\n",
              "      <td id=\"T_c180b_row1_col2\" class=\"data row1 col2\" >0.1784</td>\n",
              "      <td id=\"T_c180b_row1_col3\" class=\"data row1 col3\" >0.5665</td>\n",
              "      <td id=\"T_c180b_row1_col4\" class=\"data row1 col4\" >0.0709</td>\n",
              "      <td id=\"T_c180b_row1_col5\" class=\"data row1 col5\" >0.1016</td>\n",
              "    </tr>\n",
              "    <tr>\n",
              "      <th id=\"T_c180b_level0_row2\" class=\"row_heading level0 row2\" >2</th>\n",
              "      <td id=\"T_c180b_row2_col0\" class=\"data row2 col0\" >0.1678</td>\n",
              "      <td id=\"T_c180b_row2_col1\" class=\"data row2 col1\" >0.0532</td>\n",
              "      <td id=\"T_c180b_row2_col2\" class=\"data row2 col2\" >0.2306</td>\n",
              "      <td id=\"T_c180b_row2_col3\" class=\"data row2 col3\" >0.2092</td>\n",
              "      <td id=\"T_c180b_row2_col4\" class=\"data row2 col4\" >0.0923</td>\n",
              "      <td id=\"T_c180b_row2_col5\" class=\"data row2 col5\" >0.1171</td>\n",
              "    </tr>\n",
              "    <tr>\n",
              "      <th id=\"T_c180b_level0_row3\" class=\"row_heading level0 row3\" >3</th>\n",
              "      <td id=\"T_c180b_row3_col0\" class=\"data row3 col0\" >0.2079</td>\n",
              "      <td id=\"T_c180b_row3_col1\" class=\"data row3 col1\" >0.0546</td>\n",
              "      <td id=\"T_c180b_row3_col2\" class=\"data row3 col2\" >0.2337</td>\n",
              "      <td id=\"T_c180b_row3_col3\" class=\"data row3 col3\" >0.2081</td>\n",
              "      <td id=\"T_c180b_row3_col4\" class=\"data row3 col4\" >0.0920</td>\n",
              "      <td id=\"T_c180b_row3_col5\" class=\"data row3 col5\" >0.1376</td>\n",
              "    </tr>\n",
              "    <tr>\n",
              "      <th id=\"T_c180b_level0_row4\" class=\"row_heading level0 row4\" >4</th>\n",
              "      <td id=\"T_c180b_row4_col0\" class=\"data row4 col0\" >0.1203</td>\n",
              "      <td id=\"T_c180b_row4_col1\" class=\"data row4 col1\" >0.0344</td>\n",
              "      <td id=\"T_c180b_row4_col2\" class=\"data row4 col2\" >0.1855</td>\n",
              "      <td id=\"T_c180b_row4_col3\" class=\"data row4 col3\" >0.5317</td>\n",
              "      <td id=\"T_c180b_row4_col4\" class=\"data row4 col4\" >0.0666</td>\n",
              "      <td id=\"T_c180b_row4_col5\" class=\"data row4 col5\" >0.0690</td>\n",
              "    </tr>\n",
              "    <tr>\n",
              "      <th id=\"T_c180b_level0_row5\" class=\"row_heading level0 row5\" >Mean</th>\n",
              "      <td id=\"T_c180b_row5_col0\" class=\"data row5 col0\" >0.1619</td>\n",
              "      <td id=\"T_c180b_row5_col1\" class=\"data row5 col1\" >0.0442</td>\n",
              "      <td id=\"T_c180b_row5_col2\" class=\"data row5 col2\" >0.2089</td>\n",
              "      <td id=\"T_c180b_row5_col3\" class=\"data row5 col3\" >0.3910</td>\n",
              "      <td id=\"T_c180b_row5_col4\" class=\"data row5 col4\" >0.0804</td>\n",
              "      <td id=\"T_c180b_row5_col5\" class=\"data row5 col5\" >0.1044</td>\n",
              "    </tr>\n",
              "    <tr>\n",
              "      <th id=\"T_c180b_level0_row6\" class=\"row_heading level0 row6\" >Std</th>\n",
              "      <td id=\"T_c180b_row6_col0\" class=\"data row6 col0\" >0.0284</td>\n",
              "      <td id=\"T_c180b_row6_col1\" class=\"data row6 col1\" >0.0094</td>\n",
              "      <td id=\"T_c180b_row6_col2\" class=\"data row6 col2\" >0.0229</td>\n",
              "      <td id=\"T_c180b_row6_col3\" class=\"data row6 col3\" >0.1546</td>\n",
              "      <td id=\"T_c180b_row6_col4\" class=\"data row6 col4\" >0.0106</td>\n",
              "      <td id=\"T_c180b_row6_col5\" class=\"data row6 col5\" >0.0227</td>\n",
              "    </tr>\n",
              "  </tbody>\n",
              "</table>\n"
            ]
          },
          "metadata": {}
        },
        {
          "output_type": "display_data",
          "data": {
            "text/plain": [
              "Processing:   0%|          | 0/7 [00:00<?, ?it/s]"
            ],
            "application/vnd.jupyter.widget-view+json": {
              "version_major": 2,
              "version_minor": 0,
              "model_id": "7213de1bf06d4a40ba29a53244fa1108"
            }
          },
          "metadata": {
            "application/vnd.jupyter.widget-view+json": {
              "colab": {
                "custom_widget_manager": {
                  "url": "https://ssl.gstatic.com/colaboratory-static/widgets/colab-cdn-widget-manager/b3e629b1971e1542/manager.min.js"
                }
              }
            }
          }
        },
        {
          "output_type": "stream",
          "name": "stdout",
          "text": [
            "Fitting 5 folds for each of 150 candidates, totalling 750 fits\n"
          ]
        },
        {
          "output_type": "display_data",
          "data": {
            "text/plain": [
              "<IPython.core.display.HTML object>"
            ],
            "text/html": []
          },
          "metadata": {}
        }
      ]
    },
    {
      "cell_type": "code",
      "source": [
        "xg = create_model('xgboost')"
      ],
      "metadata": {
        "colab": {
          "base_uri": "https://localhost:8080/",
          "height": 457,
          "referenced_widgets": [
            "bbbacdf586aa46f2935df79c01d511e8",
            "d02ed123bfb3410eb586813988c951a4",
            "bd9f86022b3d4ef4967195b9aee1ef18",
            "2d0f97ae359f47219fe8d99f7dd267c2",
            "632b45a121424ff98fb496552be7251c",
            "6f6b07d6d3b440f0b1baafd6283860ea",
            "77aff53078e24ba6b5fad10f8fff2f69",
            "30d7e77724f74b339d2dae526f26aa1f",
            "403d7e5788dc4e408c6bb0c2a9d731e1",
            "4efef80d86df4f279454a938390cfa58",
            "0083de8fa43e45c7b84180d91e098c23"
          ]
        },
        "id": "3UKTHeTFhrN0",
        "outputId": "48a5f492-db28-45c0-93ce-be8b72aa2b6a"
      },
      "execution_count": null,
      "outputs": [
        {
          "output_type": "display_data",
          "data": {
            "text/plain": [
              "<IPython.core.display.HTML object>"
            ],
            "text/html": []
          },
          "metadata": {}
        },
        {
          "output_type": "display_data",
          "data": {
            "text/plain": [
              "<pandas.io.formats.style.Styler at 0x7fbf414a1d20>"
            ],
            "text/html": [
              "<style type=\"text/css\">\n",
              "#T_ff0ce_row10_col0, #T_ff0ce_row10_col1, #T_ff0ce_row10_col2, #T_ff0ce_row10_col3, #T_ff0ce_row10_col4, #T_ff0ce_row10_col5 {\n",
              "  background: yellow;\n",
              "}\n",
              "</style>\n",
              "<table id=\"T_ff0ce\" class=\"dataframe\">\n",
              "  <thead>\n",
              "    <tr>\n",
              "      <th class=\"blank level0\" >&nbsp;</th>\n",
              "      <th id=\"T_ff0ce_level0_col0\" class=\"col_heading level0 col0\" >MAE</th>\n",
              "      <th id=\"T_ff0ce_level0_col1\" class=\"col_heading level0 col1\" >MSE</th>\n",
              "      <th id=\"T_ff0ce_level0_col2\" class=\"col_heading level0 col2\" >RMSE</th>\n",
              "      <th id=\"T_ff0ce_level0_col3\" class=\"col_heading level0 col3\" >R2</th>\n",
              "      <th id=\"T_ff0ce_level0_col4\" class=\"col_heading level0 col4\" >RMSLE</th>\n",
              "      <th id=\"T_ff0ce_level0_col5\" class=\"col_heading level0 col5\" >MAPE</th>\n",
              "    </tr>\n",
              "    <tr>\n",
              "      <th class=\"index_name level0\" >Fold</th>\n",
              "      <th class=\"blank col0\" >&nbsp;</th>\n",
              "      <th class=\"blank col1\" >&nbsp;</th>\n",
              "      <th class=\"blank col2\" >&nbsp;</th>\n",
              "      <th class=\"blank col3\" >&nbsp;</th>\n",
              "      <th class=\"blank col4\" >&nbsp;</th>\n",
              "      <th class=\"blank col5\" >&nbsp;</th>\n",
              "    </tr>\n",
              "  </thead>\n",
              "  <tbody>\n",
              "    <tr>\n",
              "      <th id=\"T_ff0ce_level0_row0\" class=\"row_heading level0 row0\" >0</th>\n",
              "      <td id=\"T_ff0ce_row0_col0\" class=\"data row0 col0\" >0.1744</td>\n",
              "      <td id=\"T_ff0ce_row0_col1\" class=\"data row0 col1\" >0.0577</td>\n",
              "      <td id=\"T_ff0ce_row0_col2\" class=\"data row0 col2\" >0.2401</td>\n",
              "      <td id=\"T_ff0ce_row0_col3\" class=\"data row0 col3\" >0.2393</td>\n",
              "      <td id=\"T_ff0ce_row0_col4\" class=\"data row0 col4\" >0.0876</td>\n",
              "      <td id=\"T_ff0ce_row0_col5\" class=\"data row0 col5\" >0.0971</td>\n",
              "    </tr>\n",
              "    <tr>\n",
              "      <th id=\"T_ff0ce_level0_row1\" class=\"row_heading level0 row1\" >1</th>\n",
              "      <td id=\"T_ff0ce_row1_col0\" class=\"data row1 col0\" >0.0872</td>\n",
              "      <td id=\"T_ff0ce_row1_col1\" class=\"data row1 col1\" >0.0140</td>\n",
              "      <td id=\"T_ff0ce_row1_col2\" class=\"data row1 col2\" >0.1185</td>\n",
              "      <td id=\"T_ff0ce_row1_col3\" class=\"data row1 col3\" >0.6783</td>\n",
              "      <td id=\"T_ff0ce_row1_col4\" class=\"data row1 col4\" >0.0457</td>\n",
              "      <td id=\"T_ff0ce_row1_col5\" class=\"data row1 col5\" >0.0564</td>\n",
              "    </tr>\n",
              "    <tr>\n",
              "      <th id=\"T_ff0ce_level0_row2\" class=\"row_heading level0 row2\" >2</th>\n",
              "      <td id=\"T_ff0ce_row2_col0\" class=\"data row2 col0\" >0.2103</td>\n",
              "      <td id=\"T_ff0ce_row2_col1\" class=\"data row2 col1\" >0.0535</td>\n",
              "      <td id=\"T_ff0ce_row2_col2\" class=\"data row2 col2\" >0.2312</td>\n",
              "      <td id=\"T_ff0ce_row2_col3\" class=\"data row2 col3\" >0.3345</td>\n",
              "      <td id=\"T_ff0ce_row2_col4\" class=\"data row2 col4\" >0.0899</td>\n",
              "      <td id=\"T_ff0ce_row2_col5\" class=\"data row2 col5\" >0.1325</td>\n",
              "    </tr>\n",
              "    <tr>\n",
              "      <th id=\"T_ff0ce_level0_row3\" class=\"row_heading level0 row3\" >3</th>\n",
              "      <td id=\"T_ff0ce_row3_col0\" class=\"data row3 col0\" >0.2224</td>\n",
              "      <td id=\"T_ff0ce_row3_col1\" class=\"data row3 col1\" >0.0758</td>\n",
              "      <td id=\"T_ff0ce_row3_col2\" class=\"data row3 col2\" >0.2753</td>\n",
              "      <td id=\"T_ff0ce_row3_col3\" class=\"data row3 col3\" >-0.1192</td>\n",
              "      <td id=\"T_ff0ce_row3_col4\" class=\"data row3 col4\" >0.1121</td>\n",
              "      <td id=\"T_ff0ce_row3_col5\" class=\"data row3 col5\" >0.1656</td>\n",
              "    </tr>\n",
              "    <tr>\n",
              "      <th id=\"T_ff0ce_level0_row4\" class=\"row_heading level0 row4\" >4</th>\n",
              "      <td id=\"T_ff0ce_row4_col0\" class=\"data row4 col0\" >0.2445</td>\n",
              "      <td id=\"T_ff0ce_row4_col1\" class=\"data row4 col1\" >0.1117</td>\n",
              "      <td id=\"T_ff0ce_row4_col2\" class=\"data row4 col2\" >0.3343</td>\n",
              "      <td id=\"T_ff0ce_row4_col3\" class=\"data row4 col3\" >-0.5081</td>\n",
              "      <td id=\"T_ff0ce_row4_col4\" class=\"data row4 col4\" >0.1333</td>\n",
              "      <td id=\"T_ff0ce_row4_col5\" class=\"data row4 col5\" >0.1823</td>\n",
              "    </tr>\n",
              "    <tr>\n",
              "      <th id=\"T_ff0ce_level0_row5\" class=\"row_heading level0 row5\" >5</th>\n",
              "      <td id=\"T_ff0ce_row5_col0\" class=\"data row5 col0\" >0.1311</td>\n",
              "      <td id=\"T_ff0ce_row5_col1\" class=\"data row5 col1\" >0.0258</td>\n",
              "      <td id=\"T_ff0ce_row5_col2\" class=\"data row5 col2\" >0.1607</td>\n",
              "      <td id=\"T_ff0ce_row5_col3\" class=\"data row5 col3\" >0.4316</td>\n",
              "      <td id=\"T_ff0ce_row5_col4\" class=\"data row5 col4\" >0.0656</td>\n",
              "      <td id=\"T_ff0ce_row5_col5\" class=\"data row5 col5\" >0.0812</td>\n",
              "    </tr>\n",
              "    <tr>\n",
              "      <th id=\"T_ff0ce_level0_row6\" class=\"row_heading level0 row6\" >6</th>\n",
              "      <td id=\"T_ff0ce_row6_col0\" class=\"data row6 col0\" >0.2657</td>\n",
              "      <td id=\"T_ff0ce_row6_col1\" class=\"data row6 col1\" >0.1018</td>\n",
              "      <td id=\"T_ff0ce_row6_col2\" class=\"data row6 col2\" >0.3191</td>\n",
              "      <td id=\"T_ff0ce_row6_col3\" class=\"data row6 col3\" >-0.3326</td>\n",
              "      <td id=\"T_ff0ce_row6_col4\" class=\"data row6 col4\" >0.1276</td>\n",
              "      <td id=\"T_ff0ce_row6_col5\" class=\"data row6 col5\" >0.1832</td>\n",
              "    </tr>\n",
              "    <tr>\n",
              "      <th id=\"T_ff0ce_level0_row7\" class=\"row_heading level0 row7\" >7</th>\n",
              "      <td id=\"T_ff0ce_row7_col0\" class=\"data row7 col0\" >0.1582</td>\n",
              "      <td id=\"T_ff0ce_row7_col1\" class=\"data row7 col1\" >0.0331</td>\n",
              "      <td id=\"T_ff0ce_row7_col2\" class=\"data row7 col2\" >0.1819</td>\n",
              "      <td id=\"T_ff0ce_row7_col3\" class=\"data row7 col3\" >0.4549</td>\n",
              "      <td id=\"T_ff0ce_row7_col4\" class=\"data row7 col4\" >0.0731</td>\n",
              "      <td id=\"T_ff0ce_row7_col5\" class=\"data row7 col5\" >0.1079</td>\n",
              "    </tr>\n",
              "    <tr>\n",
              "      <th id=\"T_ff0ce_level0_row8\" class=\"row_heading level0 row8\" >8</th>\n",
              "      <td id=\"T_ff0ce_row8_col0\" class=\"data row8 col0\" >0.1476</td>\n",
              "      <td id=\"T_ff0ce_row8_col1\" class=\"data row8 col1\" >0.0323</td>\n",
              "      <td id=\"T_ff0ce_row8_col2\" class=\"data row8 col2\" >0.1797</td>\n",
              "      <td id=\"T_ff0ce_row8_col3\" class=\"data row8 col3\" >0.3751</td>\n",
              "      <td id=\"T_ff0ce_row8_col4\" class=\"data row8 col4\" >0.0706</td>\n",
              "      <td id=\"T_ff0ce_row8_col5\" class=\"data row8 col5\" >0.0973</td>\n",
              "    </tr>\n",
              "    <tr>\n",
              "      <th id=\"T_ff0ce_level0_row9\" class=\"row_heading level0 row9\" >9</th>\n",
              "      <td id=\"T_ff0ce_row9_col0\" class=\"data row9 col0\" >0.1230</td>\n",
              "      <td id=\"T_ff0ce_row9_col1\" class=\"data row9 col1\" >0.0242</td>\n",
              "      <td id=\"T_ff0ce_row9_col2\" class=\"data row9 col2\" >0.1554</td>\n",
              "      <td id=\"T_ff0ce_row9_col3\" class=\"data row9 col3\" >0.7431</td>\n",
              "      <td id=\"T_ff0ce_row9_col4\" class=\"data row9 col4\" >0.0544</td>\n",
              "      <td id=\"T_ff0ce_row9_col5\" class=\"data row9 col5\" >0.0703</td>\n",
              "    </tr>\n",
              "    <tr>\n",
              "      <th id=\"T_ff0ce_level0_row10\" class=\"row_heading level0 row10\" >Mean</th>\n",
              "      <td id=\"T_ff0ce_row10_col0\" class=\"data row10 col0\" >0.1764</td>\n",
              "      <td id=\"T_ff0ce_row10_col1\" class=\"data row10 col1\" >0.0530</td>\n",
              "      <td id=\"T_ff0ce_row10_col2\" class=\"data row10 col2\" >0.2196</td>\n",
              "      <td id=\"T_ff0ce_row10_col3\" class=\"data row10 col3\" >0.2297</td>\n",
              "      <td id=\"T_ff0ce_row10_col4\" class=\"data row10 col4\" >0.0860</td>\n",
              "      <td id=\"T_ff0ce_row10_col5\" class=\"data row10 col5\" >0.1174</td>\n",
              "    </tr>\n",
              "    <tr>\n",
              "      <th id=\"T_ff0ce_level0_row11\" class=\"row_heading level0 row11\" >Std</th>\n",
              "      <td id=\"T_ff0ce_row11_col0\" class=\"data row11 col0\" >0.0547</td>\n",
              "      <td id=\"T_ff0ce_row11_col1\" class=\"data row11 col1\" >0.0321</td>\n",
              "      <td id=\"T_ff0ce_row11_col2\" class=\"data row11 col2\" >0.0689</td>\n",
              "      <td id=\"T_ff0ce_row11_col3\" class=\"data row11 col3\" >0.3964</td>\n",
              "      <td id=\"T_ff0ce_row11_col4\" class=\"data row11 col4\" >0.0285</td>\n",
              "      <td id=\"T_ff0ce_row11_col5\" class=\"data row11 col5\" >0.0439</td>\n",
              "    </tr>\n",
              "  </tbody>\n",
              "</table>\n"
            ]
          },
          "metadata": {}
        },
        {
          "output_type": "display_data",
          "data": {
            "text/plain": [
              "Processing:   0%|          | 0/4 [00:00<?, ?it/s]"
            ],
            "application/vnd.jupyter.widget-view+json": {
              "version_major": 2,
              "version_minor": 0,
              "model_id": "bbbacdf586aa46f2935df79c01d511e8"
            }
          },
          "metadata": {
            "application/vnd.jupyter.widget-view+json": {
              "colab": {
                "custom_widget_manager": {
                  "url": "https://ssl.gstatic.com/colaboratory-static/widgets/colab-cdn-widget-manager/b3e629b1971e1542/manager.min.js"
                }
              }
            }
          }
        },
        {
          "output_type": "display_data",
          "data": {
            "text/plain": [
              "<IPython.core.display.HTML object>"
            ],
            "text/html": []
          },
          "metadata": {}
        }
      ]
    },
    {
      "cell_type": "code",
      "source": [
        "param_grid = {\n",
        "    'learning_rate': [0.1, 0.01, 0.001],\n",
        "    'n_estimators': [300],\n",
        "    'max_depth': [3, 4, 5],\n",
        "    'subsample': [0.6, 0.7, 0.8],\n",
        "    'colsample_bytree': [0.6,0.7, 0.8],\n",
        "}\n",
        "\n",
        "tuned_xg = tune_model(xg, custom_grid = param_grid,n_iter = 150, fold = 5, optimize= 'RMSE', choose_better = True, early_stopping = True)"
      ],
      "metadata": {
        "colab": {
          "base_uri": "https://localhost:8080/",
          "height": 317,
          "referenced_widgets": [
            "b52fe9a8463d4a929b18ee35757118f9",
            "914aee18754e41a09c9ad2c21e3b8b81",
            "c22d5a4cf2354d45b61b28918b4a9e94",
            "a32ac446923848a1a77200968c4b9888",
            "6cb7435739e149998f547df62032ad27",
            "dab8938fe9254ad48e184ae36591fcfa",
            "c2dfba40f5ac4691bf0d2f00442f3c36",
            "a15dde2600cc498cae8de76c01d79a6f",
            "55e1083443f946e5945f911641fbe44c",
            "047cb367af204bf6b5d53193bdcfb4b3",
            "929c261fa65241cbb8058542cb63d933"
          ]
        },
        "id": "eZ9K2VMuhi08",
        "outputId": "4befa7b4-e817-4600-f38f-97d067a2dae2"
      },
      "execution_count": null,
      "outputs": [
        {
          "output_type": "display_data",
          "data": {
            "text/plain": [
              "<IPython.core.display.HTML object>"
            ],
            "text/html": []
          },
          "metadata": {}
        },
        {
          "output_type": "display_data",
          "data": {
            "text/plain": [
              "<pandas.io.formats.style.Styler at 0x7fbf415c38b0>"
            ],
            "text/html": [
              "<style type=\"text/css\">\n",
              "#T_437a6_row5_col0, #T_437a6_row5_col1, #T_437a6_row5_col2, #T_437a6_row5_col3, #T_437a6_row5_col4, #T_437a6_row5_col5 {\n",
              "  background: yellow;\n",
              "}\n",
              "</style>\n",
              "<table id=\"T_437a6\" class=\"dataframe\">\n",
              "  <thead>\n",
              "    <tr>\n",
              "      <th class=\"blank level0\" >&nbsp;</th>\n",
              "      <th id=\"T_437a6_level0_col0\" class=\"col_heading level0 col0\" >MAE</th>\n",
              "      <th id=\"T_437a6_level0_col1\" class=\"col_heading level0 col1\" >MSE</th>\n",
              "      <th id=\"T_437a6_level0_col2\" class=\"col_heading level0 col2\" >RMSE</th>\n",
              "      <th id=\"T_437a6_level0_col3\" class=\"col_heading level0 col3\" >R2</th>\n",
              "      <th id=\"T_437a6_level0_col4\" class=\"col_heading level0 col4\" >RMSLE</th>\n",
              "      <th id=\"T_437a6_level0_col5\" class=\"col_heading level0 col5\" >MAPE</th>\n",
              "    </tr>\n",
              "    <tr>\n",
              "      <th class=\"index_name level0\" >Fold</th>\n",
              "      <th class=\"blank col0\" >&nbsp;</th>\n",
              "      <th class=\"blank col1\" >&nbsp;</th>\n",
              "      <th class=\"blank col2\" >&nbsp;</th>\n",
              "      <th class=\"blank col3\" >&nbsp;</th>\n",
              "      <th class=\"blank col4\" >&nbsp;</th>\n",
              "      <th class=\"blank col5\" >&nbsp;</th>\n",
              "    </tr>\n",
              "  </thead>\n",
              "  <tbody>\n",
              "    <tr>\n",
              "      <th id=\"T_437a6_level0_row0\" class=\"row_heading level0 row0\" >0</th>\n",
              "      <td id=\"T_437a6_row0_col0\" class=\"data row0 col0\" >0.1462</td>\n",
              "      <td id=\"T_437a6_row0_col1\" class=\"data row0 col1\" >0.0406</td>\n",
              "      <td id=\"T_437a6_row0_col2\" class=\"data row0 col2\" >0.2015</td>\n",
              "      <td id=\"T_437a6_row0_col3\" class=\"data row0 col3\" >0.5124</td>\n",
              "      <td id=\"T_437a6_row0_col4\" class=\"data row0 col4\" >0.0743</td>\n",
              "      <td id=\"T_437a6_row0_col5\" class=\"data row0 col5\" >0.0860</td>\n",
              "    </tr>\n",
              "    <tr>\n",
              "      <th id=\"T_437a6_level0_row1\" class=\"row_heading level0 row1\" >1</th>\n",
              "      <td id=\"T_437a6_row1_col0\" class=\"data row1 col0\" >0.1689</td>\n",
              "      <td id=\"T_437a6_row1_col1\" class=\"data row1 col1\" >0.0407</td>\n",
              "      <td id=\"T_437a6_row1_col2\" class=\"data row1 col2\" >0.2017</td>\n",
              "      <td id=\"T_437a6_row1_col3\" class=\"data row1 col3\" >0.4460</td>\n",
              "      <td id=\"T_437a6_row1_col4\" class=\"data row1 col4\" >0.0799</td>\n",
              "      <td id=\"T_437a6_row1_col5\" class=\"data row1 col5\" >0.1150</td>\n",
              "    </tr>\n",
              "    <tr>\n",
              "      <th id=\"T_437a6_level0_row2\" class=\"row_heading level0 row2\" >2</th>\n",
              "      <td id=\"T_437a6_row2_col0\" class=\"data row2 col0\" >0.1829</td>\n",
              "      <td id=\"T_437a6_row2_col1\" class=\"data row2 col1\" >0.0601</td>\n",
              "      <td id=\"T_437a6_row2_col2\" class=\"data row2 col2\" >0.2452</td>\n",
              "      <td id=\"T_437a6_row2_col3\" class=\"data row2 col3\" >0.1063</td>\n",
              "      <td id=\"T_437a6_row2_col4\" class=\"data row2 col4\" >0.0972</td>\n",
              "      <td id=\"T_437a6_row2_col5\" class=\"data row2 col5\" >0.1265</td>\n",
              "    </tr>\n",
              "    <tr>\n",
              "      <th id=\"T_437a6_level0_row3\" class=\"row_heading level0 row3\" >3</th>\n",
              "      <td id=\"T_437a6_row3_col0\" class=\"data row3 col0\" >0.1989</td>\n",
              "      <td id=\"T_437a6_row3_col1\" class=\"data row3 col1\" >0.0577</td>\n",
              "      <td id=\"T_437a6_row3_col2\" class=\"data row3 col2\" >0.2402</td>\n",
              "      <td id=\"T_437a6_row3_col3\" class=\"data row3 col3\" >0.1637</td>\n",
              "      <td id=\"T_437a6_row3_col4\" class=\"data row3 col4\" >0.0952</td>\n",
              "      <td id=\"T_437a6_row3_col5\" class=\"data row3 col5\" >0.1323</td>\n",
              "    </tr>\n",
              "    <tr>\n",
              "      <th id=\"T_437a6_level0_row4\" class=\"row_heading level0 row4\" >4</th>\n",
              "      <td id=\"T_437a6_row4_col0\" class=\"data row4 col0\" >0.1205</td>\n",
              "      <td id=\"T_437a6_row4_col1\" class=\"data row4 col1\" >0.0256</td>\n",
              "      <td id=\"T_437a6_row4_col2\" class=\"data row4 col2\" >0.1599</td>\n",
              "      <td id=\"T_437a6_row4_col3\" class=\"data row4 col3\" >0.6522</td>\n",
              "      <td id=\"T_437a6_row4_col4\" class=\"data row4 col4\" >0.0579</td>\n",
              "      <td id=\"T_437a6_row4_col5\" class=\"data row4 col5\" >0.0714</td>\n",
              "    </tr>\n",
              "    <tr>\n",
              "      <th id=\"T_437a6_level0_row5\" class=\"row_heading level0 row5\" >Mean</th>\n",
              "      <td id=\"T_437a6_row5_col0\" class=\"data row5 col0\" >0.1635</td>\n",
              "      <td id=\"T_437a6_row5_col1\" class=\"data row5 col1\" >0.0449</td>\n",
              "      <td id=\"T_437a6_row5_col2\" class=\"data row5 col2\" >0.2097</td>\n",
              "      <td id=\"T_437a6_row5_col3\" class=\"data row5 col3\" >0.3761</td>\n",
              "      <td id=\"T_437a6_row5_col4\" class=\"data row5 col4\" >0.0809</td>\n",
              "      <td id=\"T_437a6_row5_col5\" class=\"data row5 col5\" >0.1062</td>\n",
              "    </tr>\n",
              "    <tr>\n",
              "      <th id=\"T_437a6_level0_row6\" class=\"row_heading level0 row6\" >Std</th>\n",
              "      <td id=\"T_437a6_row6_col0\" class=\"data row6 col0\" >0.0276</td>\n",
              "      <td id=\"T_437a6_row6_col1\" class=\"data row6 col1\" >0.0127</td>\n",
              "      <td id=\"T_437a6_row6_col2\" class=\"data row6 col2\" >0.0310</td>\n",
              "      <td id=\"T_437a6_row6_col3\" class=\"data row6 col3\" >0.2086</td>\n",
              "      <td id=\"T_437a6_row6_col4\" class=\"data row6 col4\" >0.0145</td>\n",
              "      <td id=\"T_437a6_row6_col5\" class=\"data row6 col5\" >0.0236</td>\n",
              "    </tr>\n",
              "  </tbody>\n",
              "</table>\n"
            ]
          },
          "metadata": {}
        },
        {
          "output_type": "display_data",
          "data": {
            "text/plain": [
              "Processing:   0%|          | 0/7 [00:00<?, ?it/s]"
            ],
            "application/vnd.jupyter.widget-view+json": {
              "version_major": 2,
              "version_minor": 0,
              "model_id": "b52fe9a8463d4a929b18ee35757118f9"
            }
          },
          "metadata": {
            "application/vnd.jupyter.widget-view+json": {
              "colab": {
                "custom_widget_manager": {
                  "url": "https://ssl.gstatic.com/colaboratory-static/widgets/colab-cdn-widget-manager/b3e629b1971e1542/manager.min.js"
                }
              }
            }
          }
        },
        {
          "output_type": "stream",
          "name": "stdout",
          "text": [
            "Fitting 5 folds for each of 81 candidates, totalling 405 fits\n"
          ]
        },
        {
          "output_type": "display_data",
          "data": {
            "text/plain": [
              "<IPython.core.display.HTML object>"
            ],
            "text/html": []
          },
          "metadata": {}
        }
      ]
    },
    {
      "cell_type": "code",
      "source": [
        "pred_holdout = predict_model(tuned_xg)"
      ],
      "metadata": {
        "colab": {
          "base_uri": "https://localhost:8080/",
          "height": 81
        },
        "id": "jc6cq1gghwmu",
        "outputId": "83d6548a-40ac-4981-8462-4c9f873416ba"
      },
      "execution_count": null,
      "outputs": [
        {
          "output_type": "display_data",
          "data": {
            "text/plain": [
              "<pandas.io.formats.style.Styler at 0x7fbf86844f10>"
            ],
            "text/html": [
              "<style type=\"text/css\">\n",
              "</style>\n",
              "<table id=\"T_3230f\" class=\"dataframe\">\n",
              "  <thead>\n",
              "    <tr>\n",
              "      <th class=\"blank level0\" >&nbsp;</th>\n",
              "      <th id=\"T_3230f_level0_col0\" class=\"col_heading level0 col0\" >Model</th>\n",
              "      <th id=\"T_3230f_level0_col1\" class=\"col_heading level0 col1\" >MAE</th>\n",
              "      <th id=\"T_3230f_level0_col2\" class=\"col_heading level0 col2\" >MSE</th>\n",
              "      <th id=\"T_3230f_level0_col3\" class=\"col_heading level0 col3\" >RMSE</th>\n",
              "      <th id=\"T_3230f_level0_col4\" class=\"col_heading level0 col4\" >R2</th>\n",
              "      <th id=\"T_3230f_level0_col5\" class=\"col_heading level0 col5\" >RMSLE</th>\n",
              "      <th id=\"T_3230f_level0_col6\" class=\"col_heading level0 col6\" >MAPE</th>\n",
              "    </tr>\n",
              "  </thead>\n",
              "  <tbody>\n",
              "    <tr>\n",
              "      <th id=\"T_3230f_level0_row0\" class=\"row_heading level0 row0\" >0</th>\n",
              "      <td id=\"T_3230f_row0_col0\" class=\"data row0 col0\" >Extreme Gradient Boosting</td>\n",
              "      <td id=\"T_3230f_row0_col1\" class=\"data row0 col1\" >0.1537</td>\n",
              "      <td id=\"T_3230f_row0_col2\" class=\"data row0 col2\" >0.0516</td>\n",
              "      <td id=\"T_3230f_row0_col3\" class=\"data row0 col3\" >0.2271</td>\n",
              "      <td id=\"T_3230f_row0_col4\" class=\"data row0 col4\" >0.4496</td>\n",
              "      <td id=\"T_3230f_row0_col5\" class=\"data row0 col5\" >0.0876</td>\n",
              "      <td id=\"T_3230f_row0_col6\" class=\"data row0 col6\" >0.1013</td>\n",
              "    </tr>\n",
              "  </tbody>\n",
              "</table>\n"
            ]
          },
          "metadata": {}
        }
      ]
    },
    {
      "cell_type": "code",
      "source": [
        "tuned_xg"
      ],
      "metadata": {
        "id": "952iCQYkufJ3",
        "outputId": "ce48cc92-ff8e-420e-c0a9-8040590b4733",
        "colab": {
          "base_uri": "https://localhost:8080/",
          "height": 248
        }
      },
      "execution_count": null,
      "outputs": [
        {
          "output_type": "execute_result",
          "data": {
            "text/plain": [
              "XGBRegressor(base_score=None, booster='gbtree', callbacks=None,\n",
              "             colsample_bylevel=None, colsample_bynode=None,\n",
              "             colsample_bytree=0.6, early_stopping_rounds=None,\n",
              "             enable_categorical=False, eval_metric=None, feature_types=None,\n",
              "             gamma=None, gpu_id=None, grow_policy=None, importance_type=None,\n",
              "             interaction_constraints=None, learning_rate=0.1, max_bin=None,\n",
              "             max_cat_threshold=None, max_cat_to_onehot=None,\n",
              "             max_delta_step=None, max_depth=5, max_leaves=None,\n",
              "             min_child_weight=None, missing=nan, monotone_constraints=None,\n",
              "             n_estimators=300, n_jobs=-1, num_parallel_tree=None,\n",
              "             predictor=None, random_state=888, ...)"
            ],
            "text/html": [
              "<style>#sk-container-id-1 {color: black;background-color: white;}#sk-container-id-1 pre{padding: 0;}#sk-container-id-1 div.sk-toggleable {background-color: white;}#sk-container-id-1 label.sk-toggleable__label {cursor: pointer;display: block;width: 100%;margin-bottom: 0;padding: 0.3em;box-sizing: border-box;text-align: center;}#sk-container-id-1 label.sk-toggleable__label-arrow:before {content: \"▸\";float: left;margin-right: 0.25em;color: #696969;}#sk-container-id-1 label.sk-toggleable__label-arrow:hover:before {color: black;}#sk-container-id-1 div.sk-estimator:hover label.sk-toggleable__label-arrow:before {color: black;}#sk-container-id-1 div.sk-toggleable__content {max-height: 0;max-width: 0;overflow: hidden;text-align: left;background-color: #f0f8ff;}#sk-container-id-1 div.sk-toggleable__content pre {margin: 0.2em;color: black;border-radius: 0.25em;background-color: #f0f8ff;}#sk-container-id-1 input.sk-toggleable__control:checked~div.sk-toggleable__content {max-height: 200px;max-width: 100%;overflow: auto;}#sk-container-id-1 input.sk-toggleable__control:checked~label.sk-toggleable__label-arrow:before {content: \"▾\";}#sk-container-id-1 div.sk-estimator input.sk-toggleable__control:checked~label.sk-toggleable__label {background-color: #d4ebff;}#sk-container-id-1 div.sk-label input.sk-toggleable__control:checked~label.sk-toggleable__label {background-color: #d4ebff;}#sk-container-id-1 input.sk-hidden--visually {border: 0;clip: rect(1px 1px 1px 1px);clip: rect(1px, 1px, 1px, 1px);height: 1px;margin: -1px;overflow: hidden;padding: 0;position: absolute;width: 1px;}#sk-container-id-1 div.sk-estimator {font-family: monospace;background-color: #f0f8ff;border: 1px dotted black;border-radius: 0.25em;box-sizing: border-box;margin-bottom: 0.5em;}#sk-container-id-1 div.sk-estimator:hover {background-color: #d4ebff;}#sk-container-id-1 div.sk-parallel-item::after {content: \"\";width: 100%;border-bottom: 1px solid gray;flex-grow: 1;}#sk-container-id-1 div.sk-label:hover label.sk-toggleable__label {background-color: #d4ebff;}#sk-container-id-1 div.sk-serial::before {content: \"\";position: absolute;border-left: 1px solid gray;box-sizing: border-box;top: 0;bottom: 0;left: 50%;z-index: 0;}#sk-container-id-1 div.sk-serial {display: flex;flex-direction: column;align-items: center;background-color: white;padding-right: 0.2em;padding-left: 0.2em;position: relative;}#sk-container-id-1 div.sk-item {position: relative;z-index: 1;}#sk-container-id-1 div.sk-parallel {display: flex;align-items: stretch;justify-content: center;background-color: white;position: relative;}#sk-container-id-1 div.sk-item::before, #sk-container-id-1 div.sk-parallel-item::before {content: \"\";position: absolute;border-left: 1px solid gray;box-sizing: border-box;top: 0;bottom: 0;left: 50%;z-index: -1;}#sk-container-id-1 div.sk-parallel-item {display: flex;flex-direction: column;z-index: 1;position: relative;background-color: white;}#sk-container-id-1 div.sk-parallel-item:first-child::after {align-self: flex-end;width: 50%;}#sk-container-id-1 div.sk-parallel-item:last-child::after {align-self: flex-start;width: 50%;}#sk-container-id-1 div.sk-parallel-item:only-child::after {width: 0;}#sk-container-id-1 div.sk-dashed-wrapped {border: 1px dashed gray;margin: 0 0.4em 0.5em 0.4em;box-sizing: border-box;padding-bottom: 0.4em;background-color: white;}#sk-container-id-1 div.sk-label label {font-family: monospace;font-weight: bold;display: inline-block;line-height: 1.2em;}#sk-container-id-1 div.sk-label-container {text-align: center;}#sk-container-id-1 div.sk-container {/* jupyter's `normalize.less` sets `[hidden] { display: none; }` but bootstrap.min.css set `[hidden] { display: none !important; }` so we also need the `!important` here to be able to override the default hidden behavior on the sphinx rendered scikit-learn.org. See: https://github.com/scikit-learn/scikit-learn/issues/21755 */display: inline-block !important;position: relative;}#sk-container-id-1 div.sk-text-repr-fallback {display: none;}</style><div id=\"sk-container-id-1\" class=\"sk-top-container\"><div class=\"sk-text-repr-fallback\"><pre>XGBRegressor(base_score=None, booster=&#x27;gbtree&#x27;, callbacks=None,\n",
              "             colsample_bylevel=None, colsample_bynode=None,\n",
              "             colsample_bytree=0.6, early_stopping_rounds=None,\n",
              "             enable_categorical=False, eval_metric=None, feature_types=None,\n",
              "             gamma=None, gpu_id=None, grow_policy=None, importance_type=None,\n",
              "             interaction_constraints=None, learning_rate=0.1, max_bin=None,\n",
              "             max_cat_threshold=None, max_cat_to_onehot=None,\n",
              "             max_delta_step=None, max_depth=5, max_leaves=None,\n",
              "             min_child_weight=None, missing=nan, monotone_constraints=None,\n",
              "             n_estimators=300, n_jobs=-1, num_parallel_tree=None,\n",
              "             predictor=None, random_state=888, ...)</pre><b>In a Jupyter environment, please rerun this cell to show the HTML representation or trust the notebook. <br />On GitHub, the HTML representation is unable to render, please try loading this page with nbviewer.org.</b></div><div class=\"sk-container\" hidden><div class=\"sk-item\"><div class=\"sk-estimator sk-toggleable\"><input class=\"sk-toggleable__control sk-hidden--visually\" id=\"sk-estimator-id-1\" type=\"checkbox\" checked><label for=\"sk-estimator-id-1\" class=\"sk-toggleable__label sk-toggleable__label-arrow\">XGBRegressor</label><div class=\"sk-toggleable__content\"><pre>XGBRegressor(base_score=None, booster=&#x27;gbtree&#x27;, callbacks=None,\n",
              "             colsample_bylevel=None, colsample_bynode=None,\n",
              "             colsample_bytree=0.6, early_stopping_rounds=None,\n",
              "             enable_categorical=False, eval_metric=None, feature_types=None,\n",
              "             gamma=None, gpu_id=None, grow_policy=None, importance_type=None,\n",
              "             interaction_constraints=None, learning_rate=0.1, max_bin=None,\n",
              "             max_cat_threshold=None, max_cat_to_onehot=None,\n",
              "             max_delta_step=None, max_depth=5, max_leaves=None,\n",
              "             min_child_weight=None, missing=nan, monotone_constraints=None,\n",
              "             n_estimators=300, n_jobs=-1, num_parallel_tree=None,\n",
              "             predictor=None, random_state=888, ...)</pre></div></div></div></div></div>"
            ]
          },
          "metadata": {},
          "execution_count": 21
        }
      ]
    },
    {
      "cell_type": "code",
      "source": [
        "pred_holdout"
      ],
      "metadata": {
        "id": "13kFVlWbn0YN"
      },
      "execution_count": null,
      "outputs": []
    },
    {
      "cell_type": "code",
      "source": [
        "save_model(tuned_xg, '/content/drive/MyDrive/Capstone Project/Ace Advisory/saved_tuned_xg_model_2023_07_10')"
      ],
      "metadata": {
        "colab": {
          "base_uri": "https://localhost:8080/"
        },
        "id": "RQtOlowBvEWc",
        "outputId": "27597d07-829b-46ff-f1bc-6d8ca4333ff2"
      },
      "execution_count": null,
      "outputs": [
        {
          "output_type": "stream",
          "name": "stdout",
          "text": [
            "Transformation Pipeline and Model Successfully Saved\n"
          ]
        },
        {
          "output_type": "execute_result",
          "data": {
            "text/plain": [
              "(Pipeline(memory=FastMemory(location=/tmp/joblib),\n",
              "          steps=[('numerical_imputer',\n",
              "                  TransformerWrapper(include=['SoilMoisture', 'Average_Temp',\n",
              "                                              'Min_Temp', 'Max_Temp',\n",
              "                                              'Precipitation', 'Working_days',\n",
              "                                              'HA_Harvested', 'SoilMoisture_ma',\n",
              "                                              'Average_Temp_ma',\n",
              "                                              'Precipitation_ma', 'Max_Temp_ma',\n",
              "                                              'Min_Temp_ma', 'Max_min_Temp',\n",
              "                                              'Max_min_Temp_ma'],\n",
              "                                     transformer=SimpleImputer())),...\n",
              "                               feature_types=None, gamma=None, gpu_id=None,\n",
              "                               grow_policy=None, importance_type=None,\n",
              "                               interaction_constraints=None, learning_rate=0.1,\n",
              "                               max_bin=None, max_cat_threshold=None,\n",
              "                               max_cat_to_onehot=None, max_delta_step=None,\n",
              "                               max_depth=5, max_leaves=None,\n",
              "                               min_child_weight=None, missing=nan,\n",
              "                               monotone_constraints=None, n_estimators=300,\n",
              "                               n_jobs=-1, num_parallel_tree=None, predictor=None,\n",
              "                               random_state=888, ...))]),\n",
              " '/content/drive/MyDrive/Capstone Project/Ace Advisory/saved_tuned_xg_model_2023_07_10.pkl')"
            ]
          },
          "metadata": {},
          "execution_count": 18
        }
      ]
    },
    {
      "cell_type": "code",
      "source": [
        "X_train_trans = get_config('X_train_transformed')\n",
        "y_train_trans = get_config('y_train_transformed')\n",
        "X = get_config('X')\n",
        "y = get_config('y')\n",
        "y_train = get_config('y_train')\n",
        "X_train = get_config('X_train')\n",
        "ori_data =  get_config('data')\n",
        "X_test = get_config('X_test')"
      ],
      "metadata": {
        "id": "rGNFtFET3PWj"
      },
      "execution_count": null,
      "outputs": []
    },
    {
      "cell_type": "code",
      "source": [
        "get_config()"
      ],
      "metadata": {
        "id": "fwzJbLWnbpxM"
      },
      "execution_count": null,
      "outputs": []
    },
    {
      "cell_type": "code",
      "source": [
        "save_experiment('/content/drive/MyDrive/Capstone Project/Ace Advisory/et_expriment_20230709')"
      ],
      "metadata": {
        "id": "Bk9kYL3x3TfI"
      },
      "execution_count": null,
      "outputs": []
    },
    {
      "cell_type": "code",
      "source": [
        "load_experiment('/content/drive/MyDrive/Capstone Project/Ace Advisory/et_expriment_20230709', data = filtered_df)"
      ],
      "metadata": {
        "id": "4daau7KmhDRz"
      },
      "execution_count": null,
      "outputs": []
    },
    {
      "cell_type": "code",
      "source": [
        "# Get feature importances\n",
        "importances = tuned_xg.feature_importances_\n",
        "\n",
        "# Create a DataFrame with feature names and importances\n",
        "feature_importances = pd.DataFrame({'Feature': X_train_trans.columns, 'Importance': importances})\n",
        "\n",
        "# Sort the DataFrame by importance in descending order\n",
        "feature_importances = feature_importances.sort_values('Importance', ascending=False)\n",
        "\n",
        "# Print the feature importances\n",
        "print(feature_importances)"
      ],
      "metadata": {
        "colab": {
          "base_uri": "https://localhost:8080/"
        },
        "id": "bYIy0dvP3VZh",
        "outputId": "73bf3d55-2e23-4b82-ed6f-90354de4d43a"
      },
      "execution_count": null,
      "outputs": [
        {
          "output_type": "stream",
          "name": "stdout",
          "text": [
            "            Feature  Importance\n",
            "3      HA_Harvested    0.275275\n",
            "4   Average_Temp_ma    0.210874\n",
            "2     Precipitation    0.143120\n",
            "6       Min_Temp_ma    0.114989\n",
            "1      Average_Temp    0.086506\n",
            "5  Precipitation_ma    0.067938\n",
            "7   Max_min_Temp_ma    0.052902\n",
            "0      SoilMoisture    0.048395\n"
          ]
        }
      ]
    },
    {
      "cell_type": "code",
      "source": [
        "X2 = X_test[X_train_trans.columns]"
      ],
      "metadata": {
        "id": "0smEIW6gfN8v"
      },
      "execution_count": null,
      "outputs": []
    },
    {
      "cell_type": "code",
      "source": [
        "X2.tail()"
      ],
      "metadata": {
        "colab": {
          "base_uri": "https://localhost:8080/",
          "height": 206
        },
        "id": "-4QdVHEFfTvo",
        "outputId": "b802c5eb-10b8-43ec-cf6d-928bf5a0c267"
      },
      "execution_count": null,
      "outputs": [
        {
          "output_type": "execute_result",
          "data": {
            "text/plain": [
              "     SoilMoisture  Average_Temp  Precipitation  HA_Harvested  Average_Temp_ma  \\\n",
              "17     474.899994     27.600000     103.099998   827699.3750        26.962061   \n",
              "118    592.900024     26.530001     327.299988   760970.5000        27.039194   \n",
              "83     619.400024     25.996775     374.899994   683431.9375        26.537043   \n",
              "93     467.100006     27.735483     186.399994   748523.6875        27.181810   \n",
              "91     481.500000     26.716129     257.799988   778257.8750        27.159391   \n",
              "\n",
              "     Precipitation_ma  Min_Temp_ma  Max_min_Temp_ma  \n",
              "17         141.116669    21.583334         1.570861  \n",
              "118        206.866669    21.350000         1.598693  \n",
              "83         239.149994    21.283333         1.562359  \n",
              "93         157.149994    21.216667         1.608298  \n",
              "91         153.283340    21.549999         1.575095  "
            ],
            "text/html": [
              "\n",
              "  <div id=\"df-04af7212-e3ff-4694-88ef-968474762988\">\n",
              "    <div class=\"colab-df-container\">\n",
              "      <div>\n",
              "<style scoped>\n",
              "    .dataframe tbody tr th:only-of-type {\n",
              "        vertical-align: middle;\n",
              "    }\n",
              "\n",
              "    .dataframe tbody tr th {\n",
              "        vertical-align: top;\n",
              "    }\n",
              "\n",
              "    .dataframe thead th {\n",
              "        text-align: right;\n",
              "    }\n",
              "</style>\n",
              "<table border=\"1\" class=\"dataframe\">\n",
              "  <thead>\n",
              "    <tr style=\"text-align: right;\">\n",
              "      <th></th>\n",
              "      <th>SoilMoisture</th>\n",
              "      <th>Average_Temp</th>\n",
              "      <th>Precipitation</th>\n",
              "      <th>HA_Harvested</th>\n",
              "      <th>Average_Temp_ma</th>\n",
              "      <th>Precipitation_ma</th>\n",
              "      <th>Min_Temp_ma</th>\n",
              "      <th>Max_min_Temp_ma</th>\n",
              "    </tr>\n",
              "  </thead>\n",
              "  <tbody>\n",
              "    <tr>\n",
              "      <th>17</th>\n",
              "      <td>474.899994</td>\n",
              "      <td>27.600000</td>\n",
              "      <td>103.099998</td>\n",
              "      <td>827699.3750</td>\n",
              "      <td>26.962061</td>\n",
              "      <td>141.116669</td>\n",
              "      <td>21.583334</td>\n",
              "      <td>1.570861</td>\n",
              "    </tr>\n",
              "    <tr>\n",
              "      <th>118</th>\n",
              "      <td>592.900024</td>\n",
              "      <td>26.530001</td>\n",
              "      <td>327.299988</td>\n",
              "      <td>760970.5000</td>\n",
              "      <td>27.039194</td>\n",
              "      <td>206.866669</td>\n",
              "      <td>21.350000</td>\n",
              "      <td>1.598693</td>\n",
              "    </tr>\n",
              "    <tr>\n",
              "      <th>83</th>\n",
              "      <td>619.400024</td>\n",
              "      <td>25.996775</td>\n",
              "      <td>374.899994</td>\n",
              "      <td>683431.9375</td>\n",
              "      <td>26.537043</td>\n",
              "      <td>239.149994</td>\n",
              "      <td>21.283333</td>\n",
              "      <td>1.562359</td>\n",
              "    </tr>\n",
              "    <tr>\n",
              "      <th>93</th>\n",
              "      <td>467.100006</td>\n",
              "      <td>27.735483</td>\n",
              "      <td>186.399994</td>\n",
              "      <td>748523.6875</td>\n",
              "      <td>27.181810</td>\n",
              "      <td>157.149994</td>\n",
              "      <td>21.216667</td>\n",
              "      <td>1.608298</td>\n",
              "    </tr>\n",
              "    <tr>\n",
              "      <th>91</th>\n",
              "      <td>481.500000</td>\n",
              "      <td>26.716129</td>\n",
              "      <td>257.799988</td>\n",
              "      <td>778257.8750</td>\n",
              "      <td>27.159391</td>\n",
              "      <td>153.283340</td>\n",
              "      <td>21.549999</td>\n",
              "      <td>1.575095</td>\n",
              "    </tr>\n",
              "  </tbody>\n",
              "</table>\n",
              "</div>\n",
              "      <button class=\"colab-df-convert\" onclick=\"convertToInteractive('df-04af7212-e3ff-4694-88ef-968474762988')\"\n",
              "              title=\"Convert this dataframe to an interactive table.\"\n",
              "              style=\"display:none;\">\n",
              "        \n",
              "  <svg xmlns=\"http://www.w3.org/2000/svg\" height=\"24px\"viewBox=\"0 0 24 24\"\n",
              "       width=\"24px\">\n",
              "    <path d=\"M0 0h24v24H0V0z\" fill=\"none\"/>\n",
              "    <path d=\"M18.56 5.44l.94 2.06.94-2.06 2.06-.94-2.06-.94-.94-2.06-.94 2.06-2.06.94zm-11 1L8.5 8.5l.94-2.06 2.06-.94-2.06-.94L8.5 2.5l-.94 2.06-2.06.94zm10 10l.94 2.06.94-2.06 2.06-.94-2.06-.94-.94-2.06-.94 2.06-2.06.94z\"/><path d=\"M17.41 7.96l-1.37-1.37c-.4-.4-.92-.59-1.43-.59-.52 0-1.04.2-1.43.59L10.3 9.45l-7.72 7.72c-.78.78-.78 2.05 0 2.83L4 21.41c.39.39.9.59 1.41.59.51 0 1.02-.2 1.41-.59l7.78-7.78 2.81-2.81c.8-.78.8-2.07 0-2.86zM5.41 20L4 18.59l7.72-7.72 1.47 1.35L5.41 20z\"/>\n",
              "  </svg>\n",
              "      </button>\n",
              "      \n",
              "  <style>\n",
              "    .colab-df-container {\n",
              "      display:flex;\n",
              "      flex-wrap:wrap;\n",
              "      gap: 12px;\n",
              "    }\n",
              "\n",
              "    .colab-df-convert {\n",
              "      background-color: #E8F0FE;\n",
              "      border: none;\n",
              "      border-radius: 50%;\n",
              "      cursor: pointer;\n",
              "      display: none;\n",
              "      fill: #1967D2;\n",
              "      height: 32px;\n",
              "      padding: 0 0 0 0;\n",
              "      width: 32px;\n",
              "    }\n",
              "\n",
              "    .colab-df-convert:hover {\n",
              "      background-color: #E2EBFA;\n",
              "      box-shadow: 0px 1px 2px rgba(60, 64, 67, 0.3), 0px 1px 3px 1px rgba(60, 64, 67, 0.15);\n",
              "      fill: #174EA6;\n",
              "    }\n",
              "\n",
              "    [theme=dark] .colab-df-convert {\n",
              "      background-color: #3B4455;\n",
              "      fill: #D2E3FC;\n",
              "    }\n",
              "\n",
              "    [theme=dark] .colab-df-convert:hover {\n",
              "      background-color: #434B5C;\n",
              "      box-shadow: 0px 1px 3px 1px rgba(0, 0, 0, 0.15);\n",
              "      filter: drop-shadow(0px 1px 2px rgba(0, 0, 0, 0.3));\n",
              "      fill: #FFFFFF;\n",
              "    }\n",
              "  </style>\n",
              "\n",
              "      <script>\n",
              "        const buttonEl =\n",
              "          document.querySelector('#df-04af7212-e3ff-4694-88ef-968474762988 button.colab-df-convert');\n",
              "        buttonEl.style.display =\n",
              "          google.colab.kernel.accessAllowed ? 'block' : 'none';\n",
              "\n",
              "        async function convertToInteractive(key) {\n",
              "          const element = document.querySelector('#df-04af7212-e3ff-4694-88ef-968474762988');\n",
              "          const dataTable =\n",
              "            await google.colab.kernel.invokeFunction('convertToInteractive',\n",
              "                                                     [key], {});\n",
              "          if (!dataTable) return;\n",
              "\n",
              "          const docLinkHtml = 'Like what you see? Visit the ' +\n",
              "            '<a target=\"_blank\" href=https://colab.research.google.com/notebooks/data_table.ipynb>data table notebook</a>'\n",
              "            + ' to learn more about interactive tables.';\n",
              "          element.innerHTML = '';\n",
              "          dataTable['output_type'] = 'display_data';\n",
              "          await google.colab.output.renderOutput(dataTable, element);\n",
              "          const docLink = document.createElement('div');\n",
              "          docLink.innerHTML = docLinkHtml;\n",
              "          element.appendChild(docLink);\n",
              "        }\n",
              "      </script>\n",
              "    </div>\n",
              "  </div>\n",
              "  "
            ]
          },
          "metadata": {},
          "execution_count": 163
        }
      ]
    },
    {
      "cell_type": "code",
      "source": [],
      "metadata": {
        "colab": {
          "base_uri": "https://localhost:8080/",
          "height": 17
        },
        "id": "C8k32FwbgQZ-",
        "outputId": "36dbe617-33f0-4e2e-bfa8-3e4f136662d5"
      },
      "execution_count": null,
      "outputs": [
        {
          "output_type": "display_data",
          "data": {
            "text/plain": [
              "<IPython.core.display.HTML object>"
            ],
            "text/html": []
          },
          "metadata": {}
        }
      ]
    },
    {
      "cell_type": "markdown",
      "source": [
        "#***Interpret Model***"
      ],
      "metadata": {
        "id": "okOTXt1_C_Ef"
      }
    },
    {
      "cell_type": "code",
      "source": [],
      "metadata": {
        "id": "T5CGczlchAEf"
      },
      "execution_count": null,
      "outputs": []
    },
    {
      "cell_type": "code",
      "source": [
        "import shap\n",
        "\n",
        "tuned_xg2 = tuned_xg.fit(X2,pred_unseen.prediction_label)"
      ],
      "metadata": {
        "id": "AQA_71Vl54M9"
      },
      "execution_count": null,
      "outputs": []
    },
    {
      "cell_type": "code",
      "source": [
        "explainer = shap.TreeExplainer(tuned_xg2)\n"
      ],
      "metadata": {
        "id": "wgO8ACU4_dl8"
      },
      "execution_count": null,
      "outputs": []
    },
    {
      "cell_type": "code",
      "source": [
        "# calculate shap values. This is what we will plot.\n",
        "# Calculate shap_values for all of val_X rather than a single row, to have more data for plot.\n",
        "shap_values = explainer.shap_values(X2)\n",
        "\n",
        "shap_values_2d = shap_values[0]  # Assuming you want to create a summary plot for the first instance\n",
        "shap_values_2d = shap_values_2d.reshape(1, -1)  # Reshape to a 2D matrix\n",
        "\n",
        "# Make plot. Index of [1] is explained in text below.\n",
        "shap.summary_plot(shap_values, X2)"
      ],
      "metadata": {
        "colab": {
          "base_uri": "https://localhost:8080/",
          "height": 471
        },
        "id": "aaEX6vaRAgBz",
        "outputId": "f32e0918-3de6-4fc7-f5ba-1c5f1060ac5d"
      },
      "execution_count": null,
      "outputs": [
        {
          "output_type": "display_data",
          "data": {
            "text/plain": [
              "<Figure size 800x470 with 2 Axes>"
            ],
            "image/png": "[encoded data removed]"
          },
          "metadata": {}
        }
      ]
    },
    {
      "cell_type": "code",
      "source": [
        "#Get shap values\n",
        "explainer = shap.Explainer(tuned_xg2, X2)\n",
        "shap_values = explainer(X2)"
      ],
      "metadata": {
        "id": "Z_Z79G5ZAj2u"
      },
      "execution_count": null,
      "outputs": []
    },
    {
      "cell_type": "code",
      "source": [
        "len(shap_values)"
      ],
      "metadata": {
        "colab": {
          "base_uri": "https://localhost:8080/"
        },
        "id": "IMfBL6ZFv8Io",
        "outputId": "9425df07-fa8b-431d-9f60-52b01989fbc3"
      },
      "execution_count": null,
      "outputs": [
        {
          "output_type": "execute_result",
          "data": {
            "text/plain": [
              "31"
            ]
          },
          "metadata": {},
          "execution_count": 159
        }
      ]
    },
    {
      "cell_type": "code",
      "source": [
        "shap.plots.waterfall(shap_values[23])\n"
      ],
      "metadata": {
        "colab": {
          "base_uri": "https://localhost:8080/",
          "height": 537
        },
        "id": "Ce87XpbFElS0",
        "outputId": "e3fca045-65d3-4cca-a95b-66b640e7226f"
      },
      "execution_count": null,
      "outputs": [
        {
          "output_type": "display_data",
          "data": {
            "text/plain": [
              "<Figure size 800x550 with 3 Axes>"
            ],
            "image/png": "[encoded data removed]"
          },
          "metadata": {}
        }
      ]
    },
    {
      "cell_type": "markdown",
      "source": [],
      "metadata": {
        "id": "mtCiSLN9EVKB"
      }
    },
    {
      "cell_type": "code",
      "source": [
        "shap.plots.waterfall(shap_values[8])"
      ],
      "metadata": {
        "colab": {
          "base_uri": "https://localhost:8080/",
          "height": 537
        },
        "id": "6Z2i075oEVYV",
        "outputId": "4d10b22e-8681-40c8-f4fd-0f629ac4e815"
      },
      "execution_count": null,
      "outputs": [
        {
          "output_type": "display_data",
          "data": {
            "text/plain": [
              "<IPython.core.display.HTML object>"
            ],
            "text/html": []
          },
          "metadata": {}
        },
        {
          "output_type": "display_data",
          "data": {
            "text/plain": [
              "<Figure size 800x550 with 3 Axes>"
            ],
            "image/png": "[encoded data removed]"
          },
          "metadata": {}
        }
      ]
    },
    {
      "cell_type": "code",
      "source": [],
      "metadata": {
        "id": "Y7Tsmee9Jin-"
      },
      "execution_count": null,
      "outputs": []
    },
    {
      "cell_type": "code",
      "source": [],
      "metadata": {
        "id": "qzgm13fQAk9F"
      },
      "execution_count": null,
      "outputs": []
    },
    {
      "cell_type": "code",
      "source": [],
      "metadata": {
        "id": "uMSjfJDgA-x7"
      },
      "execution_count": null,
      "outputs": []
    },
    {
      "cell_type": "code",
      "source": [],
      "metadata": {
        "id": "PUdtobmSFIkZ"
      },
      "execution_count": null,
      "outputs": []
    },
    {
      "cell_type": "code",
      "source": [],
      "metadata": {
        "id": "7IwyKqekJKsG"
      },
      "execution_count": null,
      "outputs": []
    }
  ]
}